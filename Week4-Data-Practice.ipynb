{
 "cells": [
  {
   "cell_type": "code",
   "execution_count": 1,
   "metadata": {},
   "outputs": [
    {
     "name": "stderr",
     "output_type": "stream",
     "text": [
      "\u001b[1m\u001b[36mINFO: \u001b[39m\u001b[22m\u001b[36mRecompiling stale cache file /Users/ravikumar/.julia/lib/v0.6/StatsFuns.ji for module StatsFuns.\n",
      "\u001b[39m\u001b[1m\u001b[36mINFO: \u001b[39m\u001b[22m\u001b[36mRecompiling stale cache file /Users/ravikumar/.julia/lib/v0.6/Distributions.ji for module Distributions.\n",
      "\u001b[39m"
     ]
    },
    {
     "data": {
      "text/plain": [
       "200-element Array{Float64,1}:\n",
       " 87.2323\n",
       " 73.3088\n",
       " 79.5758\n",
       " 60.2185\n",
       " 74.8504\n",
       " 58.116 \n",
       " 87.4241\n",
       " 77.8184\n",
       " 81.9798\n",
       " 84.7965\n",
       " 62.5729\n",
       " 76.0959\n",
       " 71.8534\n",
       "  ⋮     \n",
       " 67.7628\n",
       " 91.258 \n",
       " 93.8349\n",
       " 89.1371\n",
       " 98.0824\n",
       " 66.8362\n",
       " 80.3705\n",
       " 50.9477\n",
       " 87.5512\n",
       " 83.0585\n",
       " 62.6625\n",
       " 81.1578"
      ]
     },
     "execution_count": 1,
     "metadata": {},
     "output_type": "execute_result"
    }
   ],
   "source": [
    "using Distributions\n",
    "rand(Normal(80, 10), 200) \n",
    "# What would the the 'theoretical' variance be?"
   ]
  },
  {
   "cell_type": "code",
   "execution_count": 40,
   "metadata": {},
   "outputs": [
    {
     "data": {
      "text/plain": [
       "100-element Array{Float64,1}:\n",
       "  1.21935  \n",
       " -0.595686 \n",
       "  1.81762  \n",
       " -0.264668 \n",
       "  1.15199  \n",
       " -0.536575 \n",
       "  0.35577  \n",
       "  0.920137 \n",
       "  0.839653 \n",
       " -0.719337 \n",
       " -1.8978   \n",
       "  0.0611644\n",
       "  0.889748 \n",
       "  ⋮        \n",
       "  0.480771 \n",
       "  0.550173 \n",
       "  2.39904  \n",
       " -0.763657 \n",
       "  0.294985 \n",
       " -1.22841  \n",
       "  0.750879 \n",
       "  0.494177 \n",
       "  1.44114  \n",
       " -0.55308  \n",
       " -0.198701 \n",
       "  1.18428  "
      ]
     },
     "execution_count": 40,
     "metadata": {},
     "output_type": "execute_result"
    }
   ],
   "source": [
    "norm1 = randn(100)"
   ]
  },
  {
   "cell_type": "code",
   "execution_count": 41,
   "metadata": {},
   "outputs": [
    {
     "data": {
      "text/plain": [
       "0.12384736147734376"
      ]
     },
     "execution_count": 41,
     "metadata": {},
     "output_type": "execute_result"
    }
   ],
   "source": [
    "mean(norm1)"
   ]
  },
  {
   "cell_type": "code",
   "execution_count": 42,
   "metadata": {},
   "outputs": [
    {
     "data": {
      "text/plain": [
       "0.9497908757125308"
      ]
     },
     "execution_count": 42,
     "metadata": {},
     "output_type": "execute_result"
    }
   ],
   "source": [
    "std(norm1)"
   ]
  },
  {
   "cell_type": "code",
   "execution_count": 12,
   "metadata": {},
   "outputs": [
    {
     "data": {
      "text/plain": [
       "-1385181186"
      ]
     },
     "execution_count": 12,
     "metadata": {},
     "output_type": "execute_result"
    }
   ],
   "source": [
    "rand(Int32)"
   ]
  },
  {
   "cell_type": "code",
   "execution_count": 14,
   "metadata": {},
   "outputs": [
    {
     "data": {
      "text/plain": [
       "100-element Array{Float64,1}:\n",
       "  0.613844   \n",
       " -0.0409073  \n",
       " -0.442325   \n",
       " -0.97505    \n",
       "  0.548675   \n",
       " -0.533896   \n",
       " -0.791435   \n",
       "  0.398748   \n",
       "  0.605477   \n",
       "  1.30649    \n",
       " -0.462327   \n",
       " -0.134287   \n",
       " -1.56498    \n",
       "  ⋮          \n",
       " -0.330966   \n",
       " -0.988615   \n",
       "  0.568848   \n",
       "  0.337051   \n",
       "  0.475309   \n",
       "  1.14458    \n",
       " -0.308434   \n",
       "  1.28343    \n",
       " -0.703444   \n",
       " -0.64346    \n",
       " -1.31764    \n",
       " -0.000948989"
      ]
     },
     "execution_count": 14,
     "metadata": {},
     "output_type": "execute_result"
    }
   ],
   "source": [
    "randn(100)"
   ]
  },
  {
   "cell_type": "code",
   "execution_count": 17,
   "metadata": {},
   "outputs": [
    {
     "data": {
      "text/plain": [
       "100-element Array{Float64,1}:\n",
       " -0.380423 \n",
       "  3.14879  \n",
       "  1.76918  \n",
       " -1.34421  \n",
       " -1.24996  \n",
       "  1.8512   \n",
       "  1.94138  \n",
       " -2.23438  \n",
       "  1.86295  \n",
       "  0.618433 \n",
       " -0.356495 \n",
       "  1.29388  \n",
       "  0.267575 \n",
       "  ⋮        \n",
       " -1.81031  \n",
       "  4.23224  \n",
       " -2.48127  \n",
       "  2.53752  \n",
       "  0.753709 \n",
       "  4.57977  \n",
       " -1.40165  \n",
       " -1.93846  \n",
       "  2.71941  \n",
       "  0.0126031\n",
       "  0.0290354\n",
       " -2.24589  "
      ]
     },
     "execution_count": 17,
     "metadata": {},
     "output_type": "execute_result"
    }
   ],
   "source": [
    "rand(Normal(1, 2), 100)"
   ]
  },
  {
   "cell_type": "markdown",
   "metadata": {},
   "source": [
    "What would the theoretical variance (square of the standard deviation) \n",
    " of the following random values be? rand(Normal(80, 10), 200) \n",
    "(Please note that this grader only accepts integer answers!)"
   ]
  },
  {
   "cell_type": "code",
   "execution_count": 2,
   "metadata": {},
   "outputs": [
    {
     "data": {
      "text/plain": [
       "200-element Array{Float64,1}:\n",
       " 84.2312\n",
       " 89.7742\n",
       " 77.2282\n",
       " 83.8442\n",
       " 65.9671\n",
       " 61.9122\n",
       " 73.3173\n",
       " 86.7174\n",
       " 83.8661\n",
       " 79.1355\n",
       " 99.0071\n",
       " 74.4337\n",
       " 84.2387\n",
       "  ⋮     \n",
       " 83.5133\n",
       " 85.5587\n",
       " 92.7278\n",
       " 76.0956\n",
       " 79.7585\n",
       " 79.2083\n",
       " 72.8983\n",
       " 74.5148\n",
       " 58.859 \n",
       " 64.0613\n",
       " 67.3229\n",
       " 77.4661"
      ]
     },
     "execution_count": 2,
     "metadata": {},
     "output_type": "execute_result"
    }
   ],
   "source": [
    "norm2 = rand(Normal(80,10),200)"
   ]
  },
  {
   "cell_type": "code",
   "execution_count": 12,
   "metadata": {},
   "outputs": [
    {
     "data": {
      "text/plain": [
       "9.523144877252063"
      ]
     },
     "execution_count": 12,
     "metadata": {},
     "output_type": "execute_result"
    }
   ],
   "source": [
    "sd = std(norm2)"
   ]
  },
  {
   "cell_type": "code",
   "execution_count": 13,
   "metadata": {},
   "outputs": [
    {
     "data": {
      "text/plain": [
       "90.69028835313222"
      ]
     },
     "execution_count": 13,
     "metadata": {},
     "output_type": "execute_result"
    }
   ],
   "source": [
    "sd2 = sd^2"
   ]
  },
  {
   "cell_type": "markdown",
   "metadata": {},
   "source": [
    "What would the theoretical mean (average) of the following 100 random values be? randn(100) (Please note that this grader only accepts integer answers.)"
   ]
  },
  {
   "cell_type": "code",
   "execution_count": 7,
   "metadata": {},
   "outputs": [
    {
     "data": {
      "text/plain": [
       "100-element Array{Float64,1}:\n",
       " -0.677413 \n",
       " -0.563834 \n",
       " -1.59412  \n",
       " -0.495001 \n",
       "  0.986597 \n",
       " -0.0645509\n",
       "  1.97093  \n",
       "  1.33793  \n",
       "  0.299474 \n",
       "  0.937943 \n",
       " -0.79186  \n",
       " -0.352425 \n",
       "  2.34798  \n",
       "  ⋮        \n",
       " -0.681145 \n",
       "  2.62559  \n",
       "  1.21751  \n",
       "  0.484376 \n",
       "  0.351236 \n",
       " -0.372628 \n",
       "  0.458319 \n",
       "  0.345595 \n",
       "  0.673685 \n",
       "  2.46106  \n",
       " -2.38395  \n",
       "  1.12313  "
      ]
     },
     "execution_count": 7,
     "metadata": {},
     "output_type": "execute_result"
    }
   ],
   "source": [
    "m = randn(100)"
   ]
  },
  {
   "cell_type": "code",
   "execution_count": 8,
   "metadata": {},
   "outputs": [
    {
     "data": {
      "text/plain": [
       "0.11963498109000124"
      ]
     },
     "execution_count": 8,
     "metadata": {},
     "output_type": "execute_result"
    }
   ],
   "source": [
    "me = mean(m)"
   ]
  },
  {
   "cell_type": "code",
   "execution_count": 9,
   "metadata": {},
   "outputs": [
    {
     "data": {
      "text/plain": [
       "-0.033226391597869574"
      ]
     },
     "execution_count": 9,
     "metadata": {},
     "output_type": "execute_result"
    }
   ],
   "source": [
    "mean(randn(100))"
   ]
  },
  {
   "cell_type": "markdown",
   "metadata": {},
   "source": [
    "# Week 4 - Data"
   ]
  },
  {
   "cell_type": "code",
   "execution_count": 10,
   "metadata": {},
   "outputs": [
    {
     "data": {
      "text/plain": [
       "Int64"
      ]
     },
     "execution_count": 10,
     "metadata": {},
     "output_type": "execute_result"
    }
   ],
   "source": [
    "typeof(0)"
   ]
  },
  {
   "cell_type": "code",
   "execution_count": 11,
   "metadata": {},
   "outputs": [
    {
     "data": {
      "text/plain": [
       "Int64"
      ]
     },
     "execution_count": 11,
     "metadata": {},
     "output_type": "execute_result"
    }
   ],
   "source": [
    "typeof(-0)"
   ]
  },
  {
   "cell_type": "code",
   "execution_count": null,
   "metadata": {},
   "outputs": [],
   "source": [
    "randn"
   ]
  }
 ],
 "metadata": {
  "kernelspec": {
   "display_name": "Julia 0.6.4",
   "language": "julia",
   "name": "julia-0.6"
  },
  "language_info": {
   "file_extension": ".jl",
   "mimetype": "application/julia",
   "name": "julia",
   "version": "0.6.4"
  }
 },
 "nbformat": 4,
 "nbformat_minor": 2
}
