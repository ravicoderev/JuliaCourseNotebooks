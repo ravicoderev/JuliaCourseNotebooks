{
 "cells": [
  {
   "cell_type": "code",
   "execution_count": 1,
   "metadata": {},
   "outputs": [
    {
     "data": {
      "text/plain": [
       "2"
      ]
     },
     "execution_count": 1,
     "metadata": {},
     "output_type": "execute_result"
    }
   ],
   "source": [
    "1+1"
   ]
  },
  {
   "cell_type": "code",
   "execution_count": 2,
   "metadata": {},
   "outputs": [
    {
     "data": {
      "text/plain": [
       "4196046"
      ]
     },
     "execution_count": 2,
     "metadata": {},
     "output_type": "execute_result"
    }
   ],
   "source": [
    "2031 * 2066"
   ]
  },
  {
   "cell_type": "code",
   "execution_count": 3,
   "metadata": {},
   "outputs": [
    {
     "name": "stdout",
     "output_type": "stream",
     "text": [
      "Hello World\n"
     ]
    }
   ],
   "source": [
    "println(\"Hello World\")"
   ]
  },
  {
   "cell_type": "code",
   "execution_count": 4,
   "metadata": {},
   "outputs": [
    {
     "ename": "LoadError",
     "evalue": "\u001b[91msyntax: invalid character literal\u001b[39m",
     "output_type": "error",
     "traceback": [
      "\u001b[91msyntax: invalid character literal\u001b[39m",
      ""
     ]
    }
   ],
   "source": [
    "println('Hello, World')"
   ]
  },
  {
   "cell_type": "code",
   "execution_count": 5,
   "metadata": {},
   "outputs": [
    {
     "data": {
      "text/plain": [
       "14"
      ]
     },
     "execution_count": 5,
     "metadata": {},
     "output_type": "execute_result"
    }
   ],
   "source": [
    "5 + 9 # 14"
   ]
  },
  {
   "cell_type": "code",
   "execution_count": 6,
   "metadata": {},
   "outputs": [
    {
     "name": "stdout",
     "output_type": "stream",
     "text": [
      "Hello! My word! Hello! My word! \n"
     ]
    }
   ],
   "source": [
    "println((\"Hello!\" * \" My word! \")^2)"
   ]
  },
  {
   "cell_type": "code",
   "execution_count": 15,
   "metadata": {},
   "outputs": [
    {
     "name": "stdout",
     "output_type": "stream",
     "text": [
      "search: \u001b[1mp\u001b[22m\u001b[1mr\u001b[22m\u001b[1mi\u001b[22m\u001b[1mn\u001b[22m\u001b[1mt\u001b[22m\u001b[1ml\u001b[22m\u001b[1mn\u001b[22m \u001b[1mp\u001b[22m\u001b[1mr\u001b[22m\u001b[1mi\u001b[22m\u001b[1mn\u001b[22m\u001b[1mt\u001b[22m_with_co\u001b[1ml\u001b[22mor \u001b[1mp\u001b[22m\u001b[1mr\u001b[22m\u001b[1mi\u001b[22m\u001b[1mn\u001b[22m\u001b[1mt\u001b[22m \u001b[1mp\u001b[22m\u001b[1mr\u001b[22m\u001b[1mi\u001b[22m\u001b[1mn\u001b[22m\u001b[1mt\u001b[22m_shortest s\u001b[1mp\u001b[22m\u001b[1mr\u001b[22m\u001b[1mi\u001b[22m\u001b[1mn\u001b[22m\u001b[1mt\u001b[22m @\u001b[1mp\u001b[22m\u001b[1mr\u001b[22m\u001b[1mi\u001b[22m\u001b[1mn\u001b[22m\u001b[1mt\u001b[22mf is\u001b[1mp\u001b[22m\u001b[1mr\u001b[22m\u001b[1mi\u001b[22m\u001b[1mn\u001b[22m\u001b[1mt\u001b[22m\n",
      "\n"
     ]
    },
    {
     "data": {
      "text/markdown": [
       "```\n",
       "println(io::IO, xs...)\n",
       "```\n",
       "\n",
       "Print (using [`print`](@ref)) `xs` followed by a newline. If `io` is not supplied, prints to [`STDOUT`](@ref).\n"
      ],
      "text/plain": [
       "```\n",
       "println(io::IO, xs...)\n",
       "```\n",
       "\n",
       "Print (using [`print`](@ref)) `xs` followed by a newline. If `io` is not supplied, prints to [`STDOUT`](@ref).\n"
      ]
     },
     "execution_count": 15,
     "metadata": {},
     "output_type": "execute_result"
    }
   ],
   "source": [
    "? println"
   ]
  },
  {
   "cell_type": "code",
   "execution_count": 17,
   "metadata": {},
   "outputs": [
    {
     "name": "stdout",
     "output_type": "stream",
     "text": [
      "Arithemetical Expressions\n"
     ]
    }
   ],
   "source": [
    "println(\"Arithemetical Expressions\")\n"
   ]
  },
  {
   "cell_type": "code",
   "execution_count": 18,
   "metadata": {},
   "outputs": [
    {
     "data": {
      "text/plain": [
       "-2"
      ]
     },
     "execution_count": 18,
     "metadata": {},
     "output_type": "execute_result"
    }
   ],
   "source": [
    "1 - 2 + 3 - 4"
   ]
  },
  {
   "cell_type": "code",
   "execution_count": 19,
   "metadata": {},
   "outputs": [
    {
     "data": {
      "text/plain": [
       "-8"
      ]
     },
     "execution_count": 19,
     "metadata": {},
     "output_type": "execute_result"
    }
   ],
   "source": [
    "1 - (2 + 3) - 4"
   ]
  },
  {
   "cell_type": "code",
   "execution_count": 20,
   "metadata": {},
   "outputs": [
    {
     "data": {
      "text/plain": [
       "-2"
      ]
     },
     "execution_count": 20,
     "metadata": {},
     "output_type": "execute_result"
    }
   ],
   "source": [
    "(1 - 2) + (3 - 4)"
   ]
  },
  {
   "cell_type": "code",
   "execution_count": 21,
   "metadata": {},
   "outputs": [
    {
     "data": {
      "text/plain": [
       "1.25"
      ]
     },
     "execution_count": 21,
     "metadata": {},
     "output_type": "execute_result"
    }
   ],
   "source": [
    "1 / 2 + 3 / 4"
   ]
  },
  {
   "cell_type": "code",
   "execution_count": 22,
   "metadata": {},
   "outputs": [
    {
     "data": {
      "text/plain": [
       "1.25"
      ]
     },
     "execution_count": 22,
     "metadata": {},
     "output_type": "execute_result"
    }
   ],
   "source": [
    "(1 / 2) + 3 / 4"
   ]
  },
  {
   "cell_type": "code",
   "execution_count": 23,
   "metadata": {},
   "outputs": [
    {
     "data": {
      "text/plain": [
       "0.05"
      ]
     },
     "execution_count": 23,
     "metadata": {},
     "output_type": "execute_result"
    }
   ],
   "source": [
    "1 / (2 + 3) / 4"
   ]
  },
  {
   "cell_type": "code",
   "execution_count": 24,
   "metadata": {},
   "outputs": [
    {
     "data": {
      "text/plain": [
       "0.36363636363636365"
      ]
     },
     "execution_count": 24,
     "metadata": {},
     "output_type": "execute_result"
    }
   ],
   "source": [
    "1 / (2 + 3 / 4)"
   ]
  },
  {
   "cell_type": "code",
   "execution_count": 25,
   "metadata": {},
   "outputs": [
    {
     "data": {
      "text/plain": [
       "0.875"
      ]
     },
     "execution_count": 25,
     "metadata": {},
     "output_type": "execute_result"
    }
   ],
   "source": [
    "(1 / 2 + 3 ) / 4"
   ]
  },
  {
   "cell_type": "code",
   "execution_count": 31,
   "metadata": {},
   "outputs": [
    {
     "name": "stdout",
     "output_type": "stream",
     "text": [
      "0.16666666666666666\n",
      "3\n",
      "4.0\n",
      "2.8284271247461903\n"
     ]
    }
   ],
   "source": [
    "println(1/2/3)         # remember that println can do simple arithmetic!\n",
    "println(2-3+4)\n",
    "println((2^3)/2)         # although both inputs are Int64, and the output could be Int64, it is in fact Float64\n",
    "println( 2^(3/2) )"
   ]
  },
  {
   "cell_type": "code",
   "execution_count": 32,
   "metadata": {},
   "outputs": [
    {
     "data": {
      "text/plain": [
       "84.0"
      ]
     },
     "execution_count": 32,
     "metadata": {},
     "output_type": "execute_result"
    }
   ],
   "source": [
    "5040 / 60"
   ]
  },
  {
   "cell_type": "code",
   "execution_count": 33,
   "metadata": {},
   "outputs": [
    {
     "data": {
      "text/plain": [
       "10"
      ]
     },
     "execution_count": 33,
     "metadata": {},
     "output_type": "execute_result"
    }
   ],
   "source": [
    "2^2+6"
   ]
  },
  {
   "cell_type": "code",
   "execution_count": 35,
   "metadata": {},
   "outputs": [
    {
     "data": {
      "text/plain": [
       "9"
      ]
     },
     "execution_count": 35,
     "metadata": {},
     "output_type": "execute_result"
    }
   ],
   "source": [
    "(2*3)+(2^1)+1"
   ]
  },
  {
   "cell_type": "code",
   "execution_count": 36,
   "metadata": {},
   "outputs": [
    {
     "data": {
      "text/plain": [
       "10"
      ]
     },
     "execution_count": 36,
     "metadata": {},
     "output_type": "execute_result"
    }
   ],
   "source": [
    "0-6+2^4"
   ]
  },
  {
   "cell_type": "code",
   "execution_count": 37,
   "metadata": {},
   "outputs": [
    {
     "data": {
      "text/plain": [
       "11"
      ]
     },
     "execution_count": 37,
     "metadata": {},
     "output_type": "execute_result"
    }
   ],
   "source": [
    "8+2*3-3"
   ]
  },
  {
   "cell_type": "code",
   "execution_count": 38,
   "metadata": {},
   "outputs": [
    {
     "ename": "LoadError",
     "evalue": "\u001b[91mUndefVarError: x not defined\u001b[39m",
     "output_type": "error",
     "traceback": [
      "\u001b[91mUndefVarError: x not defined\u001b[39m",
      ""
     ]
    }
   ],
   "source": [
    "3*x^2-2*x+3"
   ]
  },
  {
   "cell_type": "code",
   "execution_count": 43,
   "metadata": {},
   "outputs": [
    {
     "data": {
      "text/plain": [
       "10"
      ]
     },
     "execution_count": 43,
     "metadata": {},
     "output_type": "execute_result"
    }
   ],
   "source": [
    "3^2-2+3"
   ]
  },
  {
   "cell_type": "code",
   "execution_count": 40,
   "metadata": {},
   "outputs": [
    {
     "ename": "LoadError",
     "evalue": "\u001b[91mUndefVarError: x3 not defined\u001b[39m",
     "output_type": "error",
     "traceback": [
      "\u001b[91mUndefVarError: x3 not defined\u001b[39m",
      ""
     ]
    }
   ],
   "source": [
    "x3^2-2x+3"
   ]
  },
  {
   "cell_type": "code",
   "execution_count": 41,
   "metadata": {},
   "outputs": [
    {
     "ename": "LoadError",
     "evalue": "\u001b[91mUndefVarError: x not defined\u001b[39m",
     "output_type": "error",
     "traceback": [
      "\u001b[91mUndefVarError: x not defined\u001b[39m",
      ""
     ]
    }
   ],
   "source": [
    "3^2-3+2*x"
   ]
  },
  {
   "cell_type": "code",
   "execution_count": 42,
   "metadata": {},
   "outputs": [
    {
     "ename": "LoadError",
     "evalue": "\u001b[91mUndefVarError: x not defined\u001b[39m",
     "output_type": "error",
     "traceback": [
      "\u001b[91mUndefVarError: x not defined\u001b[39m",
      ""
     ]
    }
   ],
   "source": [
    "3x.x-2x+3"
   ]
  },
  {
   "cell_type": "code",
   "execution_count": 44,
   "metadata": {},
   "outputs": [
    {
     "data": {
      "text/plain": [
       "true"
      ]
     },
     "execution_count": 44,
     "metadata": {},
     "output_type": "execute_result"
    }
   ],
   "source": [
    "1+3<5||2+2<1"
   ]
  },
  {
   "cell_type": "code",
   "execution_count": 45,
   "metadata": {},
   "outputs": [
    {
     "data": {
      "text/plain": [
       "false"
      ]
     },
     "execution_count": 45,
     "metadata": {},
     "output_type": "execute_result"
    }
   ],
   "source": [
    "(true || false) && false"
   ]
  },
  {
   "cell_type": "code",
   "execution_count": 48,
   "metadata": {},
   "outputs": [
    {
     "data": {
      "text/plain": [
       "true"
      ]
     },
     "execution_count": 48,
     "metadata": {},
     "output_type": "execute_result"
    }
   ],
   "source": [
    "# First expression\n",
    "3 & 5 > 0 \n",
    "\n"
   ]
  },
  {
   "cell_type": "code",
   "execution_count": 47,
   "metadata": {},
   "outputs": [
    {
     "data": {
      "text/plain": [
       "false"
      ]
     },
     "execution_count": 47,
     "metadata": {},
     "output_type": "execute_result"
    }
   ],
   "source": [
    "# Second expression \n",
    "8 & 5 > 0"
   ]
  },
  {
   "cell_type": "code",
   "execution_count": 49,
   "metadata": {},
   "outputs": [
    {
     "data": {
      "text/plain": [
       "true"
      ]
     },
     "execution_count": 49,
     "metadata": {},
     "output_type": "execute_result"
    }
   ],
   "source": [
    "1 + 2 - (5 - 2) == 0"
   ]
  },
  {
   "cell_type": "code",
   "execution_count": 52,
   "metadata": {},
   "outputs": [
    {
     "data": {
      "text/plain": [
       "false"
      ]
     },
     "execution_count": 52,
     "metadata": {},
     "output_type": "execute_result"
    }
   ],
   "source": [
    "(1 + 2 - 5) - 2 == 0\n"
   ]
  },
  {
   "cell_type": "code",
   "execution_count": 51,
   "metadata": {},
   "outputs": [
    {
     "data": {
      "text/plain": [
       "false"
      ]
     },
     "execution_count": 51,
     "metadata": {},
     "output_type": "execute_result"
    }
   ],
   "source": [
    "1 + (2 - 3) - 2 == 0"
   ]
  },
  {
   "cell_type": "code",
   "execution_count": 53,
   "metadata": {},
   "outputs": [
    {
     "ename": "LoadError",
     "evalue": "\u001b[91mUndefVarError: ASCIIString not defined\u001b[39m",
     "output_type": "error",
     "traceback": [
      "\u001b[91mUndefVarError: ASCIIString not defined\u001b[39m",
      ""
     ]
    }
   ],
   "source": [
    "typeof(ASCIIString)"
   ]
  },
  {
   "cell_type": "code",
   "execution_count": 54,
   "metadata": {},
   "outputs": [
    {
     "ename": "LoadError",
     "evalue": "\u001b[91mUndefVarError: Cake not defined\u001b[39m",
     "output_type": "error",
     "traceback": [
      "\u001b[91mUndefVarError: Cake not defined\u001b[39m",
      ""
     ]
    }
   ],
   "source": [
    "typeof(Cake)\n"
   ]
  },
  {
   "cell_type": "code",
   "execution_count": 55,
   "metadata": {},
   "outputs": [
    {
     "ename": "LoadError",
     "evalue": "\u001b[91mUndefVarError: cake not defined\u001b[39m",
     "output_type": "error",
     "traceback": [
      "\u001b[91mUndefVarError: cake not defined\u001b[39m",
      ""
     ]
    }
   ],
   "source": [
    "typeof(cake)"
   ]
  },
  {
   "cell_type": "code",
   "execution_count": 57,
   "metadata": {},
   "outputs": [
    {
     "data": {
      "text/plain": [
       "false"
      ]
     },
     "execution_count": 57,
     "metadata": {},
     "output_type": "execute_result"
    }
   ],
   "source": [
    "'a'===\"a\""
   ]
  },
  {
   "cell_type": "code",
   "execution_count": 58,
   "metadata": {},
   "outputs": [
    {
     "data": {
      "text/plain": [
       "Array{Float64,3}"
      ]
     },
     "execution_count": 58,
     "metadata": {},
     "output_type": "execute_result"
    }
   ],
   "source": [
    "Array{Float64, 3}"
   ]
  },
  {
   "cell_type": "code",
   "execution_count": 59,
   "metadata": {},
   "outputs": [
    {
     "data": {
      "text/plain": [
       "Array{Float64,3}"
      ]
     },
     "execution_count": 59,
     "metadata": {},
     "output_type": "execute_result"
    }
   ],
   "source": [
    "x = Array{Float64, 3}"
   ]
  },
  {
   "cell_type": "code",
   "execution_count": 60,
   "metadata": {},
   "outputs": [
    {
     "data": {
      "text/plain": [
       "Array{Float64,3}"
      ]
     },
     "execution_count": 60,
     "metadata": {},
     "output_type": "execute_result"
    }
   ],
   "source": [
    "x"
   ]
  },
  {
   "cell_type": "code",
   "execution_count": 61,
   "metadata": {},
   "outputs": [
    {
     "name": "stdout",
     "output_type": "stream",
     "text": [
      "Array{Float64,3}\n"
     ]
    }
   ],
   "source": [
    "println(x)"
   ]
  },
  {
   "cell_type": "code",
   "execution_count": 81,
   "metadata": {},
   "outputs": [
    {
     "data": {
      "text/plain": [
       "2×2 Array{Float64,2}:\n",
       " 0.0  0.0\n",
       " 0.0  0.0"
      ]
     },
     "execution_count": 81,
     "metadata": {},
     "output_type": "execute_result"
    }
   ],
   "source": [
    "A = [1 2; 3 4 ]\n",
    "zeros(A, Float64)"
   ]
  },
  {
   "cell_type": "code",
   "execution_count": 89,
   "metadata": {},
   "outputs": [
    {
     "data": {
      "text/plain": [
       "3"
      ]
     },
     "execution_count": 89,
     "metadata": {},
     "output_type": "execute_result"
    }
   ],
   "source": [
    "ndims(x)"
   ]
  },
  {
   "cell_type": "code",
   "execution_count": 90,
   "metadata": {},
   "outputs": [
    {
     "ename": "LoadError",
     "evalue": "\u001b[91mMethodError: no method matching size(::Type{Array{Float64,3}})\u001b[0m\nClosest candidates are:\n  size(::Any, \u001b[91m::Integer\u001b[39m, \u001b[91m::Integer\u001b[39m, \u001b[91m::Integer...\u001b[39m) where N at abstractarray.jl:30\n  size(\u001b[91m::Char\u001b[39m) at char.jl:13\n  size(\u001b[91m::Char\u001b[39m, \u001b[91m::Any\u001b[39m) at char.jl:14\n  ...\u001b[39m",
     "output_type": "error",
     "traceback": [
      "\u001b[91mMethodError: no method matching size(::Type{Array{Float64,3}})\u001b[0m\nClosest candidates are:\n  size(::Any, \u001b[91m::Integer\u001b[39m, \u001b[91m::Integer\u001b[39m, \u001b[91m::Integer...\u001b[39m) where N at abstractarray.jl:30\n  size(\u001b[91m::Char\u001b[39m) at char.jl:13\n  size(\u001b[91m::Char\u001b[39m, \u001b[91m::Any\u001b[39m) at char.jl:14\n  ...\u001b[39m",
      ""
     ]
    }
   ],
   "source": [
    "size(x)\n"
   ]
  },
  {
   "cell_type": "code",
   "execution_count": 91,
   "metadata": {},
   "outputs": [
    {
     "ename": "LoadError",
     "evalue": "\u001b[91mMethodError: no method matching length(::Type{Array{Float64,3}})\u001b[0m\nClosest candidates are:\n  length(\u001b[91m::SimpleVector\u001b[39m) at essentials.jl:256\n  length(\u001b[91m::Base.MethodList\u001b[39m) at reflection.jl:558\n  length(\u001b[91m::MethodTable\u001b[39m) at reflection.jl:634\n  ...\u001b[39m",
     "output_type": "error",
     "traceback": [
      "\u001b[91mMethodError: no method matching length(::Type{Array{Float64,3}})\u001b[0m\nClosest candidates are:\n  length(\u001b[91m::SimpleVector\u001b[39m) at essentials.jl:256\n  length(\u001b[91m::Base.MethodList\u001b[39m) at reflection.jl:558\n  length(\u001b[91m::MethodTable\u001b[39m) at reflection.jl:634\n  ...\u001b[39m",
      ""
     ]
    }
   ],
   "source": [
    "length(x)\n"
   ]
  },
  {
   "cell_type": "code",
   "execution_count": 92,
   "metadata": {},
   "outputs": [
    {
     "ename": "LoadError",
     "evalue": "\u001b[91mMethodError: no method matching start(::Type{Array{Float64,3}})\u001b[0m\nClosest candidates are:\n  start(\u001b[91m::SimpleVector\u001b[39m) at essentials.jl:258\n  start(\u001b[91m::Base.MethodList\u001b[39m) at reflection.jl:560\n  start(\u001b[91m::ExponentialBackOff\u001b[39m) at error.jl:107\n  ...\u001b[39m",
     "output_type": "error",
     "traceback": [
      "\u001b[91mMethodError: no method matching start(::Type{Array{Float64,3}})\u001b[0m\nClosest candidates are:\n  start(\u001b[91m::SimpleVector\u001b[39m) at essentials.jl:258\n  start(\u001b[91m::Base.MethodList\u001b[39m) at reflection.jl:560\n  start(\u001b[91m::ExponentialBackOff\u001b[39m) at error.jl:107\n  ...\u001b[39m",
      "",
      "Stacktrace:",
      " [1] \u001b[1mcount\u001b[22m\u001b[22m\u001b[1m(\u001b[22m\u001b[22m::Base.##140#141, ::Type{T} where T\u001b[1m)\u001b[22m\u001b[22m at \u001b[1m./reduce.jl:691\u001b[22m\u001b[22m",
      " [2] \u001b[1mcountnz\u001b[22m\u001b[22m\u001b[1m(\u001b[22m\u001b[22m::Type{T} where T\u001b[1m)\u001b[22m\u001b[22m at \u001b[1m./reduce.jl:722\u001b[22m\u001b[22m"
     ]
    }
   ],
   "source": [
    "countnz(x)"
   ]
  },
  {
   "cell_type": "code",
   "execution_count": 98,
   "metadata": {},
   "outputs": [
    {
     "ename": "LoadError",
     "evalue": "\u001b[91mUndefVarError: y not defined\u001b[39m",
     "output_type": "error",
     "traceback": [
      "\u001b[91mUndefVarError: y not defined\u001b[39m",
      ""
     ]
    }
   ],
   "source": [
    "a = Array(Integer, x, y)"
   ]
  },
  {
   "cell_type": "code",
   "execution_count": 94,
   "metadata": {},
   "outputs": [
    {
     "ename": "LoadError",
     "evalue": "\u001b[91mUndefVarError: a not defined\u001b[39m",
     "output_type": "error",
     "traceback": [
      "\u001b[91mUndefVarError: a not defined\u001b[39m",
      ""
     ]
    }
   ],
   "source": [
    "typeof(a)"
   ]
  },
  {
   "cell_type": "code",
   "execution_count": 95,
   "metadata": {},
   "outputs": [
    {
     "name": "stderr",
     "output_type": "stream",
     "text": [
      "\u001b[1m\u001b[33mWARNING: \u001b[39m\u001b[22m\u001b[33mArray(::Type{T}, m::Int, n::Int) where T is deprecated, use Array{T}(m, n) instead.\u001b[39m\n",
      "Stacktrace:\n",
      " [1] \u001b[1mdepwarn\u001b[22m\u001b[22m\u001b[1m(\u001b[22m\u001b[22m::String, ::Symbol\u001b[1m)\u001b[22m\u001b[22m at \u001b[1m./deprecated.jl:70\u001b[22m\u001b[22m\n",
      " [2] \u001b[1mArray\u001b[22m\u001b[22m\u001b[1m(\u001b[22m\u001b[22m::Type{Int64}, ::Int64, ::Int64\u001b[1m)\u001b[22m\u001b[22m at \u001b[1m./deprecated.jl:57\u001b[22m\u001b[22m\n",
      " [3] \u001b[1minclude_string\u001b[22m\u001b[22m\u001b[1m(\u001b[22m\u001b[22m::String, ::String\u001b[1m)\u001b[22m\u001b[22m at \u001b[1m./loading.jl:522\u001b[22m\u001b[22m\n",
      " [4] \u001b[1mexecute_request\u001b[22m\u001b[22m\u001b[1m(\u001b[22m\u001b[22m::ZMQ.Socket, ::IJulia.Msg\u001b[1m)\u001b[22m\u001b[22m at \u001b[1m/Users/ravikumar/.julia/v0.6/IJulia/src/execute_request.jl:158\u001b[22m\u001b[22m\n",
      " [5] \u001b[1m(::Compat.#inner#18{Array{Any,1},IJulia.#execute_request,Tuple{ZMQ.Socket,IJulia.Msg}})\u001b[22m\u001b[22m\u001b[1m(\u001b[22m\u001b[22m\u001b[1m)\u001b[22m\u001b[22m at \u001b[1m/Users/ravikumar/.julia/v0.6/Compat/src/Compat.jl:378\u001b[22m\u001b[22m\n",
      " [6] \u001b[1meventloop\u001b[22m\u001b[22m\u001b[1m(\u001b[22m\u001b[22m::ZMQ.Socket\u001b[1m)\u001b[22m\u001b[22m at \u001b[1m/Users/ravikumar/.julia/v0.6/IJulia/src/eventloop.jl:8\u001b[22m\u001b[22m\n",
      " [7] \u001b[1m(::IJulia.##14#17)\u001b[22m\u001b[22m\u001b[1m(\u001b[22m\u001b[22m\u001b[1m)\u001b[22m\u001b[22m at \u001b[1m./task.jl:335\u001b[22m\u001b[22m\n",
      "while loading In[95], in expression starting on line 1\n"
     ]
    },
    {
     "data": {
      "text/plain": [
       "11×12 Array{Int64,2}:\n",
       " 4408721728  4664378032  4441851440  …  4661477840  4408723264  4408722768\n",
       " 4664460976  4408724160  4664439312     4441851632  4664378224  4441851232\n",
       " 4441851360  4664388592  4408721664     4408723216  4441851504  4661377328\n",
       " 4408819856  4441851328  4664439504     4408724352  4661378992  4408724032\n",
       " 4441851296  4661377776  4408721792     4664391952  4441851696  4664388528\n",
       " 4664392656  4441851408  4664465552  …  4441851280  4661478512  4408722624\n",
       " 4408723712  4661378384  4408722304     4441366192  4441851680  4664377616\n",
       " 4664388208  4408722368  4664378448     4441851712  4408723280           0\n",
       " 4408723072  4664377392  4408725440     4661478736  4441851456           0\n",
       " 4664377872  4408722240  4664439376     4408721600  4408819856           0\n",
       " 4408723328  4664344496  4408722688  …  4664437456  4441851600          44"
      ]
     },
     "execution_count": 95,
     "metadata": {},
     "output_type": "execute_result"
    }
   ],
   "source": [
    "x = Array(Int64, 11, 12)"
   ]
  },
  {
   "cell_type": "code",
   "execution_count": 96,
   "metadata": {},
   "outputs": [
    {
     "data": {
      "text/plain": [
       "Array{Int64,2}"
      ]
     },
     "execution_count": 96,
     "metadata": {},
     "output_type": "execute_result"
    }
   ],
   "source": [
    "typeof(x)"
   ]
  },
  {
   "cell_type": "code",
   "execution_count": 99,
   "metadata": {},
   "outputs": [
    {
     "name": "stdout",
     "output_type": "stream",
     "text": [
      "search: \u001b[1ms\u001b[22m\u001b[1mi\u001b[22m\u001b[1mz\u001b[22m\u001b[1me\u001b[22m \u001b[1ms\u001b[22m\u001b[1mi\u001b[22m\u001b[1mz\u001b[22m\u001b[1me\u001b[22mof \u001b[1ms\u001b[22m\u001b[1mi\u001b[22m\u001b[1mz\u001b[22m\u001b[1me\u001b[22mhint! C\u001b[1ms\u001b[22m\u001b[1mi\u001b[22m\u001b[1mz\u001b[22m\u001b[1me\u001b[22m_t re\u001b[1ms\u001b[22m\u001b[1mi\u001b[22m\u001b[1mz\u001b[22m\u001b[1me\u001b[22m! file\u001b[1ms\u001b[22m\u001b[1mi\u001b[22m\u001b[1mz\u001b[22m\u001b[1me\u001b[22m C\u001b[1ms\u001b[22ms\u001b[1mi\u001b[22m\u001b[1mz\u001b[22m\u001b[1me\u001b[22m_t \u001b[1ms\u001b[22mer\u001b[1mi\u001b[22mali\u001b[1mz\u001b[22m\u001b[1me\u001b[22m\n",
      "\n"
     ]
    },
    {
     "data": {
      "text/markdown": [
       "```\n",
       "size(A::AbstractArray, [dim...])\n",
       "```\n",
       "\n",
       "Returns a tuple containing the dimensions of `A`. Optionally you can specify the dimension(s) you want the length of, and get the length of that dimension, or a tuple of the lengths of dimensions you asked for.\n",
       "\n",
       "```jldoctest\n",
       "julia> A = ones(2,3,4);\n",
       "\n",
       "julia> size(A, 2)\n",
       "3\n",
       "\n",
       "julia> size(A,3,2)\n",
       "(4, 3)\n",
       "```\n"
      ],
      "text/plain": [
       "```\n",
       "size(A::AbstractArray, [dim...])\n",
       "```\n",
       "\n",
       "Returns a tuple containing the dimensions of `A`. Optionally you can specify the dimension(s) you want the length of, and get the length of that dimension, or a tuple of the lengths of dimensions you asked for.\n",
       "\n",
       "```jldoctest\n",
       "julia> A = ones(2,3,4);\n",
       "\n",
       "julia> size(A, 2)\n",
       "3\n",
       "\n",
       "julia> size(A,3,2)\n",
       "(4, 3)\n",
       "```\n"
      ]
     },
     "execution_count": 99,
     "metadata": {},
     "output_type": "execute_result"
    }
   ],
   "source": [
    "? size"
   ]
  },
  {
   "cell_type": "code",
   "execution_count": 100,
   "metadata": {},
   "outputs": [
    {
     "name": "stdout",
     "output_type": "stream",
     "text": [
      "search: \u001b[1ms\u001b[22m\u001b[1mi\u001b[22m\u001b[1mz\u001b[22m\u001b[1me\u001b[22m \u001b[1ms\u001b[22m\u001b[1mi\u001b[22m\u001b[1mz\u001b[22m\u001b[1me\u001b[22mof \u001b[1ms\u001b[22m\u001b[1mi\u001b[22m\u001b[1mz\u001b[22m\u001b[1me\u001b[22mhint! C\u001b[1ms\u001b[22m\u001b[1mi\u001b[22m\u001b[1mz\u001b[22m\u001b[1me\u001b[22m_t re\u001b[1ms\u001b[22m\u001b[1mi\u001b[22m\u001b[1mz\u001b[22m\u001b[1me\u001b[22m! file\u001b[1ms\u001b[22m\u001b[1mi\u001b[22m\u001b[1mz\u001b[22m\u001b[1me\u001b[22m C\u001b[1ms\u001b[22ms\u001b[1mi\u001b[22m\u001b[1mz\u001b[22m\u001b[1me\u001b[22m_t \u001b[1ms\u001b[22mer\u001b[1mi\u001b[22mali\u001b[1mz\u001b[22m\u001b[1me\u001b[22m\n",
      "\n"
     ]
    },
    {
     "data": {
      "text/markdown": [
       "```\n",
       "size(A::AbstractArray, [dim...])\n",
       "```\n",
       "\n",
       "Returns a tuple containing the dimensions of `A`. Optionally you can specify the dimension(s) you want the length of, and get the length of that dimension, or a tuple of the lengths of dimensions you asked for.\n",
       "\n",
       "```jldoctest\n",
       "julia> A = ones(2,3,4);\n",
       "\n",
       "julia> size(A, 2)\n",
       "3\n",
       "\n",
       "julia> size(A,3,2)\n",
       "(4, 3)\n",
       "```\n"
      ],
      "text/plain": [
       "```\n",
       "size(A::AbstractArray, [dim...])\n",
       "```\n",
       "\n",
       "Returns a tuple containing the dimensions of `A`. Optionally you can specify the dimension(s) you want the length of, and get the length of that dimension, or a tuple of the lengths of dimensions you asked for.\n",
       "\n",
       "```jldoctest\n",
       "julia> A = ones(2,3,4);\n",
       "\n",
       "julia> size(A, 2)\n",
       "3\n",
       "\n",
       "julia> size(A,3,2)\n",
       "(4, 3)\n",
       "```\n"
      ]
     },
     "execution_count": 100,
     "metadata": {},
     "output_type": "execute_result"
    }
   ],
   "source": [
    "? size\n"
   ]
  },
  {
   "cell_type": "code",
   "execution_count": 101,
   "metadata": {},
   "outputs": [
    {
     "name": "stdout",
     "output_type": "stream",
     "text": [
      "search: \u001b[1m\\\u001b[22m .\u001b[1m\\\u001b[22m\n",
      "\n"
     ]
    },
    {
     "data": {
      "text/markdown": [
       "```\n",
       "\\(x, y)\n",
       "```\n",
       "\n",
       "Left division operator: multiplication of `y` by the inverse of `x` on the left. Gives floating-point results for integer arguments.\n",
       "\n",
       "```jldoctest\n",
       "julia> 3 \\ 6\n",
       "2.0\n",
       "\n",
       "julia> inv(3) * 6\n",
       "2.0\n",
       "\n",
       "julia> A = [1 2; 3 4]; x = [5, 6];\n",
       "\n",
       "julia> A \\ x\n",
       "2-element Array{Float64,1}:\n",
       " -4.0\n",
       "  4.5\n",
       "\n",
       "julia> inv(A) * x\n",
       "2-element Array{Float64,1}:\n",
       " -4.0\n",
       "  4.5\n",
       "```\n",
       "\n",
       "```\n",
       "\\(A, B)\n",
       "```\n",
       "\n",
       "Matrix division using a polyalgorithm. For input matrices `A` and `B`, the result `X` is such that `A*X == B` when `A` is square. The solver that is used depends upon the structure of `A`.  If `A` is upper or lower triangular (or diagonal), no factorization of `A` is required and the system is solved with either forward or backward substitution. For non-triangular square matrices, an LU factorization is used.\n",
       "\n",
       "For rectangular `A` the result is the minimum-norm least squares solution computed by a pivoted QR factorization of `A` and a rank estimate of `A` based on the R factor.\n",
       "\n",
       "When `A` is sparse, a similar polyalgorithm is used. For indefinite matrices, the `LDLt` factorization does not use pivoting during the numerical factorization and therefore the procedure can fail even for invertible matrices.\n",
       "\n",
       "# Example\n",
       "\n",
       "```jldoctest\n",
       "julia> A = [1 0; 1 -2]; B = [32; -4];\n",
       "\n",
       "julia> X = A \\ B\n",
       "2-element Array{Float64,1}:\n",
       " 32.0\n",
       " 18.0\n",
       "\n",
       "julia> A * X == B\n",
       "true\n",
       "```\n"
      ],
      "text/plain": [
       "```\n",
       "\\(x, y)\n",
       "```\n",
       "\n",
       "Left division operator: multiplication of `y` by the inverse of `x` on the left. Gives floating-point results for integer arguments.\n",
       "\n",
       "```jldoctest\n",
       "julia> 3 \\ 6\n",
       "2.0\n",
       "\n",
       "julia> inv(3) * 6\n",
       "2.0\n",
       "\n",
       "julia> A = [1 2; 3 4]; x = [5, 6];\n",
       "\n",
       "julia> A \\ x\n",
       "2-element Array{Float64,1}:\n",
       " -4.0\n",
       "  4.5\n",
       "\n",
       "julia> inv(A) * x\n",
       "2-element Array{Float64,1}:\n",
       " -4.0\n",
       "  4.5\n",
       "```\n",
       "\n",
       "```\n",
       "\\(A, B)\n",
       "```\n",
       "\n",
       "Matrix division using a polyalgorithm. For input matrices `A` and `B`, the result `X` is such that `A*X == B` when `A` is square. The solver that is used depends upon the structure of `A`.  If `A` is upper or lower triangular (or diagonal), no factorization of `A` is required and the system is solved with either forward or backward substitution. For non-triangular square matrices, an LU factorization is used.\n",
       "\n",
       "For rectangular `A` the result is the minimum-norm least squares solution computed by a pivoted QR factorization of `A` and a rank estimate of `A` based on the R factor.\n",
       "\n",
       "When `A` is sparse, a similar polyalgorithm is used. For indefinite matrices, the `LDLt` factorization does not use pivoting during the numerical factorization and therefore the procedure can fail even for invertible matrices.\n",
       "\n",
       "# Example\n",
       "\n",
       "```jldoctest\n",
       "julia> A = [1 0; 1 -2]; B = [32; -4];\n",
       "\n",
       "julia> X = A \\ B\n",
       "2-element Array{Float64,1}:\n",
       " 32.0\n",
       " 18.0\n",
       "\n",
       "julia> A * X == B\n",
       "true\n",
       "```\n"
      ]
     },
     "execution_count": 101,
     "metadata": {},
     "output_type": "execute_result"
    }
   ],
   "source": [
    "? \\"
   ]
  },
  {
   "cell_type": "code",
   "execution_count": 102,
   "metadata": {},
   "outputs": [
    {
     "data": {
      "text/html": [
       "92 methods for generic function <b>\\</b>:<ul><li> \\(a::<b>Float16</b>, b::<b>Float16</b>) at <a href=\"https://github.com/JuliaLang/julia/tree/9d11f62bcb124327831206089967f93020e84200/base/float.jl#L372\" target=\"_blank\">float.jl:372</a></li> <li> \\(F::<b>Base.SparseArrays.SPQR.Factorization{Float64}</b>, B::<b>Union{Array{Complex{Float64},1}, Array{Complex{Float64},2}}</b>) at <a href=\"https://github.com/JuliaLang/julia/tree/9d11f62bcb124327831206089967f93020e84200/base/sparse/spqr.jl#L167\" target=\"_blank\">sparse/spqr.jl:167</a></li> <li> \\(x::<b>Number</b>, A::<b>UpperTriangular</b>) at <a href=\"https://github.com/JuliaLang/julia/tree/9d11f62bcb124327831206089967f93020e84200/base/linalg/triangular.jl#L607\" target=\"_blank\">linalg/triangular.jl:607</a></li> <li> \\(x::<b>Number</b>, A::<b>Base.LinAlg.UnitUpperTriangular</b>) at <a href=\"https://github.com/JuliaLang/julia/tree/9d11f62bcb124327831206089967f93020e84200/base/linalg/triangular.jl#L610\" target=\"_blank\">linalg/triangular.jl:610</a></li> <li> \\(x::<b>Number</b>, A::<b>LowerTriangular</b>) at <a href=\"https://github.com/JuliaLang/julia/tree/9d11f62bcb124327831206089967f93020e84200/base/linalg/triangular.jl#L607\" target=\"_blank\">linalg/triangular.jl:607</a></li> <li> \\(x::<b>Number</b>, A::<b>Base.LinAlg.UnitLowerTriangular</b>) at <a href=\"https://github.com/JuliaLang/julia/tree/9d11f62bcb124327831206089967f93020e84200/base/linalg/triangular.jl#L610\" target=\"_blank\">linalg/triangular.jl:610</a></li> <li> \\(A::<b>Number</b>, B::<b>AbstractArray</b>) at <a href=\"https://github.com/JuliaLang/julia/tree/9d11f62bcb124327831206089967f93020e84200/base/arraymath.jl#L45\" target=\"_blank\">arraymath.jl:45</a></li> <li> \\(A::<b>Union{BitArray{1}, BitArray{2}}</b>, B::<b>Union{BitArray{1}, BitArray{2}}</b>) at <a href=\"https://github.com/JuliaLang/julia/tree/9d11f62bcb124327831206089967f93020e84200/base/bitarray.jl#L1193\" target=\"_blank\">bitarray.jl:1193</a></li> <li> \\(::<b>Union{LowerTriangular, UpperTriangular}</b>, ::<b>RowVector</b>) at <a href=\"https://github.com/JuliaLang/julia/tree/9d11f62bcb124327831206089967f93020e84200/base/linalg/triangular.jl#L1701\" target=\"_blank\">linalg/triangular.jl:1701</a></li> <li> \\(::<b>Union{Base.LinAlg.UnitLowerTriangular, Base.LinAlg.UnitUpperTriangular}</b>, ::<b>RowVector</b>) at <a href=\"https://github.com/JuliaLang/julia/tree/9d11f62bcb124327831206089967f93020e84200/base/linalg/triangular.jl#L1702\" target=\"_blank\">linalg/triangular.jl:1702</a></li> <li> \\(::<b>Diagonal</b>, ::<b>RowVector</b>) at <a href=\"https://github.com/JuliaLang/julia/tree/9d11f62bcb124327831206089967f93020e84200/base/linalg/bidiag.jl#L362\" target=\"_blank\">linalg/bidiag.jl:362</a></li> <li> \\(::<b>Bidiagonal{#s268} where #s268<:Number</b>, ::<b>RowVector{#s267,V} where V<:(AbstractArray{T,1} where T) where #s267<:Number</b>) at <a href=\"https://github.com/JuliaLang/julia/tree/9d11f62bcb124327831206089967f93020e84200/base/linalg/bidiag.jl#L364\" target=\"_blank\">linalg/bidiag.jl:364</a></li> <li> \\(::<b>Bidiagonal</b>, ::<b>RowVector</b>) at <a href=\"https://github.com/JuliaLang/julia/tree/9d11f62bcb124327831206089967f93020e84200/base/linalg/bidiag.jl#L363\" target=\"_blank\">linalg/bidiag.jl:363</a></li> <li> \\(::<b>SparseMatrixCSC</b>, ::<b>RowVector</b>) at <a href=\"https://github.com/JuliaLang/julia/tree/9d11f62bcb124327831206089967f93020e84200/base/sparse/linalg.jl#L876\" target=\"_blank\">sparse/linalg.jl:876</a></li> <li> \\(mat::<b>AbstractArray{T,2} where T</b>, rowvec::<b>RowVector</b>) at <a href=\"https://github.com/JuliaLang/julia/tree/9d11f62bcb124327831206089967f93020e84200/base/linalg/rowvector.jl#L234\" target=\"_blank\">linalg/rowvector.jl:234</a></li> <li> \\(T::<b>SymTridiagonal</b>, B::<b>Union{Union{Base.ReshapedArray{T,1,A,MI} where MI<:Tuple{Vararg{Base.MultiplicativeInverses.SignedMultiplicativeInverse{Int64},N} where N} where A<:Union{DenseArray, SubArray{T,N,P,I,true} where I<:Tuple{Union{Base.Slice, UnitRange},Vararg{Any,N} where N} where P where N where T}, DenseArray{T,1}, SubArray{T,1,A,I,L} where L} where I<:Tuple{Vararg{Union{Base.AbstractCartesianIndex, Int64, Range{Int64}},N} where N} where A<:Union{Base.ReshapedArray{T,N,A,MI} where MI<:Tuple{Vararg{Base.MultiplicativeInverses.SignedMultiplicativeInverse{Int64},N} where N} where A<:Union{DenseArray, SubArray{T,N,P,I,true} where I<:Tuple{Union{Base.Slice, UnitRange},Vararg{Any,N} where N} where P where N where T} where N where T, DenseArray}, Union{Base.ReshapedArray{T,2,A,MI} where MI<:Tuple{Vararg{Base.MultiplicativeInverses.SignedMultiplicativeInverse{Int64},N} where N} where A<:Union{DenseArray, SubArray{T,N,P,I,true} where I<:Tuple{Union{Base.Slice, UnitRange},Vararg{Any,N} where N} where P where N where T}, DenseArray{T,2}, SubArray{T,2,A,I,L} where L} where I<:Tuple{Vararg{Union{Base.AbstractCartesianIndex, Int64, Range{Int64}},N} where N} where A<:Union{Base.ReshapedArray{T,N,A,MI} where MI<:Tuple{Vararg{Base.MultiplicativeInverses.SignedMultiplicativeInverse{Int64},N} where N} where A<:Union{DenseArray, SubArray{T,N,P,I,true} where I<:Tuple{Union{Base.Slice, UnitRange},Vararg{Any,N} where N} where P where N where T} where N where T, DenseArray}} where T</b>) at <a href=\"https://github.com/JuliaLang/julia/tree/9d11f62bcb124327831206089967f93020e84200/base/linalg/tridiag.jl#L168\" target=\"_blank\">linalg/tridiag.jl:168</a></li> <li> \\(A::<b>LowerTriangular</b>, B::<b>LowerTriangular</b>) at <a href=\"https://github.com/JuliaLang/julia/tree/9d11f62bcb124327831206089967f93020e84200/base/linalg/triangular.jl#L1437\" target=\"_blank\">linalg/triangular.jl:1437</a></li> <li> \\(A::<b>Base.LinAlg.UnitLowerTriangular</b>, B::<b>LowerTriangular</b>) at <a href=\"https://github.com/JuliaLang/julia/tree/9d11f62bcb124327831206089967f93020e84200/base/linalg/triangular.jl#L1445\" target=\"_blank\">linalg/triangular.jl:1445</a></li> <li> \\(A::<b>UpperTriangular</b>, B::<b>UpperTriangular</b>) at <a href=\"https://github.com/JuliaLang/julia/tree/9d11f62bcb124327831206089967f93020e84200/base/linalg/triangular.jl#L1453\" target=\"_blank\">linalg/triangular.jl:1453</a></li> <li> \\(A::<b>Base.LinAlg.UnitUpperTriangular</b>, B::<b>UpperTriangular</b>) at <a href=\"https://github.com/JuliaLang/julia/tree/9d11f62bcb124327831206089967f93020e84200/base/linalg/triangular.jl#L1461\" target=\"_blank\">linalg/triangular.jl:1461</a></li> <li> \\<i>{TA<:Number, Tb<:Number}</i>(A::<b>Base.LinAlg.UnitLowerTriangular{TA,#s268} where #s268<:(Union{Base.ReshapedArray{T,2,A,MI} where MI<:Tuple{Vararg{Base.MultiplicativeInverses.SignedMultiplicativeInverse{Int64},N} where N} where A<:Union{DenseArray, SubArray{T,N,P,I,true} where I<:Tuple{Union{Base.Slice, UnitRange},Vararg{Any,N} where N} where P where N where T}, DenseArray{T,2}, SubArray{T,2,A,I,L} where L} where I<:Tuple{Vararg{Union{Base.AbstractCartesianIndex, Int64, Range{Int64}},N} where N} where A<:Union{Base.ReshapedArray{T,N,A,MI} where MI<:Tuple{Vararg{Base.MultiplicativeInverses.SignedMultiplicativeInverse{Int64},N} where N} where A<:Union{DenseArray, SubArray{T,N,P,I,true} where I<:Tuple{Union{Base.Slice, UnitRange},Vararg{Any,N} where N} where P where N where T} where N where T, DenseArray} where T)</b>, b::<b>SparseVector{Tb,Ti} where Ti<:Integer</b>) at <a href=\"https://github.com/JuliaLang/julia/tree/9d11f62bcb124327831206089967f93020e84200/base/sparse/sparsevector.jl#L1771\" target=\"_blank\">sparse/sparsevector.jl:1771</a></li> <li> \\<i>{TA<:Number, Tb<:Number}</i>(A::<b>Base.LinAlg.UnitLowerTriangular{TA,#s268} where #s268<:(AbstractArray{T,2} where T)</b>, b::<b>SparseVector{Tb,Ti} where Ti<:Integer</b>) at <a href=\"https://github.com/JuliaLang/julia/tree/9d11f62bcb124327831206089967f93020e84200/base/sparse/sparsevector.jl#L1762\" target=\"_blank\">sparse/sparsevector.jl:1762</a></li> <li> \\(A::<b>Base.LinAlg.UnitLowerTriangular</b>, b::<b>SparseVector</b>) at <a href=\"https://github.com/JuliaLang/julia/tree/9d11f62bcb124327831206089967f93020e84200/base/sparse/sparsevector.jl#L1790\" target=\"_blank\">sparse/sparsevector.jl:1790</a></li> <li> \\<i>{TA<:Number, Tb<:Number}</i>(A::<b>Base.LinAlg.UnitUpperTriangular{TA,#s268} where #s268<:(Union{Base.ReshapedArray{T,2,A,MI} where MI<:Tuple{Vararg{Base.MultiplicativeInverses.SignedMultiplicativeInverse{Int64},N} where N} where A<:Union{DenseArray, SubArray{T,N,P,I,true} where I<:Tuple{Union{Base.Slice, UnitRange},Vararg{Any,N} where N} where P where N where T}, DenseArray{T,2}, SubArray{T,2,A,I,L} where L} where I<:Tuple{Vararg{Union{Base.AbstractCartesianIndex, Int64, Range{Int64}},N} where N} where A<:Union{Base.ReshapedArray{T,N,A,MI} where MI<:Tuple{Vararg{Base.MultiplicativeInverses.SignedMultiplicativeInverse{Int64},N} where N} where A<:Union{DenseArray, SubArray{T,N,P,I,true} where I<:Tuple{Union{Base.Slice, UnitRange},Vararg{Any,N} where N} where P where N where T} where N where T, DenseArray} where T)</b>, b::<b>SparseVector{Tb,Ti} where Ti<:Integer</b>) at <a href=\"https://github.com/JuliaLang/julia/tree/9d11f62bcb124327831206089967f93020e84200/base/sparse/sparsevector.jl#L1771\" target=\"_blank\">sparse/sparsevector.jl:1771</a></li> <li> \\<i>{TA<:Number, Tb<:Number}</i>(A::<b>Base.LinAlg.UnitUpperTriangular{TA,#s268} where #s268<:(AbstractArray{T,2} where T)</b>, b::<b>SparseVector{Tb,Ti} where Ti<:Integer</b>) at <a href=\"https://github.com/JuliaLang/julia/tree/9d11f62bcb124327831206089967f93020e84200/base/sparse/sparsevector.jl#L1762\" target=\"_blank\">sparse/sparsevector.jl:1762</a></li> <li> \\(A::<b>Base.LinAlg.UnitUpperTriangular</b>, b::<b>SparseVector</b>) at <a href=\"https://github.com/JuliaLang/julia/tree/9d11f62bcb124327831206089967f93020e84200/base/sparse/sparsevector.jl#L1790\" target=\"_blank\">sparse/sparsevector.jl:1790</a></li> <li> \\(A::<b>Union{Base.LinAlg.UnitLowerTriangular, Base.LinAlg.UnitUpperTriangular}</b>, B::<b>AbstractArray{T,1} where T</b>) at <a href=\"https://github.com/JuliaLang/julia/tree/9d11f62bcb124327831206089967f93020e84200/base/linalg/triangular.jl#L1613\" target=\"_blank\">linalg/triangular.jl:1613</a></li> <li> \\<i>{TA<:Number, Tb<:Number}</i>(A::<b>LowerTriangular{TA,#s268} where #s268<:(Union{Base.ReshapedArray{T,2,A,MI} where MI<:Tuple{Vararg{Base.MultiplicativeInverses.SignedMultiplicativeInverse{Int64},N} where N} where A<:Union{DenseArray, SubArray{T,N,P,I,true} where I<:Tuple{Union{Base.Slice, UnitRange},Vararg{Any,N} where N} where P where N where T}, DenseArray{T,2}, SubArray{T,2,A,I,L} where L} where I<:Tuple{Vararg{Union{Base.AbstractCartesianIndex, Int64, Range{Int64}},N} where N} where A<:Union{Base.ReshapedArray{T,N,A,MI} where MI<:Tuple{Vararg{Base.MultiplicativeInverses.SignedMultiplicativeInverse{Int64},N} where N} where A<:Union{DenseArray, SubArray{T,N,P,I,true} where I<:Tuple{Union{Base.Slice, UnitRange},Vararg{Any,N} where N} where P where N where T} where N where T, DenseArray} where T)</b>, b::<b>SparseVector{Tb,Ti} where Ti<:Integer</b>) at <a href=\"https://github.com/JuliaLang/julia/tree/9d11f62bcb124327831206089967f93020e84200/base/sparse/sparsevector.jl#L1771\" target=\"_blank\">sparse/sparsevector.jl:1771</a></li> <li> \\<i>{TA<:Number, Tb<:Number}</i>(A::<b>LowerTriangular{TA,#s268} where #s268<:(AbstractArray{T,2} where T)</b>, b::<b>SparseVector{Tb,Ti} where Ti<:Integer</b>) at <a href=\"https://github.com/JuliaLang/julia/tree/9d11f62bcb124327831206089967f93020e84200/base/sparse/sparsevector.jl#L1762\" target=\"_blank\">sparse/sparsevector.jl:1762</a></li> <li> \\(A::<b>LowerTriangular</b>, b::<b>SparseVector</b>) at <a href=\"https://github.com/JuliaLang/julia/tree/9d11f62bcb124327831206089967f93020e84200/base/sparse/sparsevector.jl#L1790\" target=\"_blank\">sparse/sparsevector.jl:1790</a></li> <li> \\<i>{TA<:Number, Tb<:Number}</i>(A::<b>UpperTriangular{TA,#s268} where #s268<:(Union{Base.ReshapedArray{T,2,A,MI} where MI<:Tuple{Vararg{Base.MultiplicativeInverses.SignedMultiplicativeInverse{Int64},N} where N} where A<:Union{DenseArray, SubArray{T,N,P,I,true} where I<:Tuple{Union{Base.Slice, UnitRange},Vararg{Any,N} where N} where P where N where T}, DenseArray{T,2}, SubArray{T,2,A,I,L} where L} where I<:Tuple{Vararg{Union{Base.AbstractCartesianIndex, Int64, Range{Int64}},N} where N} where A<:Union{Base.ReshapedArray{T,N,A,MI} where MI<:Tuple{Vararg{Base.MultiplicativeInverses.SignedMultiplicativeInverse{Int64},N} where N} where A<:Union{DenseArray, SubArray{T,N,P,I,true} where I<:Tuple{Union{Base.Slice, UnitRange},Vararg{Any,N} where N} where P where N where T} where N where T, DenseArray} where T)</b>, b::<b>SparseVector{Tb,Ti} where Ti<:Integer</b>) at <a href=\"https://github.com/JuliaLang/julia/tree/9d11f62bcb124327831206089967f93020e84200/base/sparse/sparsevector.jl#L1771\" target=\"_blank\">sparse/sparsevector.jl:1771</a></li> <li> \\<i>{TA<:Number, Tb<:Number}</i>(A::<b>UpperTriangular{TA,#s268} where #s268<:(AbstractArray{T,2} where T)</b>, b::<b>SparseVector{Tb,Ti} where Ti<:Integer</b>) at <a href=\"https://github.com/JuliaLang/julia/tree/9d11f62bcb124327831206089967f93020e84200/base/sparse/sparsevector.jl#L1762\" target=\"_blank\">sparse/sparsevector.jl:1762</a></li> <li> \\(A::<b>UpperTriangular</b>, b::<b>SparseVector</b>) at <a href=\"https://github.com/JuliaLang/julia/tree/9d11f62bcb124327831206089967f93020e84200/base/sparse/sparsevector.jl#L1790\" target=\"_blank\">sparse/sparsevector.jl:1790</a></li> <li> \\<i>{T}</i>(L::<b>LowerTriangular{T,#s268} where #s268<:(SparseMatrixCSC{T,Ti} where Ti<:Integer)</b>, B::<b>SparseMatrixCSC</b>) at <a href=\"https://github.com/JuliaLang/julia/tree/9d11f62bcb124327831206089967f93020e84200/base/sparse/linalg.jl#L290\" target=\"_blank\">sparse/linalg.jl:290</a></li> <li> \\<i>{T}</i>(U::<b>UpperTriangular{T,#s268} where #s268<:(SparseMatrixCSC{T,Ti} where Ti<:Integer)</b>, B::<b>SparseMatrixCSC</b>) at <a href=\"https://github.com/JuliaLang/julia/tree/9d11f62bcb124327831206089967f93020e84200/base/sparse/linalg.jl#L291\" target=\"_blank\">sparse/linalg.jl:291</a></li> <li> \\(A::<b>Union{LowerTriangular, UpperTriangular}</b>, B::<b>AbstractArray{T,1} where T</b>) at <a href=\"https://github.com/JuliaLang/julia/tree/9d11f62bcb124327831206089967f93020e84200/base/linalg/triangular.jl#L1624\" target=\"_blank\">linalg/triangular.jl:1624</a></li> <li> \\(A::<b>Union{Base.LinAlg.UnitLowerTriangular, Base.LinAlg.UnitUpperTriangular}</b>, B::<b>AbstractArray{T,2} where T</b>) at <a href=\"https://github.com/JuliaLang/julia/tree/9d11f62bcb124327831206089967f93020e84200/base/linalg/triangular.jl#L1613\" target=\"_blank\">linalg/triangular.jl:1613</a></li> <li> \\(A::<b>Union{LowerTriangular, UpperTriangular}</b>, B::<b>AbstractArray{T,2} where T</b>) at <a href=\"https://github.com/JuliaLang/julia/tree/9d11f62bcb124327831206089967f93020e84200/base/linalg/triangular.jl#L1624\" target=\"_blank\">linalg/triangular.jl:1624</a></li> <li> \\(A::<b>Union{Hermitian{Complex{Float64},SparseMatrixCSC{Complex{Float64},Int64}}, Hermitian{Float64,SparseMatrixCSC{Float64,Int64}}, Symmetric{Float64,SparseMatrixCSC{Float64,Int64}}}</b>, B::<b>Union{Union{Base.ReshapedArray{T,1,A,MI} where MI<:Tuple{Vararg{Base.MultiplicativeInverses.SignedMultiplicativeInverse{Int64},N} where N} where A<:Union{DenseArray, SubArray{T,N,P,I,true} where I<:Tuple{Union{Base.Slice, UnitRange},Vararg{Any,N} where N} where P where N where T}, DenseArray{T,1}, SubArray{T,1,A,I,L} where L} where I<:Tuple{Vararg{Union{Base.AbstractCartesianIndex, Int64, Range{Int64}},N} where N} where A<:Union{Base.ReshapedArray{T,N,A,MI} where MI<:Tuple{Vararg{Base.MultiplicativeInverses.SignedMultiplicativeInverse{Int64},N} where N} where A<:Union{DenseArray, SubArray{T,N,P,I,true} where I<:Tuple{Union{Base.Slice, UnitRange},Vararg{Any,N} where N} where P where N where T} where N where T, DenseArray}, Union{Base.ReshapedArray{T,2,A,MI} where MI<:Tuple{Vararg{Base.MultiplicativeInverses.SignedMultiplicativeInverse{Int64},N} where N} where A<:Union{DenseArray, SubArray{T,N,P,I,true} where I<:Tuple{Union{Base.Slice, UnitRange},Vararg{Any,N} where N} where P where N where T}, DenseArray{T,2}, SubArray{T,2,A,I,L} where L} where I<:Tuple{Vararg{Union{Base.AbstractCartesianIndex, Int64, Range{Int64}},N} where N} where A<:Union{Base.ReshapedArray{T,N,A,MI} where MI<:Tuple{Vararg{Base.MultiplicativeInverses.SignedMultiplicativeInverse{Int64},N} where N} where A<:Union{DenseArray, SubArray{T,N,P,I,true} where I<:Tuple{Union{Base.Slice, UnitRange},Vararg{Any,N} where N} where P where N where T} where N where T, DenseArray}} where T</b>) at <a href=\"https://github.com/JuliaLang/julia/tree/9d11f62bcb124327831206089967f93020e84200/base/sparse/cholmod.jl#L1620\" target=\"_blank\">sparse/cholmod.jl:1620</a></li> <li> \\(A::<b>Union{Hermitian{#s268,#s267}, Symmetric{#s268,#s267}} where #s267<:(Union{Base.ReshapedArray{T,2,A,MI} where MI<:Tuple{Vararg{Base.MultiplicativeInverses.SignedMultiplicativeInverse{Int64},N} where N} where A<:Union{DenseArray, SubArray{T,N,P,I,true} where I<:Tuple{Union{Base.Slice, UnitRange},Vararg{Any,N} where N} where P where N where T}, DenseArray{T,2}, SubArray{T,2,A,I,L} where L} where I<:Tuple{Vararg{Union{Base.AbstractCartesianIndex, Int64, Range{Int64}},N} where N} where A<:Union{Base.ReshapedArray{T,N,A,MI} where MI<:Tuple{Vararg{Base.MultiplicativeInverses.SignedMultiplicativeInverse{Int64},N} where N} where A<:Union{DenseArray, SubArray{T,N,P,I,true} where I<:Tuple{Union{Base.Slice, UnitRange},Vararg{Any,N} where N} where P where N where T} where N where T, DenseArray} where T) where #s268</b>, B::<b>Union{Union{Base.ReshapedArray{T,1,A,MI} where MI<:Tuple{Vararg{Base.MultiplicativeInverses.SignedMultiplicativeInverse{Int64},N} where N} where A<:Union{DenseArray, SubArray{T,N,P,I,true} where I<:Tuple{Union{Base.Slice, UnitRange},Vararg{Any,N} where N} where P where N where T}, DenseArray{T,1}, SubArray{T,1,A,I,L} where L} where I<:Tuple{Vararg{Union{Base.AbstractCartesianIndex, Int64, Range{Int64}},N} where N} where A<:Union{Base.ReshapedArray{T,N,A,MI} where MI<:Tuple{Vararg{Base.MultiplicativeInverses.SignedMultiplicativeInverse{Int64},N} where N} where A<:Union{DenseArray, SubArray{T,N,P,I,true} where I<:Tuple{Union{Base.Slice, UnitRange},Vararg{Any,N} where N} where P where N where T} where N where T, DenseArray}, Union{Base.ReshapedArray{T,2,A,MI} where MI<:Tuple{Vararg{Base.MultiplicativeInverses.SignedMultiplicativeInverse{Int64},N} where N} where A<:Union{DenseArray, SubArray{T,N,P,I,true} where I<:Tuple{Union{Base.Slice, UnitRange},Vararg{Any,N} where N} where P where N where T}, DenseArray{T,2}, SubArray{T,2,A,I,L} where L} where I<:Tuple{Vararg{Union{Base.AbstractCartesianIndex, Int64, Range{Int64}},N} where N} where A<:Union{Base.ReshapedArray{T,N,A,MI} where MI<:Tuple{Vararg{Base.MultiplicativeInverses.SignedMultiplicativeInverse{Int64},N} where N} where A<:Union{DenseArray, SubArray{T,N,P,I,true} where I<:Tuple{Union{Base.Slice, UnitRange},Vararg{Any,N} where N} where P where N where T} where N where T, DenseArray}} where T</b>) at <a href=\"https://github.com/JuliaLang/julia/tree/9d11f62bcb124327831206089967f93020e84200/base/linalg/symmetric.jl#L286\" target=\"_blank\">linalg/symmetric.jl:286</a></li> <li> \\(Da::<b>Diagonal</b>, Db::<b>Diagonal</b>) at <a href=\"https://github.com/JuliaLang/julia/tree/9d11f62bcb124327831206089967f93020e84200/base/linalg/diagonal.jl#L319\" target=\"_blank\">linalg/diagonal.jl:319</a></li> <li> \\(D::<b>Diagonal</b>, A::<b>AbstractArray{T,2} where T</b>) at <a href=\"https://github.com/JuliaLang/julia/tree/9d11f62bcb124327831206089967f93020e84200/base/linalg/diagonal.jl#L317\" target=\"_blank\">linalg/diagonal.jl:317</a></li> <li> \\(D::<b>Diagonal</b>, b::<b>AbstractArray{T,1} where T</b>) at <a href=\"https://github.com/JuliaLang/julia/tree/9d11f62bcb124327831206089967f93020e84200/base/linalg/diagonal.jl#L318\" target=\"_blank\">linalg/diagonal.jl:318</a></li> <li> \\<i>{TA<:Number, TB<:Number}</i>(A::<b>Bidiagonal{TA}</b>, B::<b>Union{AbstractArray{TB,1}, AbstractArray{TB,2}}</b>) at <a href=\"https://github.com/JuliaLang/julia/tree/9d11f62bcb124327831206089967f93020e84200/base/linalg/bidiag.jl#L585\" target=\"_blank\">linalg/bidiag.jl:585</a></li> <li> \\(A::<b>Bidiagonal</b>, B::<b>Union{AbstractArray{T,1}, AbstractArray{T,2}} where T</b>) at <a href=\"https://github.com/JuliaLang/julia/tree/9d11f62bcb124327831206089967f93020e84200/base/linalg/bidiag.jl#L588\" target=\"_blank\">linalg/bidiag.jl:588</a></li> <li> \\(A::<b>SparseMatrixCSC</b>, B::<b>Union{AbstractArray{T,1}, AbstractArray{T,2}} where T</b>) at <a href=\"https://github.com/JuliaLang/julia/tree/9d11f62bcb124327831206089967f93020e84200/base/sparse/linalg.jl#L857\" target=\"_blank\">sparse/linalg.jl:857</a></li> <li> \\<i>{T}</i>(L::<b>Base.SparseArrays.CHOLMOD.FactorComponent{T,:L}</b>, B::<b>Base.SparseArrays.CHOLMOD.Dense</b>) at <a href=\"https://github.com/JuliaLang/julia/tree/9d11f62bcb124327831206089967f93020e84200/base/sparse/cholmod.jl#L1550\" target=\"_blank\">sparse/cholmod.jl:1550</a></li> <li> \\<i>{T}</i>(L::<b>Base.SparseArrays.CHOLMOD.FactorComponent{T,:U}</b>, B::<b>Base.SparseArrays.CHOLMOD.Dense</b>) at <a href=\"https://github.com/JuliaLang/julia/tree/9d11f62bcb124327831206089967f93020e84200/base/sparse/cholmod.jl#L1553\" target=\"_blank\">sparse/cholmod.jl:1553</a></li> <li> \\<i>{T}</i>(L::<b>Base.SparseArrays.CHOLMOD.FactorComponent{T,:PtL}</b>, B::<b>Base.SparseArrays.CHOLMOD.Dense</b>) at <a href=\"https://github.com/JuliaLang/julia/tree/9d11f62bcb124327831206089967f93020e84200/base/sparse/cholmod.jl#L1557\" target=\"_blank\">sparse/cholmod.jl:1557</a></li> <li> \\<i>{T}</i>(L::<b>Base.SparseArrays.CHOLMOD.FactorComponent{T,:UP}</b>, B::<b>Base.SparseArrays.CHOLMOD.Dense</b>) at <a href=\"https://github.com/JuliaLang/julia/tree/9d11f62bcb124327831206089967f93020e84200/base/sparse/cholmod.jl#L1561\" target=\"_blank\">sparse/cholmod.jl:1561</a></li> <li> \\<i>{T}</i>(L::<b>Base.SparseArrays.CHOLMOD.FactorComponent{T,:D}</b>, B::<b>Base.SparseArrays.CHOLMOD.Dense</b>) at <a href=\"https://github.com/JuliaLang/julia/tree/9d11f62bcb124327831206089967f93020e84200/base/sparse/cholmod.jl#L1566\" target=\"_blank\">sparse/cholmod.jl:1566</a></li> <li> \\<i>{T}</i>(L::<b>Base.SparseArrays.CHOLMOD.FactorComponent{T,:LD}</b>, B::<b>Base.SparseArrays.CHOLMOD.Dense</b>) at <a href=\"https://github.com/JuliaLang/julia/tree/9d11f62bcb124327831206089967f93020e84200/base/sparse/cholmod.jl#L1569\" target=\"_blank\">sparse/cholmod.jl:1569</a></li> <li> \\<i>{T}</i>(L::<b>Base.SparseArrays.CHOLMOD.FactorComponent{T,:DU}</b>, B::<b>Base.SparseArrays.CHOLMOD.Dense</b>) at <a href=\"https://github.com/JuliaLang/julia/tree/9d11f62bcb124327831206089967f93020e84200/base/sparse/cholmod.jl#L1572\" target=\"_blank\">sparse/cholmod.jl:1572</a></li> <li> \\<i>{T}</i>(L::<b>Base.SparseArrays.CHOLMOD.FactorComponent{T,:PtLD}</b>, B::<b>Base.SparseArrays.CHOLMOD.Dense</b>) at <a href=\"https://github.com/JuliaLang/julia/tree/9d11f62bcb124327831206089967f93020e84200/base/sparse/cholmod.jl#L1575\" target=\"_blank\">sparse/cholmod.jl:1575</a></li> <li> \\<i>{T}</i>(L::<b>Base.SparseArrays.CHOLMOD.FactorComponent{T,:DUP}</b>, B::<b>Base.SparseArrays.CHOLMOD.Dense</b>) at <a href=\"https://github.com/JuliaLang/julia/tree/9d11f62bcb124327831206089967f93020e84200/base/sparse/cholmod.jl#L1579\" target=\"_blank\">sparse/cholmod.jl:1579</a></li> <li> \\<i>{T}</i>(L::<b>Base.SparseArrays.CHOLMOD.FactorComponent{T,:L}</b>, B::<b>Base.SparseArrays.CHOLMOD.Sparse</b>) at <a href=\"https://github.com/JuliaLang/julia/tree/9d11f62bcb124327831206089967f93020e84200/base/sparse/cholmod.jl#L1550\" target=\"_blank\">sparse/cholmod.jl:1550</a></li> <li> \\<i>{T}</i>(L::<b>Base.SparseArrays.CHOLMOD.FactorComponent{T,:U}</b>, B::<b>Base.SparseArrays.CHOLMOD.Sparse</b>) at <a href=\"https://github.com/JuliaLang/julia/tree/9d11f62bcb124327831206089967f93020e84200/base/sparse/cholmod.jl#L1553\" target=\"_blank\">sparse/cholmod.jl:1553</a></li> <li> \\<i>{T}</i>(L::<b>Base.SparseArrays.CHOLMOD.FactorComponent{T,:PtL}</b>, B::<b>Base.SparseArrays.CHOLMOD.Sparse</b>) at <a href=\"https://github.com/JuliaLang/julia/tree/9d11f62bcb124327831206089967f93020e84200/base/sparse/cholmod.jl#L1557\" target=\"_blank\">sparse/cholmod.jl:1557</a></li> <li> \\<i>{T}</i>(L::<b>Base.SparseArrays.CHOLMOD.FactorComponent{T,:UP}</b>, B::<b>Base.SparseArrays.CHOLMOD.Sparse</b>) at <a href=\"https://github.com/JuliaLang/julia/tree/9d11f62bcb124327831206089967f93020e84200/base/sparse/cholmod.jl#L1561\" target=\"_blank\">sparse/cholmod.jl:1561</a></li> <li> \\<i>{T}</i>(L::<b>Base.SparseArrays.CHOLMOD.FactorComponent{T,:D}</b>, B::<b>Base.SparseArrays.CHOLMOD.Sparse</b>) at <a href=\"https://github.com/JuliaLang/julia/tree/9d11f62bcb124327831206089967f93020e84200/base/sparse/cholmod.jl#L1566\" target=\"_blank\">sparse/cholmod.jl:1566</a></li> <li> \\<i>{T}</i>(L::<b>Base.SparseArrays.CHOLMOD.FactorComponent{T,:LD}</b>, B::<b>Base.SparseArrays.CHOLMOD.Sparse</b>) at <a href=\"https://github.com/JuliaLang/julia/tree/9d11f62bcb124327831206089967f93020e84200/base/sparse/cholmod.jl#L1569\" target=\"_blank\">sparse/cholmod.jl:1569</a></li> <li> \\<i>{T}</i>(L::<b>Base.SparseArrays.CHOLMOD.FactorComponent{T,:DU}</b>, B::<b>Base.SparseArrays.CHOLMOD.Sparse</b>) at <a href=\"https://github.com/JuliaLang/julia/tree/9d11f62bcb124327831206089967f93020e84200/base/sparse/cholmod.jl#L1572\" target=\"_blank\">sparse/cholmod.jl:1572</a></li> <li> \\<i>{T}</i>(L::<b>Base.SparseArrays.CHOLMOD.FactorComponent{T,:PtLD}</b>, B::<b>Base.SparseArrays.CHOLMOD.Sparse</b>) at <a href=\"https://github.com/JuliaLang/julia/tree/9d11f62bcb124327831206089967f93020e84200/base/sparse/cholmod.jl#L1575\" target=\"_blank\">sparse/cholmod.jl:1575</a></li> <li> \\<i>{T}</i>(L::<b>Base.SparseArrays.CHOLMOD.FactorComponent{T,:DUP}</b>, B::<b>Base.SparseArrays.CHOLMOD.Sparse</b>) at <a href=\"https://github.com/JuliaLang/julia/tree/9d11f62bcb124327831206089967f93020e84200/base/sparse/cholmod.jl#L1579\" target=\"_blank\">sparse/cholmod.jl:1579</a></li> <li> \\(L::<b>Base.SparseArrays.CHOLMOD.FactorComponent</b>, b::<b>Array{T,1} where T</b>) at <a href=\"https://github.com/JuliaLang/julia/tree/9d11f62bcb124327831206089967f93020e84200/base/sparse/cholmod.jl#L1588\" target=\"_blank\">sparse/cholmod.jl:1588</a></li> <li> \\(L::<b>Base.SparseArrays.CHOLMOD.FactorComponent</b>, B::<b>Array{T,2} where T</b>) at <a href=\"https://github.com/JuliaLang/julia/tree/9d11f62bcb124327831206089967f93020e84200/base/sparse/cholmod.jl#L1591\" target=\"_blank\">sparse/cholmod.jl:1591</a></li> <li> \\(L::<b>Base.SparseArrays.CHOLMOD.FactorComponent</b>, B::<b>Union{SparseMatrixCSC{Tv,Ti}, SparseVector{Tv,Ti}} where Ti where Tv</b>) at <a href=\"https://github.com/JuliaLang/julia/tree/9d11f62bcb124327831206089967f93020e84200/base/sparse/cholmod.jl#L1594\" target=\"_blank\">sparse/cholmod.jl:1594</a></li> <li> \\(A::<b>AbstractArray{T,2} where T</b>, B::<b>Union{AbstractArray{T,1}, AbstractArray{T,2}} where T</b>) at <a href=\"https://github.com/JuliaLang/julia/tree/9d11f62bcb124327831206089967f93020e84200/base/linalg/generic.jl#L820\" target=\"_blank\">linalg/generic.jl:820</a></li> <li> \\(a::<b>AbstractArray{T,1} where T</b>, b::<b>AbstractArray</b>) at <a href=\"https://github.com/JuliaLang/julia/tree/9d11f62bcb124327831206089967f93020e84200/base/linalg/generic.jl#L837\" target=\"_blank\">linalg/generic.jl:837</a></li> <li> \\<i>{T<:Union{Float32, Float64}}</i>(A::<b>Union{Base.LinAlg.QRCompactWY{T,M} where M<:(AbstractArray{T,2} where T), Base.LinAlg.QRPivoted{T,S} where S<:(AbstractArray{T,2} where T), Base.LinAlg.QR{T,S} where S<:(AbstractArray{T,2} where T)}</b>, BIn::<b>Union{Array{Complex{T},1}, Array{Complex{T},2}}</b>) at <a href=\"https://github.com/JuliaLang/julia/tree/9d11f62bcb124327831206089967f93020e84200/base/linalg/qr.jl#L821\" target=\"_blank\">linalg/qr.jl:821</a></li> <li> \\<i>{T<:Union{Float32, Float64}}</i>(F::<b>Base.LinAlg.LQ{T,S} where S<:(AbstractArray{T,2} where T)</b>, B::<b>Union{Array{Complex{T},1}, Array{Complex{T},2}}</b>) at <a href=\"https://github.com/JuliaLang/julia/tree/9d11f62bcb124327831206089967f93020e84200/base/linalg/lq.jl#L221\" target=\"_blank\">linalg/lq.jl:221</a></li> <li> \\<i>{T<:Float64}</i>(L::<b>Base.SparseArrays.CHOLMOD.Factor{T}</b>, B::<b>Array{Complex{T},1}</b>) at <a href=\"https://github.com/JuliaLang/julia/tree/9d11f62bcb124327831206089967f93020e84200/base/sparse/cholmod.jl#L1603\" target=\"_blank\">sparse/cholmod.jl:1603</a></li> <li> \\<i>{T<:Float64}</i>(L::<b>Base.SparseArrays.CHOLMOD.Factor{T}</b>, B::<b>Array{Complex{T},2}</b>) at <a href=\"https://github.com/JuliaLang/julia/tree/9d11f62bcb124327831206089967f93020e84200/base/sparse/cholmod.jl#L1604\" target=\"_blank\">sparse/cholmod.jl:1604</a></li> <li> \\<i>{T<:Union{Float32, Float64}}</i>(F::<b>Factorization{T}</b>, B::<b>Union{Array{Complex{T},1}, Array{Complex{T},2}}</b>) at <a href=\"https://github.com/JuliaLang/julia/tree/9d11f62bcb124327831206089967f93020e84200/base/linalg/factorization.jl#L36\" target=\"_blank\">linalg/factorization.jl:36</a></li> <li> \\<i>{TA, TB}</i>(A::<b>Union{Base.LinAlg.QRCompactWY{TA,M} where M<:(AbstractArray{T,2} where T), Base.LinAlg.QRPivoted{TA,S} where S<:(AbstractArray{T,2} where T), Base.LinAlg.QR{TA,S} where S<:(AbstractArray{T,2} where T)}</b>, B::<b>Union{AbstractArray{TB,1}, AbstractArray{TB,2}}</b>) at <a href=\"https://github.com/JuliaLang/julia/tree/9d11f62bcb124327831206089967f93020e84200/base/linalg/qr.jl#L799\" target=\"_blank\">linalg/qr.jl:799</a></li> <li> \\<i>{TA, Tb}</i>(A::<b>Base.LinAlg.LQ{TA,S} where S<:(AbstractArray{T,2} where T)</b>, b::<b>Union{Base.ReshapedArray{Tb,1,A,MI} where MI<:Tuple{Vararg{Base.MultiplicativeInverses.SignedMultiplicativeInverse{Int64},N} where N} where A<:Union{DenseArray, SubArray{T,N,P,I,true} where I<:Tuple{Union{Base.Slice, UnitRange},Vararg{Any,N} where N} where P where N where T}, DenseArray{Tb,1}, SubArray{Tb,1,A,I,L} where L} where I<:Tuple{Vararg{Union{Base.AbstractCartesianIndex, Int64, Range{Int64}},N} where N} where A<:Union{Base.ReshapedArray{T,N,A,MI} where MI<:Tuple{Vararg{Base.MultiplicativeInverses.SignedMultiplicativeInverse{Int64},N} where N} where A<:Union{DenseArray, SubArray{T,N,P,I,true} where I<:Tuple{Union{Base.Slice, UnitRange},Vararg{Any,N} where N} where P where N where T} where N where T, DenseArray}</b>) at <a href=\"https://github.com/JuliaLang/julia/tree/9d11f62bcb124327831206089967f93020e84200/base/linalg/lq.jl#L203\" target=\"_blank\">linalg/lq.jl:203</a></li> <li> \\<i>{TA, TB}</i>(A::<b>Base.LinAlg.LQ{TA,S} where S<:(AbstractArray{T,2} where T)</b>, B::<b>Union{Base.ReshapedArray{TB,2,A,MI} where MI<:Tuple{Vararg{Base.MultiplicativeInverses.SignedMultiplicativeInverse{Int64},N} where N} where A<:Union{DenseArray, SubArray{T,N,P,I,true} where I<:Tuple{Union{Base.Slice, UnitRange},Vararg{Any,N} where N} where P where N where T}, DenseArray{TB,2}, SubArray{TB,2,A,I,L} where L} where I<:Tuple{Vararg{Union{Base.AbstractCartesianIndex, Int64, Range{Int64}},N} where N} where A<:Union{Base.ReshapedArray{T,N,A,MI} where MI<:Tuple{Vararg{Base.MultiplicativeInverses.SignedMultiplicativeInverse{Int64},N} where N} where A<:Union{DenseArray, SubArray{T,N,P,I,true} where I<:Tuple{Union{Base.Slice, UnitRange},Vararg{Any,N} where N} where P where N where T} where N where T, DenseArray}</b>) at <a href=\"https://github.com/JuliaLang/julia/tree/9d11f62bcb124327831206089967f93020e84200/base/linalg/lq.jl#L211\" target=\"_blank\">linalg/lq.jl:211</a></li> <li> \\<i>{T<:Union{Complex{Float64}, Float64}}</i>(L::<b>Base.SparseArrays.CHOLMOD.Factor{T}</b>, B::<b>Base.SparseArrays.CHOLMOD.Dense{T}</b>) at <a href=\"https://github.com/JuliaLang/julia/tree/9d11f62bcb124327831206089967f93020e84200/base/sparse/cholmod.jl#L1600\" target=\"_blank\">sparse/cholmod.jl:1600</a></li> <li> \\<i>{T<:Union{Complex{Float64}, Float64}}</i>(L::<b>Base.SparseArrays.CHOLMOD.Factor{T}</b>, b::<b>Union{Base.ReshapedArray{T,1,A,MI} where MI<:Tuple{Vararg{Base.MultiplicativeInverses.SignedMultiplicativeInverse{Int64},N} where N} where A<:Union{DenseArray, SubArray{T,N,P,I,true} where I<:Tuple{Union{Base.Slice, UnitRange},Vararg{Any,N} where N} where P where N where T}, DenseArray{T,1}, SubArray{T,1,A,I,L} where L} where I<:Tuple{Vararg{Union{Base.AbstractCartesianIndex, Int64, Range{Int64}},N} where N} where A<:Union{Base.ReshapedArray{T,N,A,MI} where MI<:Tuple{Vararg{Base.MultiplicativeInverses.SignedMultiplicativeInverse{Int64},N} where N} where A<:Union{DenseArray, SubArray{T,N,P,I,true} where I<:Tuple{Union{Base.Slice, UnitRange},Vararg{Any,N} where N} where P where N where T} where N where T, DenseArray} where T</b>) at <a href=\"https://github.com/JuliaLang/julia/tree/9d11f62bcb124327831206089967f93020e84200/base/sparse/cholmod.jl#L1605\" target=\"_blank\">sparse/cholmod.jl:1605</a></li> <li> \\<i>{T<:Union{Complex{Float64}, Float64}}</i>(L::<b>Base.SparseArrays.CHOLMOD.Factor{T}</b>, B::<b>Union{Base.ReshapedArray{T,2,A,MI} where MI<:Tuple{Vararg{Base.MultiplicativeInverses.SignedMultiplicativeInverse{Int64},N} where N} where A<:Union{DenseArray, SubArray{T,N,P,I,true} where I<:Tuple{Union{Base.Slice, UnitRange},Vararg{Any,N} where N} where P where N where T}, DenseArray{T,2}, SubArray{T,2,A,I,L} where L} where I<:Tuple{Vararg{Union{Base.AbstractCartesianIndex, Int64, Range{Int64}},N} where N} where A<:Union{Base.ReshapedArray{T,N,A,MI} where MI<:Tuple{Vararg{Base.MultiplicativeInverses.SignedMultiplicativeInverse{Int64},N} where N} where A<:Union{DenseArray, SubArray{T,N,P,I,true} where I<:Tuple{Union{Base.Slice, UnitRange},Vararg{Any,N} where N} where P where N where T} where N where T, DenseArray} where T</b>) at <a href=\"https://github.com/JuliaLang/julia/tree/9d11f62bcb124327831206089967f93020e84200/base/sparse/cholmod.jl#L1606\" target=\"_blank\">sparse/cholmod.jl:1606</a></li> <li> \\(L::<b>Base.SparseArrays.CHOLMOD.Factor</b>, B::<b>Base.SparseArrays.CHOLMOD.Sparse</b>) at <a href=\"https://github.com/JuliaLang/julia/tree/9d11f62bcb124327831206089967f93020e84200/base/sparse/cholmod.jl#L1607\" target=\"_blank\">sparse/cholmod.jl:1607</a></li> <li> \\(L::<b>Base.SparseArrays.CHOLMOD.Factor</b>, B::<b>Union{SparseMatrixCSC{Tv,Ti}, SparseVector{Tv,Ti}} where Ti where Tv</b>) at <a href=\"https://github.com/JuliaLang/julia/tree/9d11f62bcb124327831206089967f93020e84200/base/sparse/cholmod.jl#L1609\" target=\"_blank\">sparse/cholmod.jl:1609</a></li> <li> \\<i>{T<:Union{Complex{Float64}, Float64}}</i>(F::<b>Base.SparseArrays.SPQR.Factorization{T}</b>, B::<b>Union{Union{Base.ReshapedArray{T,1,A,MI} where MI<:Tuple{Vararg{Base.MultiplicativeInverses.SignedMultiplicativeInverse{Int64},N} where N} where A<:Union{DenseArray, SubArray{T,N,P,I,true} where I<:Tuple{Union{Base.Slice, UnitRange},Vararg{Any,N} where N} where P where N where T}, DenseArray{T,1}, SubArray{T,1,A,I,L} where L} where I<:Tuple{Vararg{Union{Base.AbstractCartesianIndex, Int64, Range{Int64}},N} where N} where A<:Union{Base.ReshapedArray{T,N,A,MI} where MI<:Tuple{Vararg{Base.MultiplicativeInverses.SignedMultiplicativeInverse{Int64},N} where N} where A<:Union{DenseArray, SubArray{T,N,P,I,true} where I<:Tuple{Union{Base.Slice, UnitRange},Vararg{Any,N} where N} where P where N where T} where N where T, DenseArray}, Union{Base.ReshapedArray{T,2,A,MI} where MI<:Tuple{Vararg{Base.MultiplicativeInverses.SignedMultiplicativeInverse{Int64},N} where N} where A<:Union{DenseArray, SubArray{T,N,P,I,true} where I<:Tuple{Union{Base.Slice, UnitRange},Vararg{Any,N} where N} where P where N where T}, DenseArray{T,2}, SubArray{T,2,A,I,L} where L} where I<:Tuple{Vararg{Union{Base.AbstractCartesianIndex, Int64, Range{Int64}},N} where N} where A<:Union{Base.ReshapedArray{T,N,A,MI} where MI<:Tuple{Vararg{Base.MultiplicativeInverses.SignedMultiplicativeInverse{Int64},N} where N} where A<:Union{DenseArray, SubArray{T,N,P,I,true} where I<:Tuple{Union{Base.Slice, UnitRange},Vararg{Any,N} where N} where P where N where T} where N where T, DenseArray}}</b>) at <a href=\"https://github.com/JuliaLang/julia/tree/9d11f62bcb124327831206089967f93020e84200/base/sparse/spqr.jl#L178\" target=\"_blank\">sparse/spqr.jl:178</a></li> <li> \\(F::<b>Base.SparseArrays.SPQR.Factorization</b>, B::<b>Union{Union{Base.ReshapedArray{T,1,A,MI} where MI<:Tuple{Vararg{Base.MultiplicativeInverses.SignedMultiplicativeInverse{Int64},N} where N} where A<:Union{DenseArray, SubArray{T,N,P,I,true} where I<:Tuple{Union{Base.Slice, UnitRange},Vararg{Any,N} where N} where P where N where T}, DenseArray{T,1}, SubArray{T,1,A,I,L} where L} where I<:Tuple{Vararg{Union{Base.AbstractCartesianIndex, Int64, Range{Int64}},N} where N} where A<:Union{Base.ReshapedArray{T,N,A,MI} where MI<:Tuple{Vararg{Base.MultiplicativeInverses.SignedMultiplicativeInverse{Int64},N} where N} where A<:Union{DenseArray, SubArray{T,N,P,I,true} where I<:Tuple{Union{Base.Slice, UnitRange},Vararg{Any,N} where N} where P where N where T} where N where T, DenseArray}, Union{Base.ReshapedArray{T,2,A,MI} where MI<:Tuple{Vararg{Base.MultiplicativeInverses.SignedMultiplicativeInverse{Int64},N} where N} where A<:Union{DenseArray, SubArray{T,N,P,I,true} where I<:Tuple{Union{Base.Slice, UnitRange},Vararg{Any,N} where N} where P where N where T}, DenseArray{T,2}, SubArray{T,2,A,I,L} where L} where I<:Tuple{Vararg{Union{Base.AbstractCartesianIndex, Int64, Range{Int64}},N} where N} where A<:Union{Base.ReshapedArray{T,N,A,MI} where MI<:Tuple{Vararg{Base.MultiplicativeInverses.SignedMultiplicativeInverse{Int64},N} where N} where A<:Union{DenseArray, SubArray{T,N,P,I,true} where I<:Tuple{Union{Base.Slice, UnitRange},Vararg{Any,N} where N} where P where N where T} where N where T, DenseArray}} where T</b>) at <a href=\"https://github.com/JuliaLang/julia/tree/9d11f62bcb124327831206089967f93020e84200/base/sparse/spqr.jl#L182\" target=\"_blank\">sparse/spqr.jl:182</a></li> <li> \\(F::<b>Factorization</b>, B::<b>Union{AbstractArray{T,1}, AbstractArray{T,2}} where T</b>) at <a href=\"https://github.com/JuliaLang/julia/tree/9d11f62bcb124327831206089967f93020e84200/base/linalg/factorization.jl#L45\" target=\"_blank\">linalg/factorization.jl:45</a></li> <li> \\(J1::<b>UniformScaling</b>, J2::<b>UniformScaling</b>) at <a href=\"https://github.com/JuliaLang/julia/tree/9d11f62bcb124327831206089967f93020e84200/base/linalg/uniformscaling.jl#L162\" target=\"_blank\">linalg/uniformscaling.jl:162</a></li> <li> \\<i>{T<:Number}</i>(A::<b>Union{Base.LinAlg.AbstractTriangular{T,S} where S<:(AbstractArray{T,2} where T), Bidiagonal{T}}</b>, J::<b>UniformScaling</b>) at <a href=\"https://github.com/JuliaLang/julia/tree/9d11f62bcb124327831206089967f93020e84200/base/linalg/uniformscaling.jl#L163\" target=\"_blank\">linalg/uniformscaling.jl:163</a></li> <li> \\(J::<b>UniformScaling</b>, A::<b>Union{AbstractArray{T,1}, AbstractArray{T,2}} where T</b>) at <a href=\"https://github.com/JuliaLang/julia/tree/9d11f62bcb124327831206089967f93020e84200/base/linalg/uniformscaling.jl#L164\" target=\"_blank\">linalg/uniformscaling.jl:164</a></li> <li> \\(A::<b>AbstractArray{T,2} where T</b>, J::<b>UniformScaling</b>) at <a href=\"https://github.com/JuliaLang/julia/tree/9d11f62bcb124327831206089967f93020e84200/base/linalg/uniformscaling.jl#L165\" target=\"_blank\">linalg/uniformscaling.jl:165</a></li> <li> \\(x::<b>Number</b>, J::<b>UniformScaling</b>) at <a href=\"https://github.com/JuliaLang/julia/tree/9d11f62bcb124327831206089967f93020e84200/base/linalg/uniformscaling.jl#L167\" target=\"_blank\">linalg/uniformscaling.jl:167</a></li> <li> \\(p::<b>Base.DFT.Plan</b>, x::<b>AbstractArray</b>) at <a href=\"https://github.com/JuliaLang/julia/tree/9d11f62bcb124327831206089967f93020e84200/base/dft.jl#L233\" target=\"_blank\">dft.jl:233</a></li> <li> \\(x, y) at <a href=\"https://github.com/JuliaLang/julia/tree/9d11f62bcb124327831206089967f93020e84200/base/operators.jl#L457\" target=\"_blank\">operators.jl:457</a></li> </ul>"
      ],
      "text/plain": [
       "# 92 methods for generic function \"\\\":\n",
       "\\(a::Float16, b::Float16) in Base at float.jl:372\n",
       "\\(F::Base.SparseArrays.SPQR.Factorization{Float64}, B::Union{Array{Complex{Float64},1}, Array{Complex{Float64},2}}) in Base.SparseArrays.SPQR at sparse/spqr.jl:167\n",
       "\\(x::Number, A::UpperTriangular) in Base.LinAlg at linalg/triangular.jl:607\n",
       "\\(x::Number, A::Base.LinAlg.UnitUpperTriangular) in Base.LinAlg at linalg/triangular.jl:610\n",
       "\\(x::Number, A::LowerTriangular) in Base.LinAlg at linalg/triangular.jl:607\n",
       "\\(x::Number, A::Base.LinAlg.UnitLowerTriangular) in Base.LinAlg at linalg/triangular.jl:610\n",
       "\\(A::Number, B::AbstractArray) in Base at arraymath.jl:45\n",
       "\\(A::Union{BitArray{1}, BitArray{2}}, B::Union{BitArray{1}, BitArray{2}}) in Base at bitarray.jl:1193\n",
       "\\(::Union{LowerTriangular, UpperTriangular}, ::RowVector) in Base.LinAlg at linalg/triangular.jl:1701\n",
       "\\(::Union{Base.LinAlg.UnitLowerTriangular, Base.LinAlg.UnitUpperTriangular}, ::RowVector) in Base.LinAlg at linalg/triangular.jl:1702\n",
       "\\(::Diagonal, ::RowVector) in Base.LinAlg at linalg/bidiag.jl:362\n",
       "\\(::Bidiagonal{#s268} where #s268<:Number, ::RowVector{#s267,V} where V<:(AbstractArray{T,1} where T) where #s267<:Number) in Base.LinAlg at linalg/bidiag.jl:364\n",
       "\\(::Bidiagonal, ::RowVector) in Base.LinAlg at linalg/bidiag.jl:363\n",
       "\\(::SparseMatrixCSC, ::RowVector) in Base.SparseArrays at sparse/linalg.jl:876\n",
       "\\(mat::AbstractArray{T,2} where T, rowvec::RowVector) in Base.LinAlg at linalg/rowvector.jl:234\n",
       "\\(T::SymTridiagonal, B::Union{Union{Base.ReshapedArray{T,1,A,MI} where MI<:Tuple{Vararg{Base.MultiplicativeInverses.SignedMultiplicativeInverse{Int64},N} where N} where A<:Union{DenseArray, SubArray{T,N,P,I,true} where I<:Tuple{Union{Base.Slice, UnitRange},Vararg{Any,N} where N} where P where N where T}, DenseArray{T,1}, SubArray{T,1,A,I,L} where L} where I<:Tuple{Vararg{Union{Base.AbstractCartesianIndex, Int64, Range{Int64}},N} where N} where A<:Union{Base.ReshapedArray{T,N,A,MI} where MI<:Tuple{Vararg{Base.MultiplicativeInverses.SignedMultiplicativeInverse{Int64},N} where N} where A<:Union{DenseArray, SubArray{T,N,P,I,true} where I<:Tuple{Union{Base.Slice, UnitRange},Vararg{Any,N} where N} where P where N where T} where N where T, DenseArray}, Union{Base.ReshapedArray{T,2,A,MI} where MI<:Tuple{Vararg{Base.MultiplicativeInverses.SignedMultiplicativeInverse{Int64},N} where N} where A<:Union{DenseArray, SubArray{T,N,P,I,true} where I<:Tuple{Union{Base.Slice, UnitRange},Vararg{Any,N} where N} where P where N where T}, DenseArray{T,2}, SubArray{T,2,A,I,L} where L} where I<:Tuple{Vararg{Union{Base.AbstractCartesianIndex, Int64, Range{Int64}},N} where N} where A<:Union{Base.ReshapedArray{T,N,A,MI} where MI<:Tuple{Vararg{Base.MultiplicativeInverses.SignedMultiplicativeInverse{Int64},N} where N} where A<:Union{DenseArray, SubArray{T,N,P,I,true} where I<:Tuple{Union{Base.Slice, UnitRange},Vararg{Any,N} where N} where P where N where T} where N where T, DenseArray}} where T) in Base.LinAlg at linalg/tridiag.jl:168\n",
       "\\(A::LowerTriangular, B::LowerTriangular) in Base.LinAlg at linalg/triangular.jl:1437\n",
       "\\(A::Base.LinAlg.UnitLowerTriangular, B::LowerTriangular) in Base.LinAlg at linalg/triangular.jl:1445\n",
       "\\(A::UpperTriangular, B::UpperTriangular) in Base.LinAlg at linalg/triangular.jl:1453\n",
       "\\(A::Base.LinAlg.UnitUpperTriangular, B::UpperTriangular) in Base.LinAlg at linalg/triangular.jl:1461\n",
       "\\(A::Base.LinAlg.UnitLowerTriangular{TA,#s268} where #s268<:(Union{Base.ReshapedArray{T,2,A,MI} where MI<:Tuple{Vararg{Base.MultiplicativeInverses.SignedMultiplicativeInverse{Int64},N} where N} where A<:Union{DenseArray, SubArray{T,N,P,I,true} where I<:Tuple{Union{Base.Slice, UnitRange},Vararg{Any,N} where N} where P where N where T}, DenseArray{T,2}, SubArray{T,2,A,I,L} where L} where I<:Tuple{Vararg{Union{Base.AbstractCartesianIndex, Int64, Range{Int64}},N} where N} where A<:Union{Base.ReshapedArray{T,N,A,MI} where MI<:Tuple{Vararg{Base.MultiplicativeInverses.SignedMultiplicativeInverse{Int64},N} where N} where A<:Union{DenseArray, SubArray{T,N,P,I,true} where I<:Tuple{Union{Base.Slice, UnitRange},Vararg{Any,N} where N} where P where N where T} where N where T, DenseArray} where T), b::SparseVector{Tb,Ti} where Ti<:Integer) where {TA<:Number, Tb<:Number} in Base.SparseArrays at sparse/sparsevector.jl:1771\n",
       "\\(A::Base.LinAlg.UnitLowerTriangular{TA,#s268} where #s268<:(AbstractArray{T,2} where T), b::SparseVector{Tb,Ti} where Ti<:Integer) where {TA<:Number, Tb<:Number} in Base.SparseArrays at sparse/sparsevector.jl:1762\n",
       "\\(A::Base.LinAlg.UnitLowerTriangular, b::SparseVector) in Base.SparseArrays at sparse/sparsevector.jl:1790\n",
       "\\(A::Base.LinAlg.UnitUpperTriangular{TA,#s268} where #s268<:(Union{Base.ReshapedArray{T,2,A,MI} where MI<:Tuple{Vararg{Base.MultiplicativeInverses.SignedMultiplicativeInverse{Int64},N} where N} where A<:Union{DenseArray, SubArray{T,N,P,I,true} where I<:Tuple{Union{Base.Slice, UnitRange},Vararg{Any,N} where N} where P where N where T}, DenseArray{T,2}, SubArray{T,2,A,I,L} where L} where I<:Tuple{Vararg{Union{Base.AbstractCartesianIndex, Int64, Range{Int64}},N} where N} where A<:Union{Base.ReshapedArray{T,N,A,MI} where MI<:Tuple{Vararg{Base.MultiplicativeInverses.SignedMultiplicativeInverse{Int64},N} where N} where A<:Union{DenseArray, SubArray{T,N,P,I,true} where I<:Tuple{Union{Base.Slice, UnitRange},Vararg{Any,N} where N} where P where N where T} where N where T, DenseArray} where T), b::SparseVector{Tb,Ti} where Ti<:Integer) where {TA<:Number, Tb<:Number} in Base.SparseArrays at sparse/sparsevector.jl:1771\n",
       "\\(A::Base.LinAlg.UnitUpperTriangular{TA,#s268} where #s268<:(AbstractArray{T,2} where T), b::SparseVector{Tb,Ti} where Ti<:Integer) where {TA<:Number, Tb<:Number} in Base.SparseArrays at sparse/sparsevector.jl:1762\n",
       "\\(A::Base.LinAlg.UnitUpperTriangular, b::SparseVector) in Base.SparseArrays at sparse/sparsevector.jl:1790\n",
       "\\(A::Union{Base.LinAlg.UnitLowerTriangular, Base.LinAlg.UnitUpperTriangular}, B::AbstractArray{T,1} where T) in Base.LinAlg at linalg/triangular.jl:1613\n",
       "\\(A::LowerTriangular{TA,#s268} where #s268<:(Union{Base.ReshapedArray{T,2,A,MI} where MI<:Tuple{Vararg{Base.MultiplicativeInverses.SignedMultiplicativeInverse{Int64},N} where N} where A<:Union{DenseArray, SubArray{T,N,P,I,true} where I<:Tuple{Union{Base.Slice, UnitRange},Vararg{Any,N} where N} where P where N where T}, DenseArray{T,2}, SubArray{T,2,A,I,L} where L} where I<:Tuple{Vararg{Union{Base.AbstractCartesianIndex, Int64, Range{Int64}},N} where N} where A<:Union{Base.ReshapedArray{T,N,A,MI} where MI<:Tuple{Vararg{Base.MultiplicativeInverses.SignedMultiplicativeInverse{Int64},N} where N} where A<:Union{DenseArray, SubArray{T,N,P,I,true} where I<:Tuple{Union{Base.Slice, UnitRange},Vararg{Any,N} where N} where P where N where T} where N where T, DenseArray} where T), b::SparseVector{Tb,Ti} where Ti<:Integer) where {TA<:Number, Tb<:Number} in Base.SparseArrays at sparse/sparsevector.jl:1771\n",
       "\\(A::LowerTriangular{TA,#s268} where #s268<:(AbstractArray{T,2} where T), b::SparseVector{Tb,Ti} where Ti<:Integer) where {TA<:Number, Tb<:Number} in Base.SparseArrays at sparse/sparsevector.jl:1762\n",
       "\\(A::LowerTriangular, b::SparseVector) in Base.SparseArrays at sparse/sparsevector.jl:1790\n",
       "\\(A::UpperTriangular{TA,#s268} where #s268<:(Union{Base.ReshapedArray{T,2,A,MI} where MI<:Tuple{Vararg{Base.MultiplicativeInverses.SignedMultiplicativeInverse{Int64},N} where N} where A<:Union{DenseArray, SubArray{T,N,P,I,true} where I<:Tuple{Union{Base.Slice, UnitRange},Vararg{Any,N} where N} where P where N where T}, DenseArray{T,2}, SubArray{T,2,A,I,L} where L} where I<:Tuple{Vararg{Union{Base.AbstractCartesianIndex, Int64, Range{Int64}},N} where N} where A<:Union{Base.ReshapedArray{T,N,A,MI} where MI<:Tuple{Vararg{Base.MultiplicativeInverses.SignedMultiplicativeInverse{Int64},N} where N} where A<:Union{DenseArray, SubArray{T,N,P,I,true} where I<:Tuple{Union{Base.Slice, UnitRange},Vararg{Any,N} where N} where P where N where T} where N where T, DenseArray} where T), b::SparseVector{Tb,Ti} where Ti<:Integer) where {TA<:Number, Tb<:Number} in Base.SparseArrays at sparse/sparsevector.jl:1771\n",
       "\\(A::UpperTriangular{TA,#s268} where #s268<:(AbstractArray{T,2} where T), b::SparseVector{Tb,Ti} where Ti<:Integer) where {TA<:Number, Tb<:Number} in Base.SparseArrays at sparse/sparsevector.jl:1762\n",
       "\\(A::UpperTriangular, b::SparseVector) in Base.SparseArrays at sparse/sparsevector.jl:1790\n",
       "\\(L::LowerTriangular{T,#s268} where #s268<:(SparseMatrixCSC{T,Ti} where Ti<:Integer), B::SparseMatrixCSC) where T in Base.SparseArrays at sparse/linalg.jl:290\n",
       "\\(U::UpperTriangular{T,#s268} where #s268<:(SparseMatrixCSC{T,Ti} where Ti<:Integer), B::SparseMatrixCSC) where T in Base.SparseArrays at sparse/linalg.jl:291\n",
       "\\(A::Union{LowerTriangular, UpperTriangular}, B::AbstractArray{T,1} where T) in Base.LinAlg at linalg/triangular.jl:1624\n",
       "\\(A::Union{Base.LinAlg.UnitLowerTriangular, Base.LinAlg.UnitUpperTriangular}, B::AbstractArray{T,2} where T) in Base.LinAlg at linalg/triangular.jl:1613\n",
       "\\(A::Union{LowerTriangular, UpperTriangular}, B::AbstractArray{T,2} where T) in Base.LinAlg at linalg/triangular.jl:1624\n",
       "\\(A::Union{Hermitian{Complex{Float64},SparseMatrixCSC{Complex{Float64},Int64}}, Hermitian{Float64,SparseMatrixCSC{Float64,Int64}}, Symmetric{Float64,SparseMatrixCSC{Float64,Int64}}}, B::Union{Union{Base.ReshapedArray{T,1,A,MI} where MI<:Tuple{Vararg{Base.MultiplicativeInverses.SignedMultiplicativeInverse{Int64},N} where N} where A<:Union{DenseArray, SubArray{T,N,P,I,true} where I<:Tuple{Union{Base.Slice, UnitRange},Vararg{Any,N} where N} where P where N where T}, DenseArray{T,1}, SubArray{T,1,A,I,L} where L} where I<:Tuple{Vararg{Union{Base.AbstractCartesianIndex, Int64, Range{Int64}},N} where N} where A<:Union{Base.ReshapedArray{T,N,A,MI} where MI<:Tuple{Vararg{Base.MultiplicativeInverses.SignedMultiplicativeInverse{Int64},N} where N} where A<:Union{DenseArray, SubArray{T,N,P,I,true} where I<:Tuple{Union{Base.Slice, UnitRange},Vararg{Any,N} where N} where P where N where T} where N where T, DenseArray}, Union{Base.ReshapedArray{T,2,A,MI} where MI<:Tuple{Vararg{Base.MultiplicativeInverses.SignedMultiplicativeInverse{Int64},N} where N} where A<:Union{DenseArray, SubArray{T,N,P,I,true} where I<:Tuple{Union{Base.Slice, UnitRange},Vararg{Any,N} where N} where P where N where T}, DenseArray{T,2}, SubArray{T,2,A,I,L} where L} where I<:Tuple{Vararg{Union{Base.AbstractCartesianIndex, Int64, Range{Int64}},N} where N} where A<:Union{Base.ReshapedArray{T,N,A,MI} where MI<:Tuple{Vararg{Base.MultiplicativeInverses.SignedMultiplicativeInverse{Int64},N} where N} where A<:Union{DenseArray, SubArray{T,N,P,I,true} where I<:Tuple{Union{Base.Slice, UnitRange},Vararg{Any,N} where N} where P where N where T} where N where T, DenseArray}} where T) in Base.SparseArrays.CHOLMOD at sparse/cholmod.jl:1620\n",
       "\\(A::Union{Hermitian{#s268,#s267}, Symmetric{#s268,#s267}} where #s267<:(Union{Base.ReshapedArray{T,2,A,MI} where MI<:Tuple{Vararg{Base.MultiplicativeInverses.SignedMultiplicativeInverse{Int64},N} where N} where A<:Union{DenseArray, SubArray{T,N,P,I,true} where I<:Tuple{Union{Base.Slice, UnitRange},Vararg{Any,N} where N} where P where N where T}, DenseArray{T,2}, SubArray{T,2,A,I,L} where L} where I<:Tuple{Vararg{Union{Base.AbstractCartesianIndex, Int64, Range{Int64}},N} where N} where A<:Union{Base.ReshapedArray{T,N,A,MI} where MI<:Tuple{Vararg{Base.MultiplicativeInverses.SignedMultiplicativeInverse{Int64},N} where N} where A<:Union{DenseArray, SubArray{T,N,P,I,true} where I<:Tuple{Union{Base.Slice, UnitRange},Vararg{Any,N} where N} where P where N where T} where N where T, DenseArray} where T) where #s268, B::Union{Union{Base.ReshapedArray{T,1,A,MI} where MI<:Tuple{Vararg{Base.MultiplicativeInverses.SignedMultiplicativeInverse{Int64},N} where N} where A<:Union{DenseArray, SubArray{T,N,P,I,true} where I<:Tuple{Union{Base.Slice, UnitRange},Vararg{Any,N} where N} where P where N where T}, DenseArray{T,1}, SubArray{T,1,A,I,L} where L} where I<:Tuple{Vararg{Union{Base.AbstractCartesianIndex, Int64, Range{Int64}},N} where N} where A<:Union{Base.ReshapedArray{T,N,A,MI} where MI<:Tuple{Vararg{Base.MultiplicativeInverses.SignedMultiplicativeInverse{Int64},N} where N} where A<:Union{DenseArray, SubArray{T,N,P,I,true} where I<:Tuple{Union{Base.Slice, UnitRange},Vararg{Any,N} where N} where P where N where T} where N where T, DenseArray}, Union{Base.ReshapedArray{T,2,A,MI} where MI<:Tuple{Vararg{Base.MultiplicativeInverses.SignedMultiplicativeInverse{Int64},N} where N} where A<:Union{DenseArray, SubArray{T,N,P,I,true} where I<:Tuple{Union{Base.Slice, UnitRange},Vararg{Any,N} where N} where P where N where T}, DenseArray{T,2}, SubArray{T,2,A,I,L} where L} where I<:Tuple{Vararg{Union{Base.AbstractCartesianIndex, Int64, Range{Int64}},N} where N} where A<:Union{Base.ReshapedArray{T,N,A,MI} where MI<:Tuple{Vararg{Base.MultiplicativeInverses.SignedMultiplicativeInverse{Int64},N} where N} where A<:Union{DenseArray, SubArray{T,N,P,I,true} where I<:Tuple{Union{Base.Slice, UnitRange},Vararg{Any,N} where N} where P where N where T} where N where T, DenseArray}} where T) in Base.LinAlg at linalg/symmetric.jl:286\n",
       "\\(Da::Diagonal, Db::Diagonal) in Base.LinAlg at linalg/diagonal.jl:319\n",
       "\\(D::Diagonal, A::AbstractArray{T,2} where T) in Base.LinAlg at linalg/diagonal.jl:317\n",
       "\\(D::Diagonal, b::AbstractArray{T,1} where T) in Base.LinAlg at linalg/diagonal.jl:318\n",
       "\\(A::Bidiagonal{TA}, B::Union{AbstractArray{TB,1}, AbstractArray{TB,2}}) where {TA<:Number, TB<:Number} in Base.LinAlg at linalg/bidiag.jl:585\n",
       "\\(A::Bidiagonal, B::Union{AbstractArray{T,1}, AbstractArray{T,2}} where T) in Base.LinAlg at linalg/bidiag.jl:588\n",
       "\\(A::SparseMatrixCSC, B::Union{AbstractArray{T,1}, AbstractArray{T,2}} where T) in Base.SparseArrays at sparse/linalg.jl:857\n",
       "\\(L::Base.SparseArrays.CHOLMOD.FactorComponent{T,:L}, B::Base.SparseArrays.CHOLMOD.Dense) where T in Base.SparseArrays.CHOLMOD at sparse/cholmod.jl:1550\n",
       "\\(L::Base.SparseArrays.CHOLMOD.FactorComponent{T,:U}, B::Base.SparseArrays.CHOLMOD.Dense) where T in Base.SparseArrays.CHOLMOD at sparse/cholmod.jl:1553\n",
       "\\(L::Base.SparseArrays.CHOLMOD.FactorComponent{T,:PtL}, B::Base.SparseArrays.CHOLMOD.Dense) where T in Base.SparseArrays.CHOLMOD at sparse/cholmod.jl:1557\n",
       "\\(L::Base.SparseArrays.CHOLMOD.FactorComponent{T,:UP}, B::Base.SparseArrays.CHOLMOD.Dense) where T in Base.SparseArrays.CHOLMOD at sparse/cholmod.jl:1561\n",
       "\\(L::Base.SparseArrays.CHOLMOD.FactorComponent{T,:D}, B::Base.SparseArrays.CHOLMOD.Dense) where T in Base.SparseArrays.CHOLMOD at sparse/cholmod.jl:1566\n",
       "\\(L::Base.SparseArrays.CHOLMOD.FactorComponent{T,:LD}, B::Base.SparseArrays.CHOLMOD.Dense) where T in Base.SparseArrays.CHOLMOD at sparse/cholmod.jl:1569\n",
       "\\(L::Base.SparseArrays.CHOLMOD.FactorComponent{T,:DU}, B::Base.SparseArrays.CHOLMOD.Dense) where T in Base.SparseArrays.CHOLMOD at sparse/cholmod.jl:1572\n",
       "\\(L::Base.SparseArrays.CHOLMOD.FactorComponent{T,:PtLD}, B::Base.SparseArrays.CHOLMOD.Dense) where T in Base.SparseArrays.CHOLMOD at sparse/cholmod.jl:1575\n",
       "\\(L::Base.SparseArrays.CHOLMOD.FactorComponent{T,:DUP}, B::Base.SparseArrays.CHOLMOD.Dense) where T in Base.SparseArrays.CHOLMOD at sparse/cholmod.jl:1579\n",
       "\\(L::Base.SparseArrays.CHOLMOD.FactorComponent{T,:L}, B::Base.SparseArrays.CHOLMOD.Sparse) where T in Base.SparseArrays.CHOLMOD at sparse/cholmod.jl:1550\n",
       "\\(L::Base.SparseArrays.CHOLMOD.FactorComponent{T,:U}, B::Base.SparseArrays.CHOLMOD.Sparse) where T in Base.SparseArrays.CHOLMOD at sparse/cholmod.jl:1553\n",
       "\\(L::Base.SparseArrays.CHOLMOD.FactorComponent{T,:PtL}, B::Base.SparseArrays.CHOLMOD.Sparse) where T in Base.SparseArrays.CHOLMOD at sparse/cholmod.jl:1557\n",
       "\\(L::Base.SparseArrays.CHOLMOD.FactorComponent{T,:UP}, B::Base.SparseArrays.CHOLMOD.Sparse) where T in Base.SparseArrays.CHOLMOD at sparse/cholmod.jl:1561\n",
       "\\(L::Base.SparseArrays.CHOLMOD.FactorComponent{T,:D}, B::Base.SparseArrays.CHOLMOD.Sparse) where T in Base.SparseArrays.CHOLMOD at sparse/cholmod.jl:1566\n",
       "\\(L::Base.SparseArrays.CHOLMOD.FactorComponent{T,:LD}, B::Base.SparseArrays.CHOLMOD.Sparse) where T in Base.SparseArrays.CHOLMOD at sparse/cholmod.jl:1569\n",
       "\\(L::Base.SparseArrays.CHOLMOD.FactorComponent{T,:DU}, B::Base.SparseArrays.CHOLMOD.Sparse) where T in Base.SparseArrays.CHOLMOD at sparse/cholmod.jl:1572\n",
       "\\(L::Base.SparseArrays.CHOLMOD.FactorComponent{T,:PtLD}, B::Base.SparseArrays.CHOLMOD.Sparse) where T in Base.SparseArrays.CHOLMOD at sparse/cholmod.jl:1575\n",
       "\\(L::Base.SparseArrays.CHOLMOD.FactorComponent{T,:DUP}, B::Base.SparseArrays.CHOLMOD.Sparse) where T in Base.SparseArrays.CHOLMOD at sparse/cholmod.jl:1579\n",
       "\\(L::Base.SparseArrays.CHOLMOD.FactorComponent, b::Array{T,1} where T) in Base.SparseArrays.CHOLMOD at sparse/cholmod.jl:1588\n",
       "\\(L::Base.SparseArrays.CHOLMOD.FactorComponent, B::Array{T,2} where T) in Base.SparseArrays.CHOLMOD at sparse/cholmod.jl:1591\n",
       "\\(L::Base.SparseArrays.CHOLMOD.FactorComponent, B::Union{SparseMatrixCSC{Tv,Ti}, SparseVector{Tv,Ti}} where Ti where Tv) in Base.SparseArrays.CHOLMOD at sparse/cholmod.jl:1594\n",
       "\\(A::AbstractArray{T,2} where T, B::Union{AbstractArray{T,1}, AbstractArray{T,2}} where T) in Base.LinAlg at linalg/generic.jl:820\n",
       "\\(a::AbstractArray{T,1} where T, b::AbstractArray) in Base.LinAlg at linalg/generic.jl:837\n",
       "\\(A::Union{Base.LinAlg.QRCompactWY{T,M} where M<:(AbstractArray{T,2} where T), Base.LinAlg.QRPivoted{T,S} where S<:(AbstractArray{T,2} where T), Base.LinAlg.QR{T,S} where S<:(AbstractArray{T,2} where T)}, BIn::Union{Array{Complex{T},1}, Array{Complex{T},2}}) where T<:Union{Float32, Float64} in Base.LinAlg at linalg/qr.jl:821\n",
       "\\(F::Base.LinAlg.LQ{T,S} where S<:(AbstractArray{T,2} where T), B::Union{Array{Complex{T},1}, Array{Complex{T},2}}) where T<:Union{Float32, Float64} in Base.LinAlg at linalg/lq.jl:221\n",
       "\\(L::Base.SparseArrays.CHOLMOD.Factor{T}, B::Array{Complex{T},1}) where T<:Float64 in Base.SparseArrays.CHOLMOD at sparse/cholmod.jl:1603\n",
       "\\(L::Base.SparseArrays.CHOLMOD.Factor{T}, B::Array{Complex{T},2}) where T<:Float64 in Base.SparseArrays.CHOLMOD at sparse/cholmod.jl:1604\n",
       "\\(F::Factorization{T}, B::Union{Array{Complex{T},1}, Array{Complex{T},2}}) where T<:Union{Float32, Float64} in Base.LinAlg at linalg/factorization.jl:36\n",
       "\\(A::Union{Base.LinAlg.QRCompactWY{TA,M} where M<:(AbstractArray{T,2} where T), Base.LinAlg.QRPivoted{TA,S} where S<:(AbstractArray{T,2} where T), Base.LinAlg.QR{TA,S} where S<:(AbstractArray{T,2} where T)}, B::Union{AbstractArray{TB,1}, AbstractArray{TB,2}}) where {TA, TB} in Base.LinAlg at linalg/qr.jl:799\n",
       "\\(A::Base.LinAlg.LQ{TA,S} where S<:(AbstractArray{T,2} where T), b::Union{Base.ReshapedArray{Tb,1,A,MI} where MI<:Tuple{Vararg{Base.MultiplicativeInverses.SignedMultiplicativeInverse{Int64},N} where N} where A<:Union{DenseArray, SubArray{T,N,P,I,true} where I<:Tuple{Union{Base.Slice, UnitRange},Vararg{Any,N} where N} where P where N where T}, DenseArray{Tb,1}, SubArray{Tb,1,A,I,L} where L} where I<:Tuple{Vararg{Union{Base.AbstractCartesianIndex, Int64, Range{Int64}},N} where N} where A<:Union{Base.ReshapedArray{T,N,A,MI} where MI<:Tuple{Vararg{Base.MultiplicativeInverses.SignedMultiplicativeInverse{Int64},N} where N} where A<:Union{DenseArray, SubArray{T,N,P,I,true} where I<:Tuple{Union{Base.Slice, UnitRange},Vararg{Any,N} where N} where P where N where T} where N where T, DenseArray}) where {TA, Tb} in Base.LinAlg at linalg/lq.jl:203\n",
       "\\(A::Base.LinAlg.LQ{TA,S} where S<:(AbstractArray{T,2} where T), B::Union{Base.ReshapedArray{TB,2,A,MI} where MI<:Tuple{Vararg{Base.MultiplicativeInverses.SignedMultiplicativeInverse{Int64},N} where N} where A<:Union{DenseArray, SubArray{T,N,P,I,true} where I<:Tuple{Union{Base.Slice, UnitRange},Vararg{Any,N} where N} where P where N where T}, DenseArray{TB,2}, SubArray{TB,2,A,I,L} where L} where I<:Tuple{Vararg{Union{Base.AbstractCartesianIndex, Int64, Range{Int64}},N} where N} where A<:Union{Base.ReshapedArray{T,N,A,MI} where MI<:Tuple{Vararg{Base.MultiplicativeInverses.SignedMultiplicativeInverse{Int64},N} where N} where A<:Union{DenseArray, SubArray{T,N,P,I,true} where I<:Tuple{Union{Base.Slice, UnitRange},Vararg{Any,N} where N} where P where N where T} where N where T, DenseArray}) where {TA, TB} in Base.LinAlg at linalg/lq.jl:211\n",
       "\\(L::Base.SparseArrays.CHOLMOD.Factor{T}, B::Base.SparseArrays.CHOLMOD.Dense{T}) where T<:Union{Complex{Float64}, Float64} in Base.SparseArrays.CHOLMOD at sparse/cholmod.jl:1600\n",
       "\\(L::Base.SparseArrays.CHOLMOD.Factor{T}, b::Union{Base.ReshapedArray{T,1,A,MI} where MI<:Tuple{Vararg{Base.MultiplicativeInverses.SignedMultiplicativeInverse{Int64},N} where N} where A<:Union{DenseArray, SubArray{T,N,P,I,true} where I<:Tuple{Union{Base.Slice, UnitRange},Vararg{Any,N} where N} where P where N where T}, DenseArray{T,1}, SubArray{T,1,A,I,L} where L} where I<:Tuple{Vararg{Union{Base.AbstractCartesianIndex, Int64, Range{Int64}},N} where N} where A<:Union{Base.ReshapedArray{T,N,A,MI} where MI<:Tuple{Vararg{Base.MultiplicativeInverses.SignedMultiplicativeInverse{Int64},N} where N} where A<:Union{DenseArray, SubArray{T,N,P,I,true} where I<:Tuple{Union{Base.Slice, UnitRange},Vararg{Any,N} where N} where P where N where T} where N where T, DenseArray} where T) where T<:Union{Complex{Float64}, Float64} in Base.SparseArrays.CHOLMOD at sparse/cholmod.jl:1605\n",
       "\\(L::Base.SparseArrays.CHOLMOD.Factor{T}, B::Union{Base.ReshapedArray{T,2,A,MI} where MI<:Tuple{Vararg{Base.MultiplicativeInverses.SignedMultiplicativeInverse{Int64},N} where N} where A<:Union{DenseArray, SubArray{T,N,P,I,true} where I<:Tuple{Union{Base.Slice, UnitRange},Vararg{Any,N} where N} where P where N where T}, DenseArray{T,2}, SubArray{T,2,A,I,L} where L} where I<:Tuple{Vararg{Union{Base.AbstractCartesianIndex, Int64, Range{Int64}},N} where N} where A<:Union{Base.ReshapedArray{T,N,A,MI} where MI<:Tuple{Vararg{Base.MultiplicativeInverses.SignedMultiplicativeInverse{Int64},N} where N} where A<:Union{DenseArray, SubArray{T,N,P,I,true} where I<:Tuple{Union{Base.Slice, UnitRange},Vararg{Any,N} where N} where P where N where T} where N where T, DenseArray} where T) where T<:Union{Complex{Float64}, Float64} in Base.SparseArrays.CHOLMOD at sparse/cholmod.jl:1606\n",
       "\\(L::Base.SparseArrays.CHOLMOD.Factor, B::Base.SparseArrays.CHOLMOD.Sparse) in Base.SparseArrays.CHOLMOD at sparse/cholmod.jl:1607\n",
       "\\(L::Base.SparseArrays.CHOLMOD.Factor, B::Union{SparseMatrixCSC{Tv,Ti}, SparseVector{Tv,Ti}} where Ti where Tv) in Base.SparseArrays.CHOLMOD at sparse/cholmod.jl:1609\n",
       "\\(F::Base.SparseArrays.SPQR.Factorization{T}, B::Union{Union{Base.ReshapedArray{T,1,A,MI} where MI<:Tuple{Vararg{Base.MultiplicativeInverses.SignedMultiplicativeInverse{Int64},N} where N} where A<:Union{DenseArray, SubArray{T,N,P,I,true} where I<:Tuple{Union{Base.Slice, UnitRange},Vararg{Any,N} where N} where P where N where T}, DenseArray{T,1}, SubArray{T,1,A,I,L} where L} where I<:Tuple{Vararg{Union{Base.AbstractCartesianIndex, Int64, Range{Int64}},N} where N} where A<:Union{Base.ReshapedArray{T,N,A,MI} where MI<:Tuple{Vararg{Base.MultiplicativeInverses.SignedMultiplicativeInverse{Int64},N} where N} where A<:Union{DenseArray, SubArray{T,N,P,I,true} where I<:Tuple{Union{Base.Slice, UnitRange},Vararg{Any,N} where N} where P where N where T} where N where T, DenseArray}, Union{Base.ReshapedArray{T,2,A,MI} where MI<:Tuple{Vararg{Base.MultiplicativeInverses.SignedMultiplicativeInverse{Int64},N} where N} where A<:Union{DenseArray, SubArray{T,N,P,I,true} where I<:Tuple{Union{Base.Slice, UnitRange},Vararg{Any,N} where N} where P where N where T}, DenseArray{T,2}, SubArray{T,2,A,I,L} where L} where I<:Tuple{Vararg{Union{Base.AbstractCartesianIndex, Int64, Range{Int64}},N} where N} where A<:Union{Base.ReshapedArray{T,N,A,MI} where MI<:Tuple{Vararg{Base.MultiplicativeInverses.SignedMultiplicativeInverse{Int64},N} where N} where A<:Union{DenseArray, SubArray{T,N,P,I,true} where I<:Tuple{Union{Base.Slice, UnitRange},Vararg{Any,N} where N} where P where N where T} where N where T, DenseArray}}) where T<:Union{Complex{Float64}, Float64} in Base.SparseArrays.SPQR at sparse/spqr.jl:178\n",
       "\\(F::Base.SparseArrays.SPQR.Factorization, B::Union{Union{Base.ReshapedArray{T,1,A,MI} where MI<:Tuple{Vararg{Base.MultiplicativeInverses.SignedMultiplicativeInverse{Int64},N} where N} where A<:Union{DenseArray, SubArray{T,N,P,I,true} where I<:Tuple{Union{Base.Slice, UnitRange},Vararg{Any,N} where N} where P where N where T}, DenseArray{T,1}, SubArray{T,1,A,I,L} where L} where I<:Tuple{Vararg{Union{Base.AbstractCartesianIndex, Int64, Range{Int64}},N} where N} where A<:Union{Base.ReshapedArray{T,N,A,MI} where MI<:Tuple{Vararg{Base.MultiplicativeInverses.SignedMultiplicativeInverse{Int64},N} where N} where A<:Union{DenseArray, SubArray{T,N,P,I,true} where I<:Tuple{Union{Base.Slice, UnitRange},Vararg{Any,N} where N} where P where N where T} where N where T, DenseArray}, Union{Base.ReshapedArray{T,2,A,MI} where MI<:Tuple{Vararg{Base.MultiplicativeInverses.SignedMultiplicativeInverse{Int64},N} where N} where A<:Union{DenseArray, SubArray{T,N,P,I,true} where I<:Tuple{Union{Base.Slice, UnitRange},Vararg{Any,N} where N} where P where N where T}, DenseArray{T,2}, SubArray{T,2,A,I,L} where L} where I<:Tuple{Vararg{Union{Base.AbstractCartesianIndex, Int64, Range{Int64}},N} where N} where A<:Union{Base.ReshapedArray{T,N,A,MI} where MI<:Tuple{Vararg{Base.MultiplicativeInverses.SignedMultiplicativeInverse{Int64},N} where N} where A<:Union{DenseArray, SubArray{T,N,P,I,true} where I<:Tuple{Union{Base.Slice, UnitRange},Vararg{Any,N} where N} where P where N where T} where N where T, DenseArray}} where T) in Base.SparseArrays.SPQR at sparse/spqr.jl:182\n",
       "\\(F::Factorization, B::Union{AbstractArray{T,1}, AbstractArray{T,2}} where T) in Base.LinAlg at linalg/factorization.jl:45\n",
       "\\(J1::UniformScaling, J2::UniformScaling) in Base.LinAlg at linalg/uniformscaling.jl:162\n",
       "\\(A::Union{Base.LinAlg.AbstractTriangular{T,S} where S<:(AbstractArray{T,2} where T), Bidiagonal{T}}, J::UniformScaling) where T<:Number in Base.LinAlg at linalg/uniformscaling.jl:163\n",
       "\\(J::UniformScaling, A::Union{AbstractArray{T,1}, AbstractArray{T,2}} where T) in Base.LinAlg at linalg/uniformscaling.jl:164\n",
       "\\(A::AbstractArray{T,2} where T, J::UniformScaling) in Base.LinAlg at linalg/uniformscaling.jl:165\n",
       "\\(x::Number, J::UniformScaling) in Base.LinAlg at linalg/uniformscaling.jl:167\n",
       "\\(p::Base.DFT.Plan, x::AbstractArray) in Base.DFT at dft.jl:233\n",
       "\\(x, y) in Base at operators.jl:457"
      ]
     },
     "execution_count": 102,
     "metadata": {},
     "output_type": "execute_result"
    }
   ],
   "source": [
    "methods(\\)"
   ]
  },
  {
   "cell_type": "code",
   "execution_count": 105,
   "metadata": {},
   "outputs": [
    {
     "data": {
      "text/plain": [
       "84.0"
      ]
     },
     "execution_count": 105,
     "metadata": {},
     "output_type": "execute_result"
    }
   ],
   "source": [
    "60 \\ 5040"
   ]
  },
  {
   "cell_type": "code",
   "execution_count": 106,
   "metadata": {},
   "outputs": [
    {
     "data": {
      "text/plain": [
       "0.011904761904761904"
      ]
     },
     "execution_count": 106,
     "metadata": {},
     "output_type": "execute_result"
    }
   ],
   "source": [
    "5040 \\ 60"
   ]
  },
  {
   "cell_type": "code",
   "execution_count": 107,
   "metadata": {},
   "outputs": [
    {
     "data": {
      "text/plain": [
       "48"
      ]
     },
     "execution_count": 107,
     "metadata": {},
     "output_type": "execute_result"
    }
   ],
   "source": [
    "60 & 5040"
   ]
  },
  {
   "cell_type": "code",
   "execution_count": 109,
   "metadata": {},
   "outputs": [
    {
     "data": {
      "text/plain": [
       "84.0"
      ]
     },
     "execution_count": 109,
     "metadata": {},
     "output_type": "execute_result"
    }
   ],
   "source": [
    "inv(60) * 5040"
   ]
  },
  {
   "cell_type": "code",
   "execution_count": 110,
   "metadata": {},
   "outputs": [
    {
     "data": {
      "text/plain": [
       "addone (generic function with 1 method)"
      ]
     },
     "execution_count": 110,
     "metadata": {},
     "output_type": "execute_result"
    }
   ],
   "source": [
    "addone(x::Int64) = x+1"
   ]
  },
  {
   "cell_type": "code",
   "execution_count": 111,
   "metadata": {},
   "outputs": [
    {
     "ename": "LoadError",
     "evalue": "\u001b[91mMethodError: no method matching addone(::Float64)\u001b[0m\nClosest candidates are:\n  addone(\u001b[91m::Int64\u001b[39m) at In[110]:1\u001b[39m",
     "output_type": "error",
     "traceback": [
      "\u001b[91mMethodError: no method matching addone(::Float64)\u001b[0m\nClosest candidates are:\n  addone(\u001b[91m::Int64\u001b[39m) at In[110]:1\u001b[39m",
      ""
     ]
    }
   ],
   "source": [
    "addone(10.)"
   ]
  },
  {
   "cell_type": "code",
   "execution_count": 112,
   "metadata": {},
   "outputs": [
    {
     "ename": "LoadError",
     "evalue": "\u001b[91mMethodError: no method matching addone(::Float64)\u001b[0m\nClosest candidates are:\n  addone(\u001b[91m::Int64\u001b[39m) at In[110]:1\u001b[39m",
     "output_type": "error",
     "traceback": [
      "\u001b[91mMethodError: no method matching addone(::Float64)\u001b[0m\nClosest candidates are:\n  addone(\u001b[91m::Int64\u001b[39m) at In[110]:1\u001b[39m",
      ""
     ]
    }
   ],
   "source": [
    "addone(20*1.0)"
   ]
  },
  {
   "cell_type": "code",
   "execution_count": 113,
   "metadata": {},
   "outputs": [
    {
     "data": {
      "text/plain": [
       "11"
      ]
     },
     "execution_count": 113,
     "metadata": {},
     "output_type": "execute_result"
    }
   ],
   "source": [
    "addone(10)"
   ]
  },
  {
   "cell_type": "code",
   "execution_count": 114,
   "metadata": {},
   "outputs": [
    {
     "ename": "LoadError",
     "evalue": "\u001b[91mMethodError: no method matching addone(::Float64)\u001b[0m\nClosest candidates are:\n  addone(\u001b[91m::Int64\u001b[39m) at In[110]:1\u001b[39m",
     "output_type": "error",
     "traceback": [
      "\u001b[91mMethodError: no method matching addone(::Float64)\u001b[0m\nClosest candidates are:\n  addone(\u001b[91m::Int64\u001b[39m) at In[110]:1\u001b[39m",
      ""
     ]
    }
   ],
   "source": [
    "addone(ceil(1.2)*10)"
   ]
  },
  {
   "cell_type": "code",
   "execution_count": 115,
   "metadata": {},
   "outputs": [
    {
     "data": {
      "text/plain": [
       "1"
      ]
     },
     "execution_count": 115,
     "metadata": {},
     "output_type": "execute_result"
    }
   ],
   "source": [
    "a,b = 1,2\n",
    "\n",
    "b = a\n",
    "\n",
    "a = b"
   ]
  },
  {
   "cell_type": "code",
   "execution_count": 116,
   "metadata": {},
   "outputs": [
    {
     "name": "stdout",
     "output_type": "stream",
     "text": [
      "22\n"
     ]
    }
   ],
   "source": [
    "function test(input)\n",
    "  println(\"$input\"^2)\n",
    "end\n",
    "\n",
    "test(2)"
   ]
  },
  {
   "cell_type": "code",
   "execution_count": 117,
   "metadata": {},
   "outputs": [
    {
     "ename": "LoadError",
     "evalue": "\u001b[91mUndefVarError: add2 not defined\u001b[39m",
     "output_type": "error",
     "traceback": [
      "\u001b[91mUndefVarError: add2 not defined\u001b[39m",
      ""
     ]
    }
   ],
   "source": [
    "println(add2(5, 7))"
   ]
  },
  {
   "cell_type": "code",
   "execution_count": 118,
   "metadata": {},
   "outputs": [
    {
     "ename": "LoadError",
     "evalue": "\u001b[91msyntax: unexpected \"=\"\u001b[39m",
     "output_type": "error",
     "traceback": [
      "\u001b[91msyntax: unexpected \"=\"\u001b[39m",
      ""
     ]
    }
   ],
   "source": [
    "function add2(x,y) = x + y"
   ]
  },
  {
   "cell_type": "code",
   "execution_count": 119,
   "metadata": {},
   "outputs": [
    {
     "data": {
      "text/plain": [
       "add2 (generic function with 1 method)"
      ]
     },
     "execution_count": 119,
     "metadata": {},
     "output_type": "execute_result"
    }
   ],
   "source": [
    "add2(x,y) = x + 2"
   ]
  },
  {
   "cell_type": "code",
   "execution_count": 120,
   "metadata": {},
   "outputs": [
    {
     "name": "stdout",
     "output_type": "stream",
     "text": [
      "7\n"
     ]
    }
   ],
   "source": [
    "println(add2(5, 7))"
   ]
  },
  {
   "cell_type": "code",
   "execution_count": 121,
   "metadata": {},
   "outputs": [
    {
     "data": {
      "text/plain": [
       "add2 (generic function with 1 method)"
      ]
     },
     "execution_count": 121,
     "metadata": {},
     "output_type": "execute_result"
    }
   ],
   "source": [
    "add2(x,y) = x + y"
   ]
  },
  {
   "cell_type": "code",
   "execution_count": 122,
   "metadata": {},
   "outputs": [
    {
     "name": "stdout",
     "output_type": "stream",
     "text": [
      "12\n"
     ]
    }
   ],
   "source": [
    "println(add2(5, 7))"
   ]
  },
  {
   "cell_type": "code",
   "execution_count": 123,
   "metadata": {},
   "outputs": [
    {
     "data": {
      "text/plain": [
       "add2 (generic function with 1 method)"
      ]
     },
     "execution_count": 123,
     "metadata": {},
     "output_type": "execute_result"
    }
   ],
   "source": [
    "add2(x,y) = return x + y"
   ]
  },
  {
   "cell_type": "code",
   "execution_count": 124,
   "metadata": {},
   "outputs": [
    {
     "name": "stdout",
     "output_type": "stream",
     "text": [
      "12\n"
     ]
    }
   ],
   "source": [
    "println(add2(5, 7))"
   ]
  },
  {
   "cell_type": "code",
   "execution_count": 125,
   "metadata": {},
   "outputs": [
    {
     "data": {
      "text/plain": [
       "coordinates (generic function with 3 methods)"
      ]
     },
     "execution_count": 125,
     "metadata": {},
     "output_type": "execute_result"
    }
   ],
   "source": [
    "function coordinates(x, y=0, z=0)\n",
    "  println(\"($x, $y, $z)\")\n",
    "end"
   ]
  },
  {
   "cell_type": "code",
   "execution_count": 126,
   "metadata": {},
   "outputs": [
    {
     "name": "stdout",
     "output_type": "stream",
     "text": [
      "(1, 0, 2)\n"
     ]
    }
   ],
   "source": [
    "coordinates(1, 0, 2)"
   ]
  },
  {
   "cell_type": "code",
   "execution_count": 127,
   "metadata": {},
   "outputs": [
    {
     "data": {
      "text/plain": [
       "36"
      ]
     },
     "execution_count": 127,
     "metadata": {},
     "output_type": "execute_result"
    }
   ],
   "source": [
    "3^2^1^5 + 3^3"
   ]
  },
  {
   "cell_type": "code",
   "execution_count": 128,
   "metadata": {},
   "outputs": [
    {
     "name": "stdout",
     "output_type": "stream",
     "text": [
      "36\n"
     ]
    }
   ],
   "source": [
    "println(\"$(6*6)\")"
   ]
  },
  {
   "cell_type": "code",
   "execution_count": 129,
   "metadata": {},
   "outputs": [
    {
     "data": {
      "text/plain": [
       "48"
      ]
     },
     "execution_count": 129,
     "metadata": {},
     "output_type": "execute_result"
    }
   ],
   "source": [
    "(2^2)^3 - 2^4"
   ]
  },
  {
   "cell_type": "code",
   "execution_count": 130,
   "metadata": {},
   "outputs": [
    {
     "data": {
      "text/plain": [
       "240"
      ]
     },
     "execution_count": 130,
     "metadata": {},
     "output_type": "execute_result"
    }
   ],
   "source": [
    "2^2^3 - 2^4"
   ]
  },
  {
   "cell_type": "code",
   "execution_count": 131,
   "metadata": {},
   "outputs": [
    {
     "data": {
      "text/plain": [
       "-5"
      ]
     },
     "execution_count": 131,
     "metadata": {},
     "output_type": "execute_result"
    }
   ],
   "source": [
    "5 - 7 * 2 + 4"
   ]
  },
  {
   "cell_type": "code",
   "execution_count": 132,
   "metadata": {},
   "outputs": [
    {
     "data": {
      "text/plain": [
       "-5"
      ]
     },
     "execution_count": 132,
     "metadata": {},
     "output_type": "execute_result"
    }
   ],
   "source": [
    "5-(7*2)+4"
   ]
  },
  {
   "cell_type": "code",
   "execution_count": 133,
   "metadata": {},
   "outputs": [
    {
     "data": {
      "text/plain": [
       "0"
      ]
     },
     "execution_count": 133,
     "metadata": {},
     "output_type": "execute_result"
    }
   ],
   "source": [
    "(5-7)*2+4"
   ]
  },
  {
   "cell_type": "code",
   "execution_count": 134,
   "metadata": {},
   "outputs": [
    {
     "data": {
      "text/plain": [
       "0"
      ]
     },
     "execution_count": 134,
     "metadata": {},
     "output_type": "execute_result"
    }
   ],
   "source": [
    "(5-7)*2+4"
   ]
  },
  {
   "cell_type": "code",
   "execution_count": 135,
   "metadata": {},
   "outputs": [
    {
     "data": {
      "text/plain": [
       "-5"
      ]
     },
     "execution_count": 135,
     "metadata": {},
     "output_type": "execute_result"
    }
   ],
   "source": [
    "5-(7*2)+4"
   ]
  },
  {
   "cell_type": "code",
   "execution_count": 136,
   "metadata": {},
   "outputs": [
    {
     "data": {
      "text/plain": [
       "-37"
      ]
     },
     "execution_count": 136,
     "metadata": {},
     "output_type": "execute_result"
    }
   ],
   "source": [
    "5-7*(2+4)"
   ]
  },
  {
   "cell_type": "code",
   "execution_count": 137,
   "metadata": {},
   "outputs": [
    {
     "data": {
      "text/plain": [
       "false"
      ]
     },
     "execution_count": 137,
     "metadata": {},
     "output_type": "execute_result"
    }
   ],
   "source": [
    "1 + 3 < 5 && 2^2 === 4.0"
   ]
  },
  {
   "cell_type": "code",
   "execution_count": 147,
   "metadata": {},
   "outputs": [
    {
     "data": {
      "text/plain": [
       "0"
      ]
     },
     "execution_count": 147,
     "metadata": {},
     "output_type": "execute_result"
    }
   ],
   "source": [
    "x=0"
   ]
  },
  {
   "cell_type": "code",
   "execution_count": 148,
   "metadata": {},
   "outputs": [
    {
     "data": {
      "text/plain": [
       "false"
      ]
     },
     "execution_count": 148,
     "metadata": {},
     "output_type": "execute_result"
    }
   ],
   "source": [
    "x > 0 && x <= 3"
   ]
  },
  {
   "cell_type": "code",
   "execution_count": 149,
   "metadata": {},
   "outputs": [
    {
     "data": {
      "text/plain": [
       "true"
      ]
     },
     "execution_count": 149,
     "metadata": {},
     "output_type": "execute_result"
    }
   ],
   "source": [
    "true && false && false || true"
   ]
  },
  {
   "cell_type": "code",
   "execution_count": 153,
   "metadata": {},
   "outputs": [
    {
     "data": {
      "text/plain": [
       "true"
      ]
     },
     "execution_count": 153,
     "metadata": {},
     "output_type": "execute_result"
    }
   ],
   "source": [
    "((true && false) && false) ||  true"
   ]
  },
  {
   "cell_type": "code",
   "execution_count": 154,
   "metadata": {},
   "outputs": [
    {
     "data": {
      "text/plain": [
       "false"
      ]
     },
     "execution_count": 154,
     "metadata": {},
     "output_type": "execute_result"
    }
   ],
   "source": [
    "(true && false) && (false || true)"
   ]
  },
  {
   "cell_type": "code",
   "execution_count": 155,
   "metadata": {},
   "outputs": [
    {
     "data": {
      "text/plain": [
       "true"
      ]
     },
     "execution_count": 155,
     "metadata": {},
     "output_type": "execute_result"
    }
   ],
   "source": [
    "true && ((false && false) || true)"
   ]
  },
  {
   "cell_type": "code",
   "execution_count": 156,
   "metadata": {},
   "outputs": [
    {
     "data": {
      "text/plain": [
       "false"
      ]
     },
     "execution_count": 156,
     "metadata": {},
     "output_type": "execute_result"
    }
   ],
   "source": [
    "true && (false && (false || true))"
   ]
  },
  {
   "cell_type": "code",
   "execution_count": 157,
   "metadata": {},
   "outputs": [
    {
     "data": {
      "text/plain": [
       "(1, 2)"
      ]
     },
     "execution_count": 157,
     "metadata": {},
     "output_type": "execute_result"
    }
   ],
   "source": [
    "a,b = 1,2"
   ]
  },
  {
   "cell_type": "code",
   "execution_count": 159,
   "metadata": {},
   "outputs": [
    {
     "data": {
      "text/plain": [
       "1"
      ]
     },
     "execution_count": 159,
     "metadata": {},
     "output_type": "execute_result"
    }
   ],
   "source": [
    "a"
   ]
  },
  {
   "cell_type": "code",
   "execution_count": 160,
   "metadata": {},
   "outputs": [
    {
     "data": {
      "text/plain": [
       "2"
      ]
     },
     "execution_count": 160,
     "metadata": {},
     "output_type": "execute_result"
    }
   ],
   "source": [
    "b"
   ]
  },
  {
   "cell_type": "code",
   "execution_count": 166,
   "metadata": {},
   "outputs": [
    {
     "name": "stderr",
     "output_type": "stream",
     "text": [
      "\u001b[1m\u001b[33mWARNING: \u001b[39m\u001b[22m\u001b[33mArray(::Type{T}, m::Int, n::Int) where T is deprecated, use Array{T}(m, n) instead.\u001b[39m\n",
      "Stacktrace:\n",
      " [1] \u001b[1mdepwarn\u001b[22m\u001b[22m\u001b[1m(\u001b[22m\u001b[22m::String, ::Symbol\u001b[1m)\u001b[22m\u001b[22m at \u001b[1m./deprecated.jl:70\u001b[22m\u001b[22m\n",
      " [2] \u001b[1mArray\u001b[22m\u001b[22m\u001b[1m(\u001b[22m\u001b[22m::Type{Float64}, ::Int64, ::Int64\u001b[1m)\u001b[22m\u001b[22m at \u001b[1m./deprecated.jl:57\u001b[22m\u001b[22m\n",
      " [3] \u001b[1minclude_string\u001b[22m\u001b[22m\u001b[1m(\u001b[22m\u001b[22m::String, ::String\u001b[1m)\u001b[22m\u001b[22m at \u001b[1m./loading.jl:522\u001b[22m\u001b[22m\n",
      " [4] \u001b[1mexecute_request\u001b[22m\u001b[22m\u001b[1m(\u001b[22m\u001b[22m::ZMQ.Socket, ::IJulia.Msg\u001b[1m)\u001b[22m\u001b[22m at \u001b[1m/Users/ravikumar/.julia/v0.6/IJulia/src/execute_request.jl:158\u001b[22m\u001b[22m\n",
      " [5] \u001b[1m(::Compat.#inner#18{Array{Any,1},IJulia.#execute_request,Tuple{ZMQ.Socket,IJulia.Msg}})\u001b[22m\u001b[22m\u001b[1m(\u001b[22m\u001b[22m\u001b[1m)\u001b[22m\u001b[22m at \u001b[1m/Users/ravikumar/.julia/v0.6/Compat/src/Compat.jl:378\u001b[22m\u001b[22m\n",
      " [6] \u001b[1meventloop\u001b[22m\u001b[22m\u001b[1m(\u001b[22m\u001b[22m::ZMQ.Socket\u001b[1m)\u001b[22m\u001b[22m at \u001b[1m/Users/ravikumar/.julia/v0.6/IJulia/src/eventloop.jl:8\u001b[22m\u001b[22m\n",
      " [7] \u001b[1m(::IJulia.##14#17)\u001b[22m\u001b[22m\u001b[1m(\u001b[22m\u001b[22m\u001b[1m)\u001b[22m\u001b[22m at \u001b[1m./task.jl:335\u001b[22m\u001b[22m\n",
      "while loading In[166], in expression starting on line 1\n"
     ]
    },
    {
     "data": {
      "text/plain": [
       "1×2 Array{Float64,2}:\n",
       " 2.20902e-314  2.20942e-314"
      ]
     },
     "execution_count": 166,
     "metadata": {},
     "output_type": "execute_result"
    }
   ],
   "source": [
    "matrix = Array(Float64, 1, 2)"
   ]
  },
  {
   "cell_type": "code",
   "execution_count": 167,
   "metadata": {},
   "outputs": [
    {
     "data": {
      "text/plain": [
       "1×2 Array{Float64,2}:\n",
       " 2.20902e-314  2.20942e-314"
      ]
     },
     "execution_count": 167,
     "metadata": {},
     "output_type": "execute_result"
    }
   ],
   "source": [
    "matrix"
   ]
  },
  {
   "cell_type": "code",
   "execution_count": 168,
   "metadata": {},
   "outputs": [
    {
     "data": {
      "text/plain": [
       "15×2 Array{Float64,2}:\n",
       " 1.68005    -1.6417  \n",
       " 0.501309   -0.977698\n",
       " 1.52801     0.527711\n",
       " 1.70012     1.71152 \n",
       " 1.99249     1.891   \n",
       " 2.70608    -0.463428\n",
       " 2.99493    -0.443567\n",
       " 3.49185    -1.27518 \n",
       " 3.50119    -0.6905  \n",
       " 4.45992    -5.51613 \n",
       " 4.93697    -6.0017  \n",
       " 5.02329    -8.36417 \n",
       " 5.04234    -7.92448 \n",
       " 5.50739   -10.7748  \n",
       " 5.56867   -10.9172  "
      ]
     },
     "execution_count": 168,
     "metadata": {},
     "output_type": "execute_result"
    }
   ],
   "source": [
    "data = [1.6800483  -1.641695388; \n",
    "        0.501309281 -0.977697538; \n",
    "        1.528012113 0.52771122;\n",
    "        1.70012253 1.711524991; \n",
    "        1.992493625 1.891000015;\n",
    "        2.706075824 -0.463427794;\n",
    "        2.994931927 -0.443566619;\n",
    "        3.491852811 -1.275179133;\n",
    "        3.501191722 -0.690499597;\n",
    "        4.459924502 -5.516130799;\n",
    "        4.936965851 -6.001703074;\n",
    "        5.023289852 -8.36416901;\n",
    "        5.04233698 -7.924477517;\n",
    "        5.50739285 -10.77482371;\n",
    "        5.568665171 -10.9171878]"
   ]
  },
  {
   "cell_type": "code",
   "execution_count": 169,
   "metadata": {},
   "outputs": [
    {
     "data": {
      "text/plain": [
       "2-element Array{Float64,1}:\n",
       "  1.68005\n",
       " -1.6417 "
      ]
     },
     "execution_count": 169,
     "metadata": {},
     "output_type": "execute_result"
    }
   ],
   "source": [
    "data[1,:]"
   ]
  },
  {
   "cell_type": "code",
   "execution_count": 170,
   "metadata": {},
   "outputs": [
    {
     "data": {
      "text/plain": [
       "15-element Array{Float64,1}:\n",
       " 1.68005 \n",
       " 0.501309\n",
       " 1.52801 \n",
       " 1.70012 \n",
       " 1.99249 \n",
       " 2.70608 \n",
       " 2.99493 \n",
       " 3.49185 \n",
       " 3.50119 \n",
       " 4.45992 \n",
       " 4.93697 \n",
       " 5.02329 \n",
       " 5.04234 \n",
       " 5.50739 \n",
       " 5.56867 "
      ]
     },
     "execution_count": 170,
     "metadata": {},
     "output_type": "execute_result"
    }
   ],
   "source": [
    "data[:,1]"
   ]
  },
  {
   "cell_type": "code",
   "execution_count": null,
   "metadata": {},
   "outputs": [],
   "source": []
  },
  {
   "cell_type": "code",
   "execution_count": 192,
   "metadata": {},
   "outputs": [
    {
     "ename": "LoadError",
     "evalue": "\u001b[91msyntax: unexpected \"=\"\u001b[39m",
     "output_type": "error",
     "traceback": [
      "\u001b[91msyntax: unexpected \"=\"\u001b[39m",
      ""
     ]
    }
   ],
   "source": [
    "function coordinates(x, y, z)\n",
    "  if x=0 & y=0 & z=0 # select appropriate condition from list below so this code works\n",
    "    println(\"origin\")\n",
    "  else\n",
    "    println(\"($x, $y, $z)\")\n",
    "  end\n",
    "end"
   ]
  },
  {
   "cell_type": "code",
   "execution_count": 191,
   "metadata": {},
   "outputs": [
    {
     "name": "stdout",
     "output_type": "stream",
     "text": [
      "(0, 0, 2)\n"
     ]
    }
   ],
   "source": [
    "coordinates(0,0,2) "
   ]
  },
  {
   "cell_type": "code",
   "execution_count": 195,
   "metadata": {},
   "outputs": [
    {
     "data": {
      "text/plain": [
       "(19, 3)"
      ]
     },
     "execution_count": 195,
     "metadata": {},
     "output_type": "execute_result"
    }
   ],
   "source": [
    "a, b = 2, 3           \n",
    "function f(x)  \n",
    "  b = 5 \n",
    "  a*x + b\n",
    "#   println(a*x + b)\n",
    "end\n",
    "f(7), b"
   ]
  },
  {
   "cell_type": "code",
   "execution_count": 200,
   "metadata": {},
   "outputs": [
    {
     "data": {
      "text/plain": [
       "f (generic function with 1 method)"
      ]
     },
     "execution_count": 200,
     "metadata": {},
     "output_type": "execute_result"
    }
   ],
   "source": [
    "function f(x)\n",
    "#   return 2x\n",
    "  3x\n",
    "  println(3x)\n",
    "  return 2x  \n",
    "end"
   ]
  },
  {
   "cell_type": "code",
   "execution_count": 201,
   "metadata": {},
   "outputs": [
    {
     "name": "stdout",
     "output_type": "stream",
     "text": [
      "15\n"
     ]
    },
    {
     "data": {
      "text/plain": [
       "10"
      ]
     },
     "execution_count": 201,
     "metadata": {},
     "output_type": "execute_result"
    }
   ],
   "source": [
    "f(5)"
   ]
  },
  {
   "cell_type": "code",
   "execution_count": 204,
   "metadata": {},
   "outputs": [
    {
     "name": "stdout",
     "output_type": "stream",
     "text": [
      "1\n"
     ]
    }
   ],
   "source": [
    "mylist = [3, 2, 1]\n",
    "count=1\n",
    "for i in mylist\n",
    "  mylist[i]=count\n",
    "  count=count+1\n",
    "end\n",
    "println(mylist[3])"
   ]
  },
  {
   "cell_type": "code",
   "execution_count": 208,
   "metadata": {},
   "outputs": [
    {
     "data": {
      "text/plain": [
       "2"
      ]
     },
     "execution_count": 208,
     "metadata": {},
     "output_type": "execute_result"
    }
   ],
   "source": [
    "function test(x)\n",
    "    if x==1 \n",
    "        return 1\n",
    "    end\n",
    "    if x<=0\n",
    "        return 0\n",
    "    end\n",
    "    return test(x-1)+test(x-2)\n",
    "end\n",
    "test(3)"
   ]
  },
  {
   "cell_type": "code",
   "execution_count": 209,
   "metadata": {},
   "outputs": [
    {
     "data": {
      "text/plain": [
       "3×9 Array{Int64,2}:\n",
       " 3  3  3  3  3  3  3  3  6\n",
       " 2  2  2  2  2  2  2  2  5\n",
       " 1  1  1  1  1  1  1  1  4"
      ]
     },
     "execution_count": 209,
     "metadata": {},
     "output_type": "execute_result"
    }
   ],
   "source": [
    "data = [[3,2,1] [3,2,1] [3,2,1] [3,2,1] [3,2,1] [3,2,1] [3,2,1] [3,2,1] [6,5,4]]"
   ]
  },
  {
   "cell_type": "code",
   "execution_count": 210,
   "metadata": {},
   "outputs": [
    {
     "name": "stdout",
     "output_type": "stream",
     "text": [
      "[1, 1, 1, 1, 1, 1, 1, 1, 4]\n"
     ]
    }
   ],
   "source": [
    "println(data[3,:])"
   ]
  },
  {
   "cell_type": "code",
   "execution_count": 211,
   "metadata": {},
   "outputs": [
    {
     "name": "stdout",
     "output_type": "stream",
     "text": [
      "[3, 2, 1]\n"
     ]
    }
   ],
   "source": [
    "println(data[:,3])"
   ]
  },
  {
   "cell_type": "code",
   "execution_count": 212,
   "metadata": {},
   "outputs": [
    {
     "name": "stdout",
     "output_type": "stream",
     "text": [
      "1\n"
     ]
    }
   ],
   "source": [
    "println(data[3,])"
   ]
  },
  {
   "cell_type": "code",
   "execution_count": 213,
   "metadata": {},
   "outputs": [
    {
     "name": "stdout",
     "output_type": "stream",
     "text": [
      "[2, 2, 2, 2, 2, 2, 2, 2, 5]\n"
     ]
    }
   ],
   "source": [
    "println(data[2,:])"
   ]
  },
  {
   "cell_type": "code",
   "execution_count": 217,
   "metadata": {},
   "outputs": [
    {
     "name": "stdout",
     "output_type": "stream",
     "text": [
      "Before: - 3\n",
      "After: - 4\n",
      "Before: - 4\n",
      "After: - 7\n",
      "Before: - 7\n",
      "After: - 12\n"
     ]
    },
    {
     "data": {
      "text/plain": [
       "12"
      ]
     },
     "execution_count": 217,
     "metadata": {},
     "output_type": "execute_result"
    }
   ],
   "source": [
    "summedvals = 3\n",
    "for k = 1:2:5  \n",
    "    println(\"Before: - $summedvals\")\n",
    "  summedvals = summedvals + k\n",
    "    println(\"After: - $summedvals\")\n",
    "end\n",
    "summedvals"
   ]
  },
  {
   "cell_type": "markdown",
   "metadata": {},
   "source": [
    "# PLOTS"
   ]
  },
  {
   "cell_type": "code",
   "execution_count": 1,
   "metadata": {},
   "outputs": [
    {
     "data": {
      "text/plain": [
       "54-element Array{Any,1}:\n",
       " 28637\n",
       " 28634\n",
       " 28635\n",
       " 28607\n",
       " 28539\n",
       " 28476\n",
       " 28454\n",
       " 28388\n",
       " 28295\n",
       " 28220\n",
       " 28147\n",
       " 28073\n",
       " 27952\n",
       "     ⋮\n",
       "  1835\n",
       "  1437\n",
       "  1201\n",
       "   982\n",
       "   779\n",
       "   528\n",
       "   309\n",
       "   260\n",
       "   239\n",
       "   176\n",
       "   130\n",
       "    49"
      ]
     },
     "execution_count": 1,
     "metadata": {},
     "output_type": "execute_result"
    }
   ],
   "source": [
    "wikiEvDraw = readdlm(\"wikipediaEVDraw.csv\", ',')\n",
    "col1 = wikiEvDraw[:,1]\n",
    "for i = 1:54\n",
    "    col1[i] = Dates.DateTime(col1[i], \"d u y\")\n",
    "end\n",
    "# New in 0.6\n",
    "dayssincemar22(x) = Dates.datetime2rata(x) - Dates.datetime2rata(col1[54])\n",
    "epidays = Array{Int64}(54)\n",
    "for i = 1:54\n",
    "    epidays[i] = dayssincemar22(col1[i])\n",
    "    \n",
    "end\n",
    "wikiEvDraw[:, 1] = epidays\n",
    "writedlm(\"wikipediaEVDdatesconverted.csv\", wikiEvDraw, ',')\n",
    "\n",
    "EVDdata = readdlm(\"wikipediaEVDdatesconverted.csv\", ',')\n",
    "epidays = EVDdata[:, 1]\n",
    "allcases = EVDdata[:, 2]"
   ]
  },
  {
   "cell_type": "code",
   "execution_count": 7,
   "metadata": {},
   "outputs": [],
   "source": [
    "using Plots"
   ]
  },
  {
   "cell_type": "code",
   "execution_count": 10,
   "metadata": {},
   "outputs": [
    {
     "data": {
      "text/plain": [
       "Plots.PyPlotBackend()"
      ]
     },
     "execution_count": 10,
     "metadata": {},
     "output_type": "execute_result"
    }
   ],
   "source": [
    "pyplot()"
   ]
  },
  {
   "cell_type": "code",
   "execution_count": 11,
   "metadata": {},
   "outputs": [
    {
     "data": {
      "image/png": "[encoded data removed]"
     },
     "execution_count": 11,
     "metadata": {},
     "output_type": "execute_result"
    }
   ],
   "source": [
    "plot(epidays, allcases)"
   ]
  },
  {
   "cell_type": "code",
   "execution_count": 12,
   "metadata": {},
   "outputs": [
    {
     "data": {
      "image/png": "[encoded data removed]"
     },
     "execution_count": 12,
     "metadata": {},
     "output_type": "execute_result"
    }
   ],
   "source": [
    "plot(epidays, allcases, linetype= :scatter, marker= :diamond)"
   ]
  },
  {
   "cell_type": "code",
   "execution_count": 13,
   "metadata": {},
   "outputs": [
    {
     "data": {
      "image/png": "[encoded data removed]"
     },
     "execution_count": 13,
     "metadata": {},
     "output_type": "execute_result"
    }
   ],
   "source": [
    "# New in 0.6\n",
    "plot(epidays, allcases,   # here are the data to be plotted, below are the attributes\n",
    "title       = \"RK - PLOTS - West African EVD epidemic, total cases\", \n",
    "xlabel    = \"Days since 22 March 2014\",\n",
    "ylabel    = \"Total cases to date (three countries)\",\n",
    "marker  = (:diamond, 8),  # note the use of  parentheses to group the marker attributes into a composite of attributes \n",
    "line         = (:path, \"gray\"),   # line attributes likewise put together as one unit by the use of parantheses\n",
    "legend   = false,\n",
    "grid        = false)   "
   ]
  },
  {
   "cell_type": "code",
   "execution_count": 12,
   "metadata": {},
   "outputs": [],
   "source": [
    "savefig(\"WAfricanEVD_noformatspecified-rk\")             # no extension, so plot saves it as .png  \n",
    "savefig(\"WAfricanEVD-rk.pdf\")      # Saved as a pdf\n",
    "savefig(\"WAfricanEVD-rk.png\")     # Saved png format"
   ]
  },
  {
   "cell_type": "markdown",
   "metadata": {},
   "source": [
    "\n",
    "# Multiple Curves"
   ]
  },
  {
   "cell_type": "code",
   "execution_count": 14,
   "metadata": {},
   "outputs": [
    {
     "data": {
      "text/plain": [
       "10×9 Array{Any,2}:\n",
       " 123  1201  672  427  319  249     129     525     224   \n",
       " 114   982  613  411  310  174     106     397     197   \n",
       " 102   779  481  412  305  115      75     252     101   \n",
       "  87   528  337  398  264   33      24      97      49   \n",
       "  66   309  202  281  186   12      11      16       5   \n",
       "  51   260  182  248  171   12      11        \"–\"     \"–\"\n",
       "  40   239  160  226  149   13      11        \"-\"     \"-\"\n",
       "  23   176  110  168  108    8       2        \"–\"     \"–\"\n",
       "   9   130   82  122   80    8       2        \"–\"     \"–\"\n",
       "   0    49   29   49   29     \"–\"     \"–\"     \"–\"     \"–\""
      ]
     },
     "execution_count": 14,
     "metadata": {},
     "output_type": "execute_result"
    }
   ],
   "source": [
    "EVDdata = readdlm(\"wikipediaEVDdatesconverted.csv\", ',')\n",
    "EVDdata[end-9:end, :]"
   ]
  },
  {
   "cell_type": "code",
   "execution_count": 15,
   "metadata": {},
   "outputs": [
    {
     "name": "stdout",
     "output_type": "stream",
     "text": [
      "a now has the value 0.5476736471715735\n",
      "this is quite a large value\n"
     ]
    }
   ],
   "source": [
    "a = rand()\n",
    "println(\"a now has the value $a\")\n",
    "if a > 0.5\n",
    "    println(\"this is quite a large value\")\n",
    "end"
   ]
  },
  {
   "cell_type": "code",
   "execution_count": 16,
   "metadata": {},
   "outputs": [
    {
     "name": "stdout",
     "output_type": "stream",
     "text": [
      "a now has the value 0.7153022058020175\n",
      "this is quite a large value\n",
      "a now has the value 0.9067321484697561\n",
      "this is quite a large value\n",
      "a now has the value 0.8253546236004223\n",
      "this is quite a large value\n",
      "a now has the value 0.31270700956003683\n",
      "this is quite a large value\n",
      "a now has the value 0.6578559743460275\n",
      "this is quite a large value\n",
      "a now has the value 0.6021347869714366\n",
      "this is quite a large value\n",
      "a now has the value 0.9098060168011555\n",
      "this is quite a large value\n",
      "a now has the value 0.07371432655925214\n"
     ]
    }
   ],
   "source": [
    "for k = 1:8\n",
    "    a = rand()\n",
    "    println(\"a now has the value $a\")\n",
    "    if a > 0.2\n",
    "        println(\"this is quite a large value\")\n",
    "    end\n",
    "end\n"
   ]
  },
  {
   "cell_type": "code",
   "execution_count": 17,
   "metadata": {},
   "outputs": [],
   "source": [
    "# New in 0.6\n",
    "rows, cols = size(EVDdata)\n",
    "for j = 1:cols\n",
    "    for i = 1:rows\n",
    "        if all(!isnumber, string(EVDdata[i,j]))\n",
    "            EVDdata[i,j] = 0\n",
    "        end\n",
    "    end\n",
    "end\n"
   ]
  },
  {
   "cell_type": "code",
   "execution_count": 18,
   "metadata": {},
   "outputs": [
    {
     "data": {
      "text/plain": [
       "10×9 Array{Any,2}:\n",
       " 123  1201  672  427  319  249  129  525  224\n",
       " 114   982  613  411  310  174  106  397  197\n",
       " 102   779  481  412  305  115   75  252  101\n",
       "  87   528  337  398  264   33   24   97   49\n",
       "  66   309  202  281  186   12   11   16    5\n",
       "  51   260  182  248  171   12   11    0    0\n",
       "  40   239  160  226  149   13   11    0    0\n",
       "  23   176  110  168  108    8    2    0    0\n",
       "   9   130   82  122   80    8    2    0    0\n",
       "   0    49   29   49   29    0    0    0    0"
      ]
     },
     "execution_count": 18,
     "metadata": {},
     "output_type": "execute_result"
    }
   ],
   "source": [
    "EVDdata[end-9:end, :]"
   ]
  },
  {
   "cell_type": "code",
   "execution_count": 23,
   "metadata": {},
   "outputs": [
    {
     "data": {
      "text/plain": [
       "54×3 Array{Any,2}:\n",
       " 3804  10675  14122\n",
       " 3804  10672  14122\n",
       " 3805  10672  14122\n",
       " 3810  10672  14089\n",
       " 3806  10672  14061\n",
       " 3803  10672  14001\n",
       " 3800  10672  13982\n",
       " 3805  10672  13911\n",
       " 3800  10672  13823\n",
       " 3792  10672  13756\n",
       " 3792  10672  13683\n",
       " 3792  10672  13609\n",
       " 3786  10672  13494\n",
       "    ⋮              \n",
       "  506    599    730\n",
       "  472    391    574\n",
       "  427    249    525\n",
       "  411    174    397\n",
       "  412    115    252\n",
       "  398     33     97\n",
       "  281     12     16\n",
       "  248     12      0\n",
       "  226     13      0\n",
       "  168      8      0\n",
       "  122      8      0\n",
       "   49      0      0"
      ]
     },
     "execution_count": 23,
     "metadata": {},
     "output_type": "execute_result"
    }
   ],
   "source": [
    "epidays = EVDdata[:, 1]\n",
    "EVDcasesbycountry = EVDdata[:, [4, 6, 8]]\n",
    "\n",
    "\n",
    "\n"
   ]
  },
  {
   "cell_type": "code",
   "execution_count": 21,
   "metadata": {},
   "outputs": [
    {
     "ename": "LoadError",
     "evalue": "\u001b[91mArgumentError: Module plots not found in current path.\nRun `Pkg.add(\"plots\")` to install the plots package.\u001b[39m",
     "output_type": "error",
     "traceback": [
      "\u001b[91mArgumentError: Module plots not found in current path.\nRun `Pkg.add(\"plots\")` to install the plots package.\u001b[39m",
      "",
      "Stacktrace:",
      " [1] \u001b[1m_require\u001b[22m\u001b[22m\u001b[1m(\u001b[22m\u001b[22m::Symbol\u001b[1m)\u001b[22m\u001b[22m at \u001b[1m./loading.jl:435\u001b[22m\u001b[22m",
      " [2] \u001b[1mrequire\u001b[22m\u001b[22m\u001b[1m(\u001b[22m\u001b[22m::Symbol\u001b[1m)\u001b[22m\u001b[22m at \u001b[1m./loading.jl:405\u001b[22m\u001b[22m"
     ]
    }
   ],
   "source": [
    "using plots"
   ]
  },
  {
   "cell_type": "code",
   "execution_count": 22,
   "metadata": {},
   "outputs": [
    {
     "data": {
      "text/plain": [
       "Plots.PyPlotBackend()"
      ]
     },
     "execution_count": 22,
     "metadata": {},
     "output_type": "execute_result"
    }
   ],
   "source": [
    "pyplot()"
   ]
  },
  {
   "cell_type": "code",
   "execution_count": 24,
   "metadata": {},
   "outputs": [
    {
     "data": {
      "image/png": "[encoded data removed]"
     },
     "execution_count": 24,
     "metadata": {},
     "output_type": "execute_result"
    }
   ],
   "source": [
    "plot(epidays, EVDcasesbycountry)"
   ]
  },
  {
   "cell_type": "code",
   "execution_count": 26,
   "metadata": {},
   "outputs": [
    {
     "data": {
      "image/png": "[encoded data removed]"
     },
     "execution_count": 26,
     "metadata": {},
     "output_type": "execute_result"
    }
   ],
   "source": [
    "plot(epidays, EVDcasesbycountry,\n",
    "marker = ([:octagon :star7 :square], 9),\n",
    "label = [\"Guinea\" \"Libeia\" \"Siera Leone\"],\n",
    "title = \"RK -- EVD in West Africa, epidemic segregated by country\",\n",
    "xlabel = \"Days since 22 March 2014\",\n",
    "ylabel = \"Number of cases to date\",\n",
    "line = (:scatter)    \n",
    ")"
   ]
  },
  {
   "cell_type": "code",
   "execution_count": 30,
   "metadata": {},
   "outputs": [
    {
     "data": {
      "image/png": "[encoded data removed]"
     },
     "execution_count": 30,
     "metadata": {},
     "output_type": "execute_result"
    }
   ],
   "source": [
    "plot(epidays, EVDcasesbycountry,\n",
    "legend = :right,    \n",
    "marker = ([:octagon :star7 :square], 9),\n",
    "label = [\"Guinea\" \"Libeia\" \"Siera Leone\"],\n",
    "title = \"RK -- EVD in West Africa, epidemic segregated by country\",\n",
    "xlabel = \"Days since 22 March 2014\",\n",
    "ylabel = \"Number of cases to date\",\n",
    "line = (:scatter)    \n",
    ")"
   ]
  },
  {
   "cell_type": "code",
   "execution_count": 29,
   "metadata": {},
   "outputs": [],
   "source": [
    "savefig(\"L5testfig-rk.pdf\")"
   ]
  },
  {
   "cell_type": "markdown",
   "metadata": {},
   "source": [
    "# Week 2: Practice Exercise"
   ]
  },
  {
   "cell_type": "code",
   "execution_count": 31,
   "metadata": {},
   "outputs": [
    {
     "name": "stdout",
     "output_type": "stream",
     "text": [
      "(-5, 36)\n",
      "(-4, 15)\n",
      "(-3, 0)\n",
      "(-2, -9)\n",
      "(-1, -12)\n",
      "(0, -9)\n",
      "(1, 0)\n",
      "(2, 15)\n",
      "(3, 36)\n",
      "(4, 63)\n",
      "(5, 96)\n"
     ]
    },
    {
     "data": {
      "image/png": "[encoded data removed]"
     },
     "execution_count": 31,
     "metadata": {},
     "output_type": "execute_result"
    }
   ],
   "source": [
    "f(x) = 3 * x^2 + 6 * x - 9\n",
    "for x = -5:5    \n",
    "  println(\"(\",x, \", \", f(x), \")\")\n",
    "end\n",
    "using Plots\n",
    "plot(f, -4, 3) # plot f over [-4,4]\n",
    "plot!(zero, -4, 3)"
   ]
  },
  {
   "cell_type": "code",
   "execution_count": 32,
   "metadata": {},
   "outputs": [
    {
     "data": {
      "text/plain": [
       "f (generic function with 1 method)"
      ]
     },
     "execution_count": 32,
     "metadata": {},
     "output_type": "execute_result"
    }
   ],
   "source": [
    "f(x) = 3 * x^2 + 6 * x - 9"
   ]
  },
  {
   "cell_type": "code",
   "execution_count": 34,
   "metadata": {},
   "outputs": [
    {
     "data": {
      "text/plain": [
       "36"
      ]
     },
     "execution_count": 34,
     "metadata": {},
     "output_type": "execute_result"
    }
   ],
   "source": [
    "f(3)"
   ]
  },
  {
   "cell_type": "code",
   "execution_count": 35,
   "metadata": {},
   "outputs": [
    {
     "data": {
      "text/plain": [
       "15×2 Array{Float64,2}:\n",
       " 1.68005    -1.6417  \n",
       " 0.501309   -0.977698\n",
       " 1.52801     0.527711\n",
       " 1.70012     1.71152 \n",
       " 1.99249     1.891   \n",
       " 2.70608    -0.463428\n",
       " 2.99493    -0.443567\n",
       " 3.49185    -1.27518 \n",
       " 3.50119    -0.6905  \n",
       " 4.45992    -5.51613 \n",
       " 4.93697    -6.0017  \n",
       " 5.02329    -8.36417 \n",
       " 5.04234    -7.92448 \n",
       " 5.50739   -10.7748  \n",
       " 5.56867   -10.9172  "
      ]
     },
     "execution_count": 35,
     "metadata": {},
     "output_type": "execute_result"
    }
   ],
   "source": [
    "data = [1.6800483  -1.641695388; \n",
    "        0.501309281 -0.977697538; \n",
    "        1.528012113 0.52771122;\n",
    "        1.70012253 1.711524991; \n",
    "        1.992493625 1.891000015;\n",
    "        2.706075824 -0.463427794;\n",
    "        2.994931927 -0.443566619;\n",
    "        3.491852811 -1.275179133;\n",
    "        3.501191722 -0.690499597;\n",
    "        4.459924502 -5.516130799;\n",
    "        4.936965851 -6.001703074;\n",
    "        5.023289852 -8.36416901;\n",
    "        5.04233698 -7.924477517;\n",
    "        5.50739285 -10.77482371;\n",
    "        5.568665171 -10.9171878]"
   ]
  },
  {
   "cell_type": "code",
   "execution_count": 37,
   "metadata": {},
   "outputs": [
    {
     "data": {
      "text/plain": [
       "([1.68005, 0.501309, 1.52801, 1.70012, 1.99249, 2.70608, 2.99493, 3.49185, 3.50119, 4.45992, 4.93697, 5.02329, 5.04234, 5.50739, 5.56867], [-1.6417, -0.977698, 0.527711, 1.71152, 1.891, -0.463428, -0.443567, -1.27518, -0.6905, -5.51613, -6.0017, -8.36417, -7.92448, -10.7748, -10.9172])"
      ]
     },
     "execution_count": 37,
     "metadata": {},
     "output_type": "execute_result"
    }
   ],
   "source": [
    "x, y = data[:,1], data[:, 2]"
   ]
  },
  {
   "cell_type": "code",
   "execution_count": 38,
   "metadata": {},
   "outputs": [
    {
     "data": {
      "text/plain": [
       "15-element Array{Float64,1}:\n",
       " 1.68005 \n",
       " 0.501309\n",
       " 1.52801 \n",
       " 1.70012 \n",
       " 1.99249 \n",
       " 2.70608 \n",
       " 2.99493 \n",
       " 3.49185 \n",
       " 3.50119 \n",
       " 4.45992 \n",
       " 4.93697 \n",
       " 5.02329 \n",
       " 5.04234 \n",
       " 5.50739 \n",
       " 5.56867 "
      ]
     },
     "execution_count": 38,
     "metadata": {},
     "output_type": "execute_result"
    }
   ],
   "source": [
    "x"
   ]
  },
  {
   "cell_type": "code",
   "execution_count": 39,
   "metadata": {},
   "outputs": [
    {
     "data": {
      "text/plain": [
       "15-element Array{Float64,1}:\n",
       "  -1.6417  \n",
       "  -0.977698\n",
       "   0.527711\n",
       "   1.71152 \n",
       "   1.891   \n",
       "  -0.463428\n",
       "  -0.443567\n",
       "  -1.27518 \n",
       "  -0.6905  \n",
       "  -5.51613 \n",
       "  -6.0017  \n",
       "  -8.36417 \n",
       "  -7.92448 \n",
       " -10.7748  \n",
       " -10.9172  "
      ]
     },
     "execution_count": 39,
     "metadata": {},
     "output_type": "execute_result"
    }
   ],
   "source": [
    "y"
   ]
  },
  {
   "cell_type": "code",
   "execution_count": 40,
   "metadata": {},
   "outputs": [
    {
     "data": {
      "image/png": "[encoded data removed]"
     },
     "execution_count": 40,
     "metadata": {},
     "output_type": "execute_result"
    }
   ],
   "source": [
    "plot(x, y, linetype = :scatter, leg = false)"
   ]
  },
  {
   "cell_type": "code",
   "execution_count": 42,
   "metadata": {},
   "outputs": [
    {
     "data": {
      "text/plain": [
       "20-element Array{Int64,1}:\n",
       "  1\n",
       "  2\n",
       "  3\n",
       "  4\n",
       "  5\n",
       "  6\n",
       "  7\n",
       "  8\n",
       "  9\n",
       " 10\n",
       " 11\n",
       " 12\n",
       " 13\n",
       " 14\n",
       " 15\n",
       " 16\n",
       " 17\n",
       " 18\n",
       " 19\n",
       " 20"
      ]
     },
     "execution_count": 42,
     "metadata": {},
     "output_type": "execute_result"
    }
   ],
   "source": [
    "testArray = [1,2,3,4,5,6,7,8,9,10,11,12,13,14,15,16,17,18,19,20]"
   ]
  },
  {
   "cell_type": "code",
   "execution_count": 43,
   "metadata": {},
   "outputs": [
    {
     "data": {
      "text/plain": [
       "4-element Array{Int64,1}:\n",
       " 17\n",
       " 18\n",
       " 19\n",
       " 20"
      ]
     },
     "execution_count": 43,
     "metadata": {},
     "output_type": "execute_result"
    }
   ],
   "source": [
    "testArray[end-3:end]"
   ]
  },
  {
   "cell_type": "code",
   "execution_count": 44,
   "metadata": {},
   "outputs": [
    {
     "data": {
      "image/png": "[encoded data removed]"
     },
     "execution_count": 44,
     "metadata": {},
     "output_type": "execute_result"
    }
   ],
   "source": [
    "n = 20\n",
    "x = sort(rand(20)); y = rand(20)\n",
    "Plots.scatter(x, y)"
   ]
  },
  {
   "cell_type": "code",
   "execution_count": 45,
   "metadata": {},
   "outputs": [
    {
     "ename": "LoadError",
     "evalue": "\u001b[91msyntax: incomplete: invalid string syntax\u001b[39m",
     "output_type": "error",
     "traceback": [
      "\u001b[91msyntax: incomplete: invalid string syntax\u001b[39m",
      ""
     ]
    }
   ],
   "source": [
    "plot!(x,y, legend(false), title = \"A sample plot)"
   ]
  },
  {
   "cell_type": "code",
   "execution_count": 46,
   "metadata": {},
   "outputs": [
    {
     "data": {
      "image/png": "[encoded data removed]"
     },
     "execution_count": 46,
     "metadata": {},
     "output_type": "execute_result"
    }
   ],
   "source": [
    "plot!(x,y, leg=false, title = \"A sample plot\")"
   ]
  },
  {
   "cell_type": "code",
   "execution_count": 47,
   "metadata": {},
   "outputs": [
    {
     "data": {
      "image/png": "[encoded data removed]"
     },
     "execution_count": 47,
     "metadata": {},
     "output_type": "execute_result"
    }
   ],
   "source": [
    "plot(x,y, leg=false, title = \"A sample plot\")"
   ]
  },
  {
   "cell_type": "code",
   "execution_count": 52,
   "metadata": {},
   "outputs": [
    {
     "data": {
      "image/png": "[encoded data removed]"
     },
     "execution_count": 52,
     "metadata": {},
     "output_type": "execute_result"
    }
   ],
   "source": [
    "plot!(x,y, title = \"A sample plot\")"
   ]
  },
  {
   "cell_type": "code",
   "execution_count": 53,
   "metadata": {},
   "outputs": [
    {
     "data": {
      "text/plain": [
       "\"Oct 11 2016\""
      ]
     },
     "execution_count": 53,
     "metadata": {},
     "output_type": "execute_result"
    }
   ],
   "source": [
    "my_date = \"Oct 11 2016\""
   ]
  },
  {
   "cell_type": "code",
   "execution_count": 57,
   "metadata": {},
   "outputs": [
    {
     "ename": "LoadError",
     "evalue": "\u001b[91mArgumentError: Unable to parse date time. Expected directive DatePart(m) at char 1\u001b[39m",
     "output_type": "error",
     "traceback": [
      "\u001b[91mArgumentError: Unable to parse date time. Expected directive DatePart(m) at char 1\u001b[39m",
      "",
      "Stacktrace:",
      " [1] \u001b[1mmacro expansion\u001b[22m\u001b[22m at \u001b[1m./dates/parse.jl:106\u001b[22m\u001b[22m [inlined]",
      " [2] \u001b[1mtryparsenext_core\u001b[22m\u001b[22m\u001b[1m(\u001b[22m\u001b[22m::String, ::Int64, ::Int64, ::DateFormat{Symbol(\"m d y\"),Tuple{Base.Dates.DatePart{'m'},Base.Dates.Delim{Char,1},Base.Dates.DatePart{'d'},Base.Dates.Delim{Char,1},Base.Dates.DatePart{'y'}}}, ::Bool\u001b[1m)\u001b[22m\u001b[22m at \u001b[1m./dates/parse.jl:39\u001b[22m\u001b[22m",
      " [3] \u001b[1mmacro expansion\u001b[22m\u001b[22m at \u001b[1m./dates/parse.jl:153\u001b[22m\u001b[22m [inlined]",
      " [4] \u001b[1mtryparsenext_internal\u001b[22m\u001b[22m\u001b[1m(\u001b[22m\u001b[22m::Type{DateTime}, ::String, ::Int64, ::Int64, ::DateFormat{Symbol(\"m d y\"),Tuple{Base.Dates.DatePart{'m'},Base.Dates.Delim{Char,1},Base.Dates.DatePart{'d'},Base.Dates.Delim{Char,1},Base.Dates.DatePart{'y'}}}, ::Bool\u001b[1m)\u001b[22m\u001b[22m at \u001b[1m./dates/parse.jl:129\u001b[22m\u001b[22m",
      " [5] \u001b[1mparse\u001b[22m\u001b[22m\u001b[1m(\u001b[22m\u001b[22m::Type{DateTime}, ::String, ::DateFormat{Symbol(\"m d y\"),Tuple{Base.Dates.DatePart{'m'},Base.Dates.Delim{Char,1},Base.Dates.DatePart{'d'},Base.Dates.Delim{Char,1},Base.Dates.DatePart{'y'}}}\u001b[1m)\u001b[22m\u001b[22m at \u001b[1m./dates/parse.jl:270\u001b[22m\u001b[22m",
      " [6] \u001b[1mDateTime\u001b[22m\u001b[22m\u001b[1m(\u001b[22m\u001b[22m::String, ::String\u001b[1m)\u001b[22m\u001b[22m at \u001b[1m./dates/io.jl:411\u001b[22m\u001b[22m"
     ]
    }
   ],
   "source": [
    "DateTime(my_date, \"m d y\")"
   ]
  },
  {
   "cell_type": "code",
   "execution_count": 56,
   "metadata": {},
   "outputs": [
    {
     "ename": "LoadError",
     "evalue": "\u001b[91mUndefVarError: Datetime not defined\u001b[39m",
     "output_type": "error",
     "traceback": [
      "\u001b[91mUndefVarError: Datetime not defined\u001b[39m",
      ""
     ]
    }
   ],
   "source": [
    "Datetime(my_date, \"u d y\")"
   ]
  },
  {
   "cell_type": "code",
   "execution_count": 58,
   "metadata": {},
   "outputs": [
    {
     "data": {
      "text/plain": [
       "54×9 Array{Any,2}:\n",
       " 613  28637  11314  3804  2536  10675     4808     14122     3955   \n",
       " 606  28634  11314  3804  2536  10672     4808     14122     3955   \n",
       " 599  28635  11314  3805  2536  10672     4808     14122     3955   \n",
       " 592  28607  11314  3810  2536  10672     4808     14089     3955   \n",
       " 582  28539  11298  3806  2535  10672     4808     14061     3955   \n",
       " 575  28476  11298  3803  2535  10672     4808     14001     3955   \n",
       " 568  28454  11297  3800  2534  10672     4808     13982     3955   \n",
       " 554  28388  11296  3805  2533  10672     4808     13911     3955   \n",
       " 547  28295  11295  3800  2532  10672     4808     13823     3955   \n",
       " 540  28220  11291  3792  2530  10672     4808     13756     3953   \n",
       " 533  28147  11291  3792  2530  10672     4808     13683     3953   \n",
       " 526  28073  11290  3792  2529  10672     4808     13609     3953   \n",
       " 512  27952  11284  3786  2524  10672     4808     13494     3952   \n",
       "   ⋮                                ⋮                               \n",
       " 140   1835   1011   506   373    599      323       730      315   \n",
       " 130   1437    825   472   346    391      227       574      252   \n",
       " 123   1201    672   427   319    249      129       525      224   \n",
       " 114    982    613   411   310    174      106       397      197   \n",
       " 102    779    481   412   305    115       75       252      101   \n",
       "  87    528    337   398   264     33       24        97       49   \n",
       "  66    309    202   281   186     12       11        16        5   \n",
       "  51    260    182   248   171     12       11          \"–\"      \"–\"\n",
       "  40    239    160   226   149     13       11          \"-\"      \"-\"\n",
       "  23    176    110   168   108      8        2          \"–\"      \"–\"\n",
       "   9    130     82   122    80      8        2          \"–\"      \"–\"\n",
       "   0     49     29    49    29       \"–\"      \"–\"       \"–\"      \"–\""
      ]
     },
     "execution_count": 58,
     "metadata": {},
     "output_type": "execute_result"
    }
   ],
   "source": [
    "indata = readdlm(\"wikipediaEVDdatesconverted.csv\", ',')"
   ]
  },
  {
   "cell_type": "code",
   "execution_count": 59,
   "metadata": {},
   "outputs": [
    {
     "data": {
      "text/plain": [
       "54×9 Array{Any,2}:\n",
       " 613  28637  11314  3804  2536  10675     4808     14122     3955   \n",
       " 606  28634  11314  3804  2536  10672     4808     14122     3955   \n",
       " 599  28635  11314  3805  2536  10672     4808     14122     3955   \n",
       " 592  28607  11314  3810  2536  10672     4808     14089     3955   \n",
       " 582  28539  11298  3806  2535  10672     4808     14061     3955   \n",
       " 575  28476  11298  3803  2535  10672     4808     14001     3955   \n",
       " 568  28454  11297  3800  2534  10672     4808     13982     3955   \n",
       " 554  28388  11296  3805  2533  10672     4808     13911     3955   \n",
       " 547  28295  11295  3800  2532  10672     4808     13823     3955   \n",
       " 540  28220  11291  3792  2530  10672     4808     13756     3953   \n",
       " 533  28147  11291  3792  2530  10672     4808     13683     3953   \n",
       " 526  28073  11290  3792  2529  10672     4808     13609     3953   \n",
       " 512  27952  11284  3786  2524  10672     4808     13494     3952   \n",
       "   ⋮                                ⋮                               \n",
       " 140   1835   1011   506   373    599      323       730      315   \n",
       " 130   1437    825   472   346    391      227       574      252   \n",
       " 123   1201    672   427   319    249      129       525      224   \n",
       " 114    982    613   411   310    174      106       397      197   \n",
       " 102    779    481   412   305    115       75       252      101   \n",
       "  87    528    337   398   264     33       24        97       49   \n",
       "  66    309    202   281   186     12       11        16        5   \n",
       "  51    260    182   248   171     12       11          \"–\"      \"–\"\n",
       "  40    239    160   226   149     13       11          \"-\"      \"-\"\n",
       "  23    176    110   168   108      8        2          \"–\"      \"–\"\n",
       "   9    130     82   122    80      8        2          \"–\"      \"–\"\n",
       "   0     49     29    49    29       \"–\"      \"–\"       \"–\"      \"–\""
      ]
     },
     "execution_count": 59,
     "metadata": {},
     "output_type": "execute_result"
    }
   ],
   "source": [
    "indata"
   ]
  },
  {
   "cell_type": "code",
   "execution_count": 61,
   "metadata": {},
   "outputs": [
    {
     "data": {
      "text/plain": [
       "2×5 Array{Float64,2}:\n",
       " 0.98778   0.811377  0.748779  0.549454  0.832664\n",
       " 0.319849  0.941585  0.309995  0.774754  0.24241 "
      ]
     },
     "execution_count": 61,
     "metadata": {},
     "output_type": "execute_result"
    }
   ],
   "source": [
    "newvar = readdlm(\"datafile.csv\", ',')"
   ]
  },
  {
   "cell_type": "code",
   "execution_count": 62,
   "metadata": {},
   "outputs": [],
   "source": [
    "diagsum = 0\n",
    "for k = 1:2\n",
    "  diagsum = diagsum + newvar[k,k]\n",
    "end"
   ]
  },
  {
   "cell_type": "code",
   "execution_count": 63,
   "metadata": {},
   "outputs": [
    {
     "data": {
      "text/plain": [
       "1.929365"
      ]
     },
     "execution_count": 63,
     "metadata": {},
     "output_type": "execute_result"
    }
   ],
   "source": [
    "diagsum"
   ]
  },
  {
   "cell_type": "code",
   "execution_count": 64,
   "metadata": {},
   "outputs": [
    {
     "data": {
      "text/plain": [
       "3.0605909999999996"
      ]
     },
     "execution_count": 64,
     "metadata": {},
     "output_type": "execute_result"
    }
   ],
   "source": [
    "diagsum = sum(newvar[1:2, 1:2])"
   ]
  },
  {
   "cell_type": "code",
   "execution_count": 65,
   "metadata": {},
   "outputs": [
    {
     "ename": "LoadError",
     "evalue": "\u001b[91mMethodError: objects of type Array{Float64,2} are not callable\nUse square brackets [] for indexing an Array.\u001b[39m",
     "output_type": "error",
     "traceback": [
      "\u001b[91mMethodError: objects of type Array{Float64,2} are not callable\nUse square brackets [] for indexing an Array.\u001b[39m",
      ""
     ]
    }
   ],
   "source": [
    "diagsum = newvar(1,1) + newvar(2,2)"
   ]
  },
  {
   "cell_type": "code",
   "execution_count": 66,
   "metadata": {},
   "outputs": [
    {
     "data": {
      "text/plain": [
       "1.929365"
      ]
     },
     "execution_count": 66,
     "metadata": {},
     "output_type": "execute_result"
    }
   ],
   "source": [
    "diagsum = newvar[1,1] + newvar[2,2]"
   ]
  },
  {
   "cell_type": "code",
   "execution_count": 70,
   "metadata": {},
   "outputs": [
    {
     "data": {
      "text/plain": [
       "8×12 Array{Any,2}:\n",
       " \"{\\\\rtf1\\\\ansi\\\\ansicpg1252\\\\cocoartf1561\\\\cocoasubrtf200\"                                                                                 …   \"\"      \"\"      \"\"   \"\"  \"\"     \n",
       " \"{\\\\fonttbl\\\\f0\\\\fswiss\\\\fcharset0\"                                                                                                            \"\"      \"\"      \"\"   \"\"  \"\"     \n",
       " \"{\\\\colortbl;\\\\red255\\\\green255\\\\blue255;}\"                                                                                                    \"\"      \"\"      \"\"   \"\"  \"\"     \n",
       " \"{\\\\*\\\\expandedcolortbl;;}\"                                                                                                                    \"\"      \"\"      \"\"   \"\"  \"\"     \n",
       " \"\\\\margl1440\\\\margr1440\\\\vieww10800\\\\viewh8400\\\\viewkind0\"                                                                                     \"\"      \"\"      \"\"   \"\"  \"\"     \n",
       " \"\\\\pard\\\\tx720\\\\tx1440\\\\tx2160\\\\tx2880\\\\tx3600\\\\tx4320\\\\tx5040\\\\tx5760\\\\tx6480\\\\tx7200\\\\tx7920\\\\tx8640\\\\pardirnatural\\\\partightenfactor0\"  …   \"\"      \"\"      \"\"   \"\"  \"\"     \n",
       " \"\\\\f0\\\\fs24\"                                                                                                                                   \"3.2,\"  \"7,\"   8    9    \"100\\\\\"\n",
       " \"\\\\'93Under\"                                                                                                                                  6        \"42}\"   \"\"   \"\"  \"\"     "
      ]
     },
     "execution_count": 70,
     "metadata": {},
     "output_type": "execute_result"
    }
   ],
   "source": [
    "litsamp = readdlm(\"litsampling.dat.rtf\",' ')"
   ]
  },
  {
   "cell_type": "code",
   "execution_count": 71,
   "metadata": {},
   "outputs": [
    {
     "data": {
      "text/plain": [
       "8×12 Array{Any,2}:\n",
       " \"{\\\\rtf1\\\\ansi\\\\ansicpg1252\\\\cocoartf1561\\\\cocoasubrtf200\"                                                                                 …   \"\"      \"\"      \"\"   \"\"  \"\"     \n",
       " \"{\\\\fonttbl\\\\f0\\\\fswiss\\\\fcharset0\"                                                                                                            \"\"      \"\"      \"\"   \"\"  \"\"     \n",
       " \"{\\\\colortbl;\\\\red255\\\\green255\\\\blue255;}\"                                                                                                    \"\"      \"\"      \"\"   \"\"  \"\"     \n",
       " \"{\\\\*\\\\expandedcolortbl;;}\"                                                                                                                    \"\"      \"\"      \"\"   \"\"  \"\"     \n",
       " \"\\\\margl1440\\\\margr1440\\\\vieww10800\\\\viewh8400\\\\viewkind0\"                                                                                     \"\"      \"\"      \"\"   \"\"  \"\"     \n",
       " \"\\\\pard\\\\tx720\\\\tx1440\\\\tx2160\\\\tx2880\\\\tx3600\\\\tx4320\\\\tx5040\\\\tx5760\\\\tx6480\\\\tx7200\\\\tx7920\\\\tx8640\\\\pardirnatural\\\\partightenfactor0\"  …   \"\"      \"\"      \"\"   \"\"  \"\"     \n",
       " \"\\\\f0\\\\fs24\"                                                                                                                                   \"3.2,\"  \"7,\"   8    9    \"100\\\\\"\n",
       " \"\\\\'93Under\"                                                                                                                                  6        \"42}\"   \"\"   \"\"  \"\"     "
      ]
     },
     "execution_count": 71,
     "metadata": {},
     "output_type": "execute_result"
    }
   ],
   "source": [
    "litsamp"
   ]
  },
  {
   "cell_type": "code",
   "execution_count": 72,
   "metadata": {},
   "outputs": [
    {
     "ename": "LoadError",
     "evalue": "\u001b[91mtype Array has no field size\u001b[39m",
     "output_type": "error",
     "traceback": [
      "\u001b[91mtype Array has no field size\u001b[39m",
      ""
     ]
    }
   ],
   "source": [
    "litsamp"
   ]
  },
  {
   "cell_type": "code",
   "execution_count": 73,
   "metadata": {},
   "outputs": [
    {
     "data": {
      "image/png": "[encoded data removed]"
     },
     "execution_count": 73,
     "metadata": {},
     "output_type": "execute_result"
    }
   ],
   "source": [
    "plot(epidays, EVDcasesbycountry,\n",
    "legend = :right,    \n",
    "marker = ([:octagon :star7 :square], 9),\n",
    "label = [\"Guinea\" \"Libeia\" \"Siera Leone\"],\n",
    "title = \"RK -- EVD in West Africa, epidemic segregated by country\",\n",
    "xlabel = \"Days since 22 March 2014\",\n",
    "ylabel = \"Number of cases to date\",\n",
    "line = (:scatter)    \n",
    ")"
   ]
  },
  {
   "cell_type": "code",
   "execution_count": 74,
   "metadata": {},
   "outputs": [
    {
     "data": {
      "text/plain": [
       "54×1 Array{Any,2}:\n",
       " 3804\n",
       " 3804\n",
       " 3805\n",
       " 3810\n",
       " 3806\n",
       " 3803\n",
       " 3800\n",
       " 3805\n",
       " 3800\n",
       " 3792\n",
       " 3792\n",
       " 3792\n",
       " 3786\n",
       "    ⋮\n",
       "  506\n",
       "  472\n",
       "  427\n",
       "  411\n",
       "  412\n",
       "  398\n",
       "  281\n",
       "  248\n",
       "  226\n",
       "  168\n",
       "  122\n",
       "   49"
      ]
     },
     "execution_count": 74,
     "metadata": {},
     "output_type": "execute_result"
    }
   ],
   "source": [
    "epidays = EVDdata[:, 1]\n",
    "EVDcasesbycountry = EVDdata[:, [4, 6, 8]]\n",
    "epidemic_day = EVDdata[:, 1]\n",
    "num_cases_liberia = EVDdata[:, [6]]\n",
    "num_cases_guinea = EVDdata[:, [4]]"
   ]
  },
  {
   "cell_type": "code",
   "execution_count": 75,
   "metadata": {},
   "outputs": [
    {
     "data": {
      "text/plain": [
       "54-element Array{Any,1}:\n",
       " 613\n",
       " 606\n",
       " 599\n",
       " 592\n",
       " 582\n",
       " 575\n",
       " 568\n",
       " 554\n",
       " 547\n",
       " 540\n",
       " 533\n",
       " 526\n",
       " 512\n",
       "   ⋮\n",
       " 140\n",
       " 130\n",
       " 123\n",
       " 114\n",
       " 102\n",
       "  87\n",
       "  66\n",
       "  51\n",
       "  40\n",
       "  23\n",
       "   9\n",
       "   0"
      ]
     },
     "execution_count": 75,
     "metadata": {},
     "output_type": "execute_result"
    }
   ],
   "source": [
    "epidemic_day"
   ]
  },
  {
   "cell_type": "code",
   "execution_count": 76,
   "metadata": {},
   "outputs": [
    {
     "data": {
      "text/plain": [
       "54×1 Array{Any,2}:\n",
       " 10675\n",
       " 10672\n",
       " 10672\n",
       " 10672\n",
       " 10672\n",
       " 10672\n",
       " 10672\n",
       " 10672\n",
       " 10672\n",
       " 10672\n",
       " 10672\n",
       " 10672\n",
       " 10672\n",
       "     ⋮\n",
       "   599\n",
       "   391\n",
       "   249\n",
       "   174\n",
       "   115\n",
       "    33\n",
       "    12\n",
       "    12\n",
       "    13\n",
       "     8\n",
       "     8\n",
       "     0"
      ]
     },
     "execution_count": 76,
     "metadata": {},
     "output_type": "execute_result"
    }
   ],
   "source": [
    "num_cases_liberia"
   ]
  },
  {
   "cell_type": "code",
   "execution_count": 77,
   "metadata": {},
   "outputs": [
    {
     "data": {
      "text/plain": [
       "54×1 Array{Any,2}:\n",
       " 3804\n",
       " 3804\n",
       " 3805\n",
       " 3810\n",
       " 3806\n",
       " 3803\n",
       " 3800\n",
       " 3805\n",
       " 3800\n",
       " 3792\n",
       " 3792\n",
       " 3792\n",
       " 3786\n",
       "    ⋮\n",
       "  506\n",
       "  472\n",
       "  427\n",
       "  411\n",
       "  412\n",
       "  398\n",
       "  281\n",
       "  248\n",
       "  226\n",
       "  168\n",
       "  122\n",
       "   49"
      ]
     },
     "execution_count": 77,
     "metadata": {},
     "output_type": "execute_result"
    }
   ],
   "source": [
    "num_cases_guinea"
   ]
  },
  {
   "cell_type": "code",
   "execution_count": 87,
   "metadata": {},
   "outputs": [
    {
     "data": {
      "image/png": "[encoded data removed]"
     },
     "execution_count": 87,
     "metadata": {},
     "output_type": "execute_result"
    }
   ],
   "source": [
    "plot(epidemic_day, [num_cases_liberia, num_cases_guinea])"
   ]
  },
  {
   "cell_type": "code",
   "execution_count": 79,
   "metadata": {},
   "outputs": [
    {
     "data": {
      "image/png": "[encoded data removed]"
     },
     "execution_count": 79,
     "metadata": {},
     "output_type": "execute_result"
    }
   ],
   "source": [
    "plot(epidemic_day, num_cases_liberia, num_cases_guinea)"
   ]
  },
  {
   "cell_type": "code",
   "execution_count": 80,
   "metadata": {},
   "outputs": [
    {
     "data": {
      "image/png": "[encoded data removed]"
     },
     "execution_count": 80,
     "metadata": {},
     "output_type": "execute_result"
    }
   ],
   "source": [
    "plot(epidemic_day, [num_cases_liberia; num_cases_guinea])"
   ]
  },
  {
   "cell_type": "code",
   "execution_count": 81,
   "metadata": {},
   "outputs": [
    {
     "data": {
      "image/png": "[encoded data removed]"
     },
     "execution_count": 81,
     "metadata": {},
     "output_type": "execute_result"
    }
   ],
   "source": [
    "plot(epidemic_day, num_cases_liberia); plot(epidemic_day, num_cases_guinea)"
   ]
  },
  {
   "cell_type": "code",
   "execution_count": 82,
   "metadata": {},
   "outputs": [
    {
     "data": {
      "image/png": "[encoded data removed]"
     },
     "execution_count": 82,
     "metadata": {},
     "output_type": "execute_result"
    }
   ],
   "source": [
    "plot(epidemic_day, [num_cases_liberia num_cases_guinea])"
   ]
  },
  {
   "cell_type": "code",
   "execution_count": 89,
   "metadata": {},
   "outputs": [
    {
     "ename": "LoadError",
     "evalue": "\u001b[91mcannot define function y; it already has a value\u001b[39m",
     "output_type": "error",
     "traceback": [
      "\u001b[91mcannot define function y; it already has a value\u001b[39m",
      ""
     ]
    }
   ],
   "source": [
    "x,y = 0,0\n",
    "x = collect(1:7)\n",
    "y(x) = 2 - 2x + x^2/4\n",
    "\n",
    "plot(x,y)\n",
    "plot!(x, y, marker = :diamond, linewidth=2)\n",
    "plot!(title = \"Sample plot\", leg=false)"
   ]
  },
  {
   "cell_type": "code",
   "execution_count": 90,
   "metadata": {},
   "outputs": [
    {
     "data": {
      "text/plain": [
       "7-element Array{Int64,1}:\n",
       " 1\n",
       " 2\n",
       " 3\n",
       " 4\n",
       " 5\n",
       " 6\n",
       " 7"
      ]
     },
     "execution_count": 90,
     "metadata": {},
     "output_type": "execute_result"
    }
   ],
   "source": [
    "x = collect(1:7)"
   ]
  },
  {
   "cell_type": "code",
   "execution_count": 91,
   "metadata": {},
   "outputs": [
    {
     "ename": "LoadError",
     "evalue": "\u001b[91mcannot define function y; it already has a value\u001b[39m",
     "output_type": "error",
     "traceback": [
      "\u001b[91mcannot define function y; it already has a value\u001b[39m",
      ""
     ]
    }
   ],
   "source": [
    "y(x) = 2 - 2x + x^2/4"
   ]
  },
  {
   "cell_type": "code",
   "execution_count": 92,
   "metadata": {},
   "outputs": [
    {
     "data": {
      "text/plain": [
       "0"
      ]
     },
     "execution_count": 92,
     "metadata": {},
     "output_type": "execute_result"
    }
   ],
   "source": [
    "y=0"
   ]
  },
  {
   "cell_type": "code",
   "execution_count": 93,
   "metadata": {},
   "outputs": [
    {
     "ename": "LoadError",
     "evalue": "\u001b[91mcannot define function y; it already has a value\u001b[39m",
     "output_type": "error",
     "traceback": [
      "\u001b[91mcannot define function y; it already has a value\u001b[39m",
      ""
     ]
    }
   ],
   "source": [
    "y(x) = 2 - 2x + x^2/4"
   ]
  },
  {
   "cell_type": "markdown",
   "metadata": {},
   "source": [
    "## Week 3 Honours Section\n"
   ]
  },
  {
   "cell_type": "code",
   "execution_count": 1,
   "metadata": {},
   "outputs": [
    {
     "data": {
      "text/plain": [
       "true"
      ]
     },
     "execution_count": 1,
     "metadata": {},
     "output_type": "execute_result"
    }
   ],
   "source": [
    "Number <: Any\n"
   ]
  },
  {
   "cell_type": "code",
   "execution_count": 2,
   "metadata": {},
   "outputs": [
    {
     "data": {
      "text/plain": [
       "true"
      ]
     },
     "execution_count": 2,
     "metadata": {},
     "output_type": "execute_result"
    }
   ],
   "source": [
    "Float64 <: AbstractFloat"
   ]
  },
  {
   "cell_type": "code",
   "execution_count": 3,
   "metadata": {},
   "outputs": [
    {
     "data": {
      "text/plain": [
       "297-element Array{Union{DataType, UnionAll},1}:\n",
       " AbstractArray              \n",
       " AbstractChannel            \n",
       " AbstractRNG                \n",
       " AbstractSerializer         \n",
       " AbstractSet                \n",
       " AbstractString             \n",
       " Any                        \n",
       " Associative                \n",
       " Base.AbstractCartesianIndex\n",
       " Base.AbstractCmd           \n",
       " Base.AsyncCollector        \n",
       " Base.AsyncCollectorState   \n",
       " Base.AsyncCondition        \n",
       " ⋮                          \n",
       " TypeVar                    \n",
       " UniformScaling             \n",
       " Val                        \n",
       " Vararg                     \n",
       " VecElement                 \n",
       " VersionNumber              \n",
       " Void                       \n",
       " WeakRef                    \n",
       " WorkerConfig               \n",
       " ZMQ.Context                \n",
       " ZMQ.MsgPadding             \n",
       " ZMQ.Socket                 "
      ]
     },
     "execution_count": 3,
     "metadata": {},
     "output_type": "execute_result"
    }
   ],
   "source": [
    "subtypes(Any)"
   ]
  },
  {
   "cell_type": "code",
   "execution_count": 4,
   "metadata": {},
   "outputs": [
    {
     "data": {
      "text/plain": [
       "6-element Array{Union{DataType, UnionAll},1}:\n",
       " Base.SubstitutionString\n",
       " Base.Test.GenericString\n",
       " DirectIndexString      \n",
       " RevString              \n",
       " String                 \n",
       " SubString              "
      ]
     },
     "execution_count": 4,
     "metadata": {},
     "output_type": "execute_result"
    }
   ],
   "source": [
    "subtypes(AbstractString)"
   ]
  },
  {
   "cell_type": "code",
   "execution_count": 5,
   "metadata": {},
   "outputs": [
    {
     "data": {
      "text/plain": [
       "2-element Array{Union{DataType, UnionAll},1}:\n",
       " Complex\n",
       " Real   "
      ]
     },
     "execution_count": 5,
     "metadata": {},
     "output_type": "execute_result"
    }
   ],
   "source": [
    "subtypes(Number)"
   ]
  },
  {
   "cell_type": "code",
   "execution_count": 7,
   "metadata": {},
   "outputs": [
    {
     "data": {
      "text/plain": [
       "4-element Array{Union{DataType, UnionAll},1}:\n",
       " BigFloat\n",
       " Float16 \n",
       " Float32 \n",
       " Float64 "
      ]
     },
     "execution_count": 7,
     "metadata": {},
     "output_type": "execute_result"
    }
   ],
   "source": [
    "subtypes(AbstractFloat)"
   ]
  },
  {
   "cell_type": "code",
   "execution_count": 8,
   "metadata": {},
   "outputs": [
    {
     "data": {
      "text/plain": [
       "5-element Array{Union{DataType, UnionAll},1}:\n",
       " Int128\n",
       " Int16 \n",
       " Int32 \n",
       " Int64 \n",
       " Int8  "
      ]
     },
     "execution_count": 8,
     "metadata": {},
     "output_type": "execute_result"
    }
   ],
   "source": [
    "subtypes(Signed)"
   ]
  },
  {
   "cell_type": "code",
   "execution_count": 9,
   "metadata": {},
   "outputs": [
    {
     "data": {
      "text/plain": [
       "static_local_variable (generic function with 1 method)"
      ]
     },
     "execution_count": 9,
     "metadata": {},
     "output_type": "execute_result"
    }
   ],
   "source": [
    "function static_local_variable()\n",
    "    v::Int16 = 42\n",
    "    return v\n",
    "end\n"
   ]
  },
  {
   "cell_type": "code",
   "execution_count": 10,
   "metadata": {},
   "outputs": [
    {
     "data": {
      "text/plain": [
       "42"
      ]
     },
     "execution_count": 10,
     "metadata": {},
     "output_type": "execute_result"
    }
   ],
   "source": [
    "static_local_variable()"
   ]
  },
  {
   "cell_type": "code",
   "execution_count": 11,
   "metadata": {},
   "outputs": [
    {
     "data": {
      "text/plain": [
       "Int16"
      ]
     },
     "execution_count": 11,
     "metadata": {},
     "output_type": "execute_result"
    }
   ],
   "source": [
    "typeof(ans)"
   ]
  },
  {
   "cell_type": "code",
   "execution_count": 12,
   "metadata": {},
   "outputs": [
    {
     "ename": "LoadError",
     "evalue": "\u001b[91mUndefVarError: v not defined\u001b[39m",
     "output_type": "error",
     "traceback": [
      "\u001b[91mUndefVarError: v not defined\u001b[39m",
      ""
     ]
    }
   ],
   "source": [
    "typeof(v)"
   ]
  },
  {
   "cell_type": "code",
   "execution_count": 13,
   "metadata": {},
   "outputs": [],
   "source": [
    "type Vector_2D\n",
    "    x::Float64\n",
    "    y::Float64\n",
    "end"
   ]
  },
  {
   "cell_type": "code",
   "execution_count": 14,
   "metadata": {},
   "outputs": [],
   "source": [
    "type NonComposite\n",
    "    x::Float64\n",
    "end\n"
   ]
  },
  {
   "cell_type": "code",
   "execution_count": 15,
   "metadata": {},
   "outputs": [
    {
     "data": {
      "text/plain": [
       "NonComposite(42.0)"
      ]
     },
     "execution_count": 15,
     "metadata": {},
     "output_type": "execute_result"
    }
   ],
   "source": [
    "my_non_composite = NonComposite(42)"
   ]
  },
  {
   "cell_type": "code",
   "execution_count": 16,
   "metadata": {},
   "outputs": [
    {
     "ename": "LoadError",
     "evalue": "\u001b[91mUndefVarError: typesof not defined\u001b[39m",
     "output_type": "error",
     "traceback": [
      "\u001b[91mUndefVarError: typesof not defined\u001b[39m",
      ""
     ]
    }
   ],
   "source": [
    "typesof(ans)"
   ]
  },
  {
   "cell_type": "code",
   "execution_count": null,
   "metadata": {},
   "outputs": [],
   "source": []
  }
 ],
 "metadata": {
  "kernelspec": {
   "display_name": "Julia 0.6.4",
   "language": "julia",
   "name": "julia-0.6"
  },
  "language_info": {
   "file_extension": ".jl",
   "mimetype": "application/julia",
   "name": "julia",
   "version": "0.6.4"
  }
 },
 "nbformat": 4,
 "nbformat_minor": 2
}
