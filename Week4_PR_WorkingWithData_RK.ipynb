{
 "cells": [
  {
   "cell_type": "markdown",
   "metadata": {},
   "source": [
    "# Week 4 - Working with Data"
   ]
  },
  {
   "cell_type": "markdown",
   "metadata": {},
   "source": [
    "Week 4 Peer Review - Working with Distributions and DataFrames. To help you with this task, comments are added to each cell."
   ]
  },
  {
   "cell_type": "code",
   "execution_count": 1,
   "metadata": {},
   "outputs": [],
   "source": [
    "# Import the required packages\n",
    "using Distributions, DataFrames"
   ]
  },
  {
   "cell_type": "code",
   "execution_count": 2,
   "metadata": {},
   "outputs": [],
   "source": [
    "# Seed the random number generator\n",
    "srand(1234);"
   ]
  },
  {
   "cell_type": "code",
   "execution_count": 5,
   "metadata": {},
   "outputs": [],
   "source": [
    "# Question 4: Create the 3 x 30 array named array_1\n",
    "#array_1 = \n",
    "array_1 = Array{Float64}(30,3);\n",
    "array_1[:,1] = rand(Normal(0, 1), 30);\n",
    "array_1[:,2] = rand(Normal(10, 2), 30);\n",
    "array_1[:,3] = rand(5:15, 30);"
   ]
  },
  {
   "cell_type": "code",
   "execution_count": 6,
   "metadata": {},
   "outputs": [
    {
     "name": "stdout",
     "output_type": "stream",
     "text": [
      "Column 1 mean: -0.0616749637525261 variance: 1.1790054448274625\n"
     ]
    }
   ],
   "source": [
    "# Question 5: Mean and variance of column 1\n",
    "println(\"Column 1 mean: \", mean(array_1[:,1]), \" variance: \", var(array_1[:,1]))"
   ]
  },
  {
   "cell_type": "code",
   "execution_count": 7,
   "metadata": {},
   "outputs": [
    {
     "name": "stdout",
     "output_type": "stream",
     "text": [
      "Column 2 mean: 9.58061305561334 variance: 2.9487900775367386\n"
     ]
    }
   ],
   "source": [
    "# Question 5 (continued): Mean and variance of column 2\n",
    "println(\"Column 2 mean: \", mean(array_1[:,2]), \" variance: \", var(array_1[:,2]))"
   ]
  },
  {
   "cell_type": "code",
   "execution_count": 8,
   "metadata": {},
   "outputs": [
    {
     "name": "stdout",
     "output_type": "stream",
     "text": [
      "Column 3 mean: 9.366666666666667 variance: 10.24022988505747\n"
     ]
    }
   ],
   "source": [
    "# Question 5 (continued): Mean and variance of column 3\n",
    "println(\"Column 3 mean: \", mean(array_1[:,3]), \" variance: \", var(array_1[:,3]))"
   ]
  },
  {
   "cell_type": "code",
   "execution_count": 9,
   "metadata": {},
   "outputs": [
    {
     "data": {
      "text/html": [
       "<table class=\"data-frame\"><thead><tr><th></th><th>x1</th><th>x2</th><th>x3</th></tr></thead><tbody><tr><th>1</th><td>0.867347</td><td>7.44066</td><td>6.0</td></tr><tr><th>2</th><td>-0.901744</td><td>11.9946</td><td>5.0</td></tr><tr><th>3</th><td>-0.494479</td><td>10.6048</td><td>13.0</td></tr><tr><th>4</th><td>-0.902914</td><td>9.92711</td><td>8.0</td></tr><tr><th>5</th><td>0.864401</td><td>10.2839</td><td>5.0</td></tr><tr><th>6</th><td>2.21188</td><td>11.0425</td><td>12.0</td></tr><tr><th>7</th><td>0.532813</td><td>11.7935</td><td>6.0</td></tr><tr><th>8</th><td>-0.271735</td><td>8.97294</td><td>7.0</td></tr><tr><th>9</th><td>0.502334</td><td>8.4704</td><td>8.0</td></tr><tr><th>10</th><td>-0.516984</td><td>6.91715</td><td>9.0</td></tr><tr><th>11</th><td>-0.560501</td><td>9.83968</td><td>13.0</td></tr><tr><th>12</th><td>-0.0192918</td><td>7.81756</td><td>15.0</td></tr><tr><th>13</th><td>0.128064</td><td>8.83897</td><td>12.0</td></tr><tr><th>14</th><td>1.85278</td><td>9.36913</td><td>11.0</td></tr><tr><th>15</th><td>-0.827763</td><td>7.2771</td><td>14.0</td></tr><tr><th>16</th><td>0.110096</td><td>9.77109</td><td>7.0</td></tr><tr><th>17</th><td>-0.251176</td><td>10.3317</td><td>8.0</td></tr><tr><th>18</th><td>0.369714</td><td>9.18312</td><td>12.0</td></tr><tr><th>19</th><td>0.0721164</td><td>7.98043</td><td>13.0</td></tr><tr><th>20</th><td>-1.50343</td><td>8.91239</td><td>11.0</td></tr><tr><th>21</th><td>1.56417</td><td>7.54655</td><td>6.0</td></tr><tr><th>22</th><td>-1.39674</td><td>8.91657</td><td>9.0</td></tr><tr><th>23</th><td>1.1055</td><td>8.62701</td><td>7.0</td></tr><tr><th>24</th><td>-1.10673</td><td>8.57414</td><td>9.0</td></tr><tr><th>25</th><td>-3.21136</td><td>9.34588</td><td>5.0</td></tr><tr><th>26</th><td>-0.0740145</td><td>11.0297</td><td>15.0</td></tr><tr><th>27</th><td>0.150976</td><td>14.8349</td><td>11.0</td></tr><tr><th>28</th><td>0.769278</td><td>9.38405</td><td>6.0</td></tr><tr><th>29</th><td>-0.310153</td><td>12.4906</td><td>6.0</td></tr><tr><th>30</th><td>-0.602707</td><td>9.9001</td><td>12.0</td></tr></tbody></table>"
      ],
      "text/plain": [
       "30×3 DataFrames.DataFrame\n",
       "│ Row │ x1         │ x2      │ x3   │\n",
       "├─────┼────────────┼─────────┼──────┤\n",
       "│ 1   │ 0.867347   │ 7.44066 │ 6.0  │\n",
       "│ 2   │ -0.901744  │ 11.9946 │ 5.0  │\n",
       "│ 3   │ -0.494479  │ 10.6048 │ 13.0 │\n",
       "│ 4   │ -0.902914  │ 9.92711 │ 8.0  │\n",
       "│ 5   │ 0.864401   │ 10.2839 │ 5.0  │\n",
       "│ 6   │ 2.21188    │ 11.0425 │ 12.0 │\n",
       "│ 7   │ 0.532813   │ 11.7935 │ 6.0  │\n",
       "│ 8   │ -0.271735  │ 8.97294 │ 7.0  │\n",
       "│ 9   │ 0.502334   │ 8.4704  │ 8.0  │\n",
       "│ 10  │ -0.516984  │ 6.91715 │ 9.0  │\n",
       "│ 11  │ -0.560501  │ 9.83968 │ 13.0 │\n",
       "⋮\n",
       "│ 19  │ 0.0721164  │ 7.98043 │ 13.0 │\n",
       "│ 20  │ -1.50343   │ 8.91239 │ 11.0 │\n",
       "│ 21  │ 1.56417    │ 7.54655 │ 6.0  │\n",
       "│ 22  │ -1.39674   │ 8.91657 │ 9.0  │\n",
       "│ 23  │ 1.1055     │ 8.62701 │ 7.0  │\n",
       "│ 24  │ -1.10673   │ 8.57414 │ 9.0  │\n",
       "│ 25  │ -3.21136   │ 9.34588 │ 5.0  │\n",
       "│ 26  │ -0.0740145 │ 11.0297 │ 15.0 │\n",
       "│ 27  │ 0.150976   │ 14.8349 │ 11.0 │\n",
       "│ 28  │ 0.769278   │ 9.38405 │ 6.0  │\n",
       "│ 29  │ -0.310153  │ 12.4906 │ 6.0  │\n",
       "│ 30  │ -0.602707  │ 9.9001  │ 12.0 │"
      ]
     },
     "execution_count": 9,
     "metadata": {},
     "output_type": "execute_result"
    }
   ],
   "source": [
    "# Question 6: Import array_1 into a DataFrame named df\n",
    "# df = \n",
    "df = DataFrame(array_1)"
   ]
  },
  {
   "cell_type": "code",
   "execution_count": 10,
   "metadata": {},
   "outputs": [
    {
     "data": {
      "text/html": [
       "<table class=\"data-frame\"><thead><tr><th></th><th>Var1</th><th>Var2</th><th>Var3</th></tr></thead><tbody><tr><th>1</th><td>0.867347</td><td>7.44066</td><td>6.0</td></tr><tr><th>2</th><td>-0.901744</td><td>11.9946</td><td>5.0</td></tr><tr><th>3</th><td>-0.494479</td><td>10.6048</td><td>13.0</td></tr><tr><th>4</th><td>-0.902914</td><td>9.92711</td><td>8.0</td></tr><tr><th>5</th><td>0.864401</td><td>10.2839</td><td>5.0</td></tr><tr><th>6</th><td>2.21188</td><td>11.0425</td><td>12.0</td></tr><tr><th>7</th><td>0.532813</td><td>11.7935</td><td>6.0</td></tr><tr><th>8</th><td>-0.271735</td><td>8.97294</td><td>7.0</td></tr><tr><th>9</th><td>0.502334</td><td>8.4704</td><td>8.0</td></tr><tr><th>10</th><td>-0.516984</td><td>6.91715</td><td>9.0</td></tr><tr><th>11</th><td>-0.560501</td><td>9.83968</td><td>13.0</td></tr><tr><th>12</th><td>-0.0192918</td><td>7.81756</td><td>15.0</td></tr><tr><th>13</th><td>0.128064</td><td>8.83897</td><td>12.0</td></tr><tr><th>14</th><td>1.85278</td><td>9.36913</td><td>11.0</td></tr><tr><th>15</th><td>-0.827763</td><td>7.2771</td><td>14.0</td></tr><tr><th>16</th><td>0.110096</td><td>9.77109</td><td>7.0</td></tr><tr><th>17</th><td>-0.251176</td><td>10.3317</td><td>8.0</td></tr><tr><th>18</th><td>0.369714</td><td>9.18312</td><td>12.0</td></tr><tr><th>19</th><td>0.0721164</td><td>7.98043</td><td>13.0</td></tr><tr><th>20</th><td>-1.50343</td><td>8.91239</td><td>11.0</td></tr><tr><th>21</th><td>1.56417</td><td>7.54655</td><td>6.0</td></tr><tr><th>22</th><td>-1.39674</td><td>8.91657</td><td>9.0</td></tr><tr><th>23</th><td>1.1055</td><td>8.62701</td><td>7.0</td></tr><tr><th>24</th><td>-1.10673</td><td>8.57414</td><td>9.0</td></tr><tr><th>25</th><td>-3.21136</td><td>9.34588</td><td>5.0</td></tr><tr><th>26</th><td>-0.0740145</td><td>11.0297</td><td>15.0</td></tr><tr><th>27</th><td>0.150976</td><td>14.8349</td><td>11.0</td></tr><tr><th>28</th><td>0.769278</td><td>9.38405</td><td>6.0</td></tr><tr><th>29</th><td>-0.310153</td><td>12.4906</td><td>6.0</td></tr><tr><th>30</th><td>-0.602707</td><td>9.9001</td><td>12.0</td></tr></tbody></table>"
      ],
      "text/plain": [
       "30×3 DataFrames.DataFrame\n",
       "│ Row │ Var1       │ Var2    │ Var3 │\n",
       "├─────┼────────────┼─────────┼──────┤\n",
       "│ 1   │ 0.867347   │ 7.44066 │ 6.0  │\n",
       "│ 2   │ -0.901744  │ 11.9946 │ 5.0  │\n",
       "│ 3   │ -0.494479  │ 10.6048 │ 13.0 │\n",
       "│ 4   │ -0.902914  │ 9.92711 │ 8.0  │\n",
       "│ 5   │ 0.864401   │ 10.2839 │ 5.0  │\n",
       "│ 6   │ 2.21188    │ 11.0425 │ 12.0 │\n",
       "│ 7   │ 0.532813   │ 11.7935 │ 6.0  │\n",
       "│ 8   │ -0.271735  │ 8.97294 │ 7.0  │\n",
       "│ 9   │ 0.502334   │ 8.4704  │ 8.0  │\n",
       "│ 10  │ -0.516984  │ 6.91715 │ 9.0  │\n",
       "│ 11  │ -0.560501  │ 9.83968 │ 13.0 │\n",
       "⋮\n",
       "│ 19  │ 0.0721164  │ 7.98043 │ 13.0 │\n",
       "│ 20  │ -1.50343   │ 8.91239 │ 11.0 │\n",
       "│ 21  │ 1.56417    │ 7.54655 │ 6.0  │\n",
       "│ 22  │ -1.39674   │ 8.91657 │ 9.0  │\n",
       "│ 23  │ 1.1055     │ 8.62701 │ 7.0  │\n",
       "│ 24  │ -1.10673   │ 8.57414 │ 9.0  │\n",
       "│ 25  │ -3.21136   │ 9.34588 │ 5.0  │\n",
       "│ 26  │ -0.0740145 │ 11.0297 │ 15.0 │\n",
       "│ 27  │ 0.150976   │ 14.8349 │ 11.0 │\n",
       "│ 28  │ 0.769278   │ 9.38405 │ 6.0  │\n",
       "│ 29  │ -0.310153  │ 12.4906 │ 6.0  │\n",
       "│ 30  │ -0.602707  │ 9.9001  │ 12.0 │"
      ]
     },
     "execution_count": 10,
     "metadata": {},
     "output_type": "execute_result"
    }
   ],
   "source": [
    "# Question 7: Change the names of the columns to Var1, Var2, and Var3\n",
    "rename!(df, :x1, :Var1)\n",
    "rename!(df, :x2, :Var2)\n",
    "rename!(df, :x3, :Var3)"
   ]
  },
  {
   "cell_type": "code",
   "execution_count": 11,
   "metadata": {},
   "outputs": [
    {
     "data": {
      "text/html": [
       "<table class=\"data-frame\"><thead><tr><th></th><th>Var1</th><th>Var2</th><th>Var3</th></tr></thead><tbody><tr><th>1</th><td>-0.560501</td><td>9.83968</td><td>13.0</td></tr><tr><th>2</th><td>-0.0192918</td><td>7.81756</td><td>15.0</td></tr><tr><th>3</th><td>0.128064</td><td>8.83897</td><td>12.0</td></tr><tr><th>4</th><td>1.85278</td><td>9.36913</td><td>11.0</td></tr><tr><th>5</th><td>-0.827763</td><td>7.2771</td><td>14.0</td></tr><tr><th>6</th><td>0.110096</td><td>9.77109</td><td>7.0</td></tr><tr><th>7</th><td>-0.251176</td><td>10.3317</td><td>8.0</td></tr><tr><th>8</th><td>0.369714</td><td>9.18312</td><td>12.0</td></tr><tr><th>9</th><td>0.0721164</td><td>7.98043</td><td>13.0</td></tr><tr><th>10</th><td>-1.50343</td><td>8.91239</td><td>11.0</td></tr><tr><th>11</th><td>1.56417</td><td>7.54655</td><td>6.0</td></tr><tr><th>12</th><td>-1.39674</td><td>8.91657</td><td>9.0</td></tr><tr><th>13</th><td>1.1055</td><td>8.62701</td><td>7.0</td></tr><tr><th>14</th><td>-1.10673</td><td>8.57414</td><td>9.0</td></tr><tr><th>15</th><td>-3.21136</td><td>9.34588</td><td>5.0</td></tr><tr><th>16</th><td>-0.0740145</td><td>11.0297</td><td>15.0</td></tr><tr><th>17</th><td>0.150976</td><td>14.8349</td><td>11.0</td></tr><tr><th>18</th><td>0.769278</td><td>9.38405</td><td>6.0</td></tr><tr><th>19</th><td>-0.310153</td><td>12.4906</td><td>6.0</td></tr><tr><th>20</th><td>-0.602707</td><td>9.9001</td><td>12.0</td></tr></tbody></table>"
      ],
      "text/plain": [
       "20×3 DataFrames.DataFrame\n",
       "│ Row │ Var1       │ Var2    │ Var3 │\n",
       "├─────┼────────────┼─────────┼──────┤\n",
       "│ 1   │ -0.560501  │ 9.83968 │ 13.0 │\n",
       "│ 2   │ -0.0192918 │ 7.81756 │ 15.0 │\n",
       "│ 3   │ 0.128064   │ 8.83897 │ 12.0 │\n",
       "│ 4   │ 1.85278    │ 9.36913 │ 11.0 │\n",
       "│ 5   │ -0.827763  │ 7.2771  │ 14.0 │\n",
       "│ 6   │ 0.110096   │ 9.77109 │ 7.0  │\n",
       "│ 7   │ -0.251176  │ 10.3317 │ 8.0  │\n",
       "│ 8   │ 0.369714   │ 9.18312 │ 12.0 │\n",
       "│ 9   │ 0.0721164  │ 7.98043 │ 13.0 │\n",
       "│ 10  │ -1.50343   │ 8.91239 │ 11.0 │\n",
       "│ 11  │ 1.56417    │ 7.54655 │ 6.0  │\n",
       "│ 12  │ -1.39674   │ 8.91657 │ 9.0  │\n",
       "│ 13  │ 1.1055     │ 8.62701 │ 7.0  │\n",
       "│ 14  │ -1.10673   │ 8.57414 │ 9.0  │\n",
       "│ 15  │ -3.21136   │ 9.34588 │ 5.0  │\n",
       "│ 16  │ -0.0740145 │ 11.0297 │ 15.0 │\n",
       "│ 17  │ 0.150976   │ 14.8349 │ 11.0 │\n",
       "│ 18  │ 0.769278   │ 9.38405 │ 6.0  │\n",
       "│ 19  │ -0.310153  │ 12.4906 │ 6.0  │\n",
       "│ 20  │ -0.602707  │ 9.9001  │ 12.0 │"
      ]
     },
     "execution_count": 11,
     "metadata": {},
     "output_type": "execute_result"
    }
   ],
   "source": [
    "# Question 8: Create and new DataFrame named df2 from the last 20 rows of df\n",
    "df2 = df[11:end, [:Var1, :Var2, :Var3]]"
   ]
  },
  {
   "cell_type": "code",
   "execution_count": 12,
   "metadata": {},
   "outputs": [
    {
     "data": {
      "text/html": [
       "<table class=\"data-frame\"><thead><tr><th></th><th>variable</th><th>mean</th><th>min</th><th>median</th><th>max</th><th>nunique</th><th>nmissing</th><th>eltype</th></tr></thead><tbody><tr><th>1</th><td>Var1</td><td>-0.187058</td><td>-3.21136</td><td>-0.0466532</td><td>1.85278</td><td></td><td></td><td>Float64</td></tr><tr><th>2</th><td>Var2</td><td>9.49853</td><td>7.2771</td><td>9.2645</td><td>14.8349</td><td></td><td></td><td>Float64</td></tr><tr><th>3</th><td>Var3</td><td>10.1</td><td>5.0</td><td>11.0</td><td>15.0</td><td></td><td></td><td>Float64</td></tr></tbody></table>"
      ],
      "text/plain": [
       "3×8 DataFrames.DataFrame. Omitted printing of 2 columns\n",
       "│ Row │ variable │ mean      │ min      │ median     │ max     │ nunique │\n",
       "├─────┼──────────┼───────────┼──────────┼────────────┼─────────┼─────────┤\n",
       "│ 1   │ Var1     │ -0.187058 │ -3.21136 │ -0.0466532 │ 1.85278 │         │\n",
       "│ 2   │ Var2     │ 9.49853   │ 7.2771   │ 9.2645     │ 14.8349 │         │\n",
       "│ 3   │ Var3     │ 10.1      │ 5.0      │ 11.0       │ 15.0    │         │"
      ]
     },
     "execution_count": 12,
     "metadata": {},
     "output_type": "execute_result"
    }
   ],
   "source": [
    "# Question 9: Calculate simple descriptive statistics of all the columns in df2 using the describe() function\n",
    "describe(df2)"
   ]
  },
  {
   "cell_type": "code",
   "execution_count": 13,
   "metadata": {},
   "outputs": [
    {
     "data": {
      "text/html": [
       "<table class=\"data-frame\"><thead><tr><th></th><th>Cat1</th></tr></thead><tbody><tr><th>1</th><td>GroupB</td></tr><tr><th>2</th><td>GroupB</td></tr><tr><th>3</th><td>GroupA</td></tr><tr><th>4</th><td>GroupA</td></tr><tr><th>5</th><td>GroupA</td></tr><tr><th>6</th><td>GroupA</td></tr><tr><th>7</th><td>GroupB</td></tr><tr><th>8</th><td>GroupB</td></tr><tr><th>9</th><td>GroupB</td></tr><tr><th>10</th><td>GroupB</td></tr><tr><th>11</th><td>GroupA</td></tr><tr><th>12</th><td>GroupB</td></tr><tr><th>13</th><td>GroupA</td></tr><tr><th>14</th><td>GroupB</td></tr><tr><th>15</th><td>GroupA</td></tr><tr><th>16</th><td>GroupB</td></tr><tr><th>17</th><td>GroupB</td></tr><tr><th>18</th><td>GroupA</td></tr><tr><th>19</th><td>GroupA</td></tr><tr><th>20</th><td>GroupA</td></tr></tbody></table>"
      ],
      "text/plain": [
       "20×1 DataFrames.DataFrame\n",
       "│ Row │ Cat1   │\n",
       "├─────┼────────┤\n",
       "│ 1   │ GroupB │\n",
       "│ 2   │ GroupB │\n",
       "│ 3   │ GroupA │\n",
       "│ 4   │ GroupA │\n",
       "│ 5   │ GroupA │\n",
       "│ 6   │ GroupA │\n",
       "│ 7   │ GroupB │\n",
       "│ 8   │ GroupB │\n",
       "│ 9   │ GroupB │\n",
       "│ 10  │ GroupB │\n",
       "│ 11  │ GroupA │\n",
       "│ 12  │ GroupB │\n",
       "│ 13  │ GroupA │\n",
       "│ 14  │ GroupB │\n",
       "│ 15  │ GroupA │\n",
       "│ 16  │ GroupB │\n",
       "│ 17  │ GroupB │\n",
       "│ 18  │ GroupA │\n",
       "│ 19  │ GroupA │\n",
       "│ 20  │ GroupA │"
      ]
     },
     "execution_count": 13,
     "metadata": {},
     "output_type": "execute_result"
    }
   ],
   "source": [
    "# Question 10: Add a column to df2 named Cat1 to df2 consisting of randomly selecting either the strings GroupA or GroupB\n",
    "df2[:Cat1] = DataFrame(Cat1= rand([\"GroupA\", \"GroupB\"],20))"
   ]
  },
  {
   "cell_type": "code",
   "execution_count": 22,
   "metadata": {},
   "outputs": [
    {
     "data": {
      "text/html": [
       "<table class=\"data-frame\"><thead><tr><th></th><th>A</th><th>B</th><th>C</th></tr></thead><tbody><tr><th>1</th><td>1</td><td>21</td><td>41</td></tr><tr><th>2</th><td>2</td><td>22</td><td>42</td></tr><tr><th>3</th><td>3</td><td>23</td><td>43</td></tr><tr><th>4</th><td>4</td><td>24</td><td>44</td></tr><tr><th>5</th><td>5</td><td>25</td><td>45</td></tr><tr><th>6</th><td>6</td><td>26</td><td>46</td></tr><tr><th>7</th><td>7</td><td>27</td><td>47</td></tr><tr><th>8</th><td>8</td><td>28</td><td>48</td></tr><tr><th>9</th><td>9</td><td>29</td><td>49</td></tr><tr><th>10</th><td>10</td><td>30</td><td>50</td></tr><tr><th>11</th><td>11</td><td>31</td><td>51</td></tr><tr><th>12</th><td>12</td><td>32</td><td>52</td></tr><tr><th>13</th><td>13</td><td>33</td><td>53</td></tr><tr><th>14</th><td>14</td><td>34</td><td>54</td></tr><tr><th>15</th><td>15</td><td>35</td><td>55</td></tr><tr><th>16</th><td>16</td><td>36</td><td>56</td></tr><tr><th>17</th><td>17</td><td>37</td><td>57</td></tr><tr><th>18</th><td>18</td><td>38</td><td>58</td></tr><tr><th>19</th><td>19</td><td>39</td><td>59</td></tr><tr><th>20</th><td>20</td><td>40</td><td>60</td></tr></tbody></table>"
      ],
      "text/plain": [
       "20×3 DataFrames.DataFrame\n",
       "│ Row │ A  │ B  │ C  │\n",
       "├─────┼────┼────┼────┤\n",
       "│ 1   │ 1  │ 21 │ 41 │\n",
       "│ 2   │ 2  │ 22 │ 42 │\n",
       "│ 3   │ 3  │ 23 │ 43 │\n",
       "│ 4   │ 4  │ 24 │ 44 │\n",
       "│ 5   │ 5  │ 25 │ 45 │\n",
       "│ 6   │ 6  │ 26 │ 46 │\n",
       "│ 7   │ 7  │ 27 │ 47 │\n",
       "│ 8   │ 8  │ 28 │ 48 │\n",
       "│ 9   │ 9  │ 29 │ 49 │\n",
       "│ 10  │ 10 │ 30 │ 50 │\n",
       "│ 11  │ 11 │ 31 │ 51 │\n",
       "│ 12  │ 12 │ 32 │ 52 │\n",
       "│ 13  │ 13 │ 33 │ 53 │\n",
       "│ 14  │ 14 │ 34 │ 54 │\n",
       "│ 15  │ 15 │ 35 │ 55 │\n",
       "│ 16  │ 16 │ 36 │ 56 │\n",
       "│ 17  │ 17 │ 37 │ 57 │\n",
       "│ 18  │ 18 │ 38 │ 58 │\n",
       "│ 19  │ 19 │ 39 │ 59 │\n",
       "│ 20  │ 20 │ 40 │ 60 │"
      ]
     },
     "execution_count": 22,
     "metadata": {},
     "output_type": "execute_result"
    }
   ],
   "source": [
    "# Question 11: Create a new DataFrame named df3\n",
    "df3 = DataFrame(A = 1:20, B = 21:40, C = 41:60)"
   ]
  },
  {
   "cell_type": "code",
   "execution_count": 23,
   "metadata": {},
   "outputs": [
    {
     "data": {
      "text/plain": [
       "missing"
      ]
     },
     "execution_count": 23,
     "metadata": {},
     "output_type": "execute_result"
    }
   ],
   "source": [
    "# Question 12: Change indicated values to empty entries\n",
    "\n",
    "allowmissing!(df3) \n",
    "\n",
    "# Have to use this due to the error UndefVarError: NA not defined julia DataFrame - JuliaBox 0.6.2\n",
    "# NA, NaN and \"NA\" - all of these error\n",
    "\n",
    "\n",
    "df3[10, :A] = missing # Use 'missing' instead of NA\n",
    "df3[15, :B] = missing # Use 'missing' instead of NA\n",
    "df3[19, :C] = missing # Use 'missing' instead of NA\n",
    "\n",
    "#  Ref Link to Discussion Group soln. - https://www.coursera.org/learn/julia-programming/discussions/weeks/4/threads/8_mNNpKkEei01hIZRZ5mAA"
   ]
  },
  {
   "cell_type": "code",
   "execution_count": 14,
   "metadata": {},
   "outputs": [],
   "source": [
    "# Question 13: Create DataFrame df4 that contains no rows with NaN (NA) values\n"
   ]
  },
  {
   "cell_type": "code",
   "execution_count": 19,
   "metadata": {},
   "outputs": [
    {
     "data": {
      "text/html": [
       "<table class=\"data-frame\"><thead><tr><th></th><th>A</th><th>B</th><th>C</th></tr></thead><tbody><tr><th>1</th><td>1</td><td>21</td><td>41</td></tr><tr><th>2</th><td>2</td><td>22</td><td>42</td></tr><tr><th>3</th><td>3</td><td>23</td><td>43</td></tr><tr><th>4</th><td>4</td><td>24</td><td>44</td></tr><tr><th>5</th><td>5</td><td>25</td><td>45</td></tr><tr><th>6</th><td>6</td><td>26</td><td>46</td></tr><tr><th>7</th><td>7</td><td>27</td><td>47</td></tr><tr><th>8</th><td>8</td><td>28</td><td>48</td></tr><tr><th>9</th><td>9</td><td>29</td><td>49</td></tr><tr><th>10</th><td>11</td><td>31</td><td>51</td></tr><tr><th>11</th><td>12</td><td>32</td><td>52</td></tr><tr><th>12</th><td>13</td><td>33</td><td>53</td></tr><tr><th>13</th><td>14</td><td>34</td><td>54</td></tr><tr><th>14</th><td>16</td><td>36</td><td>56</td></tr><tr><th>15</th><td>17</td><td>37</td><td>57</td></tr><tr><th>16</th><td>18</td><td>38</td><td>58</td></tr><tr><th>17</th><td>20</td><td>40</td><td>60</td></tr></tbody></table>"
      ],
      "text/plain": [
       "17×3 DataFrames.DataFrame\n",
       "│ Row │ A  │ B  │ C  │\n",
       "├─────┼────┼────┼────┤\n",
       "│ 1   │ 1  │ 21 │ 41 │\n",
       "│ 2   │ 2  │ 22 │ 42 │\n",
       "│ 3   │ 3  │ 23 │ 43 │\n",
       "│ 4   │ 4  │ 24 │ 44 │\n",
       "│ 5   │ 5  │ 25 │ 45 │\n",
       "│ 6   │ 6  │ 26 │ 46 │\n",
       "│ 7   │ 7  │ 27 │ 47 │\n",
       "│ 8   │ 8  │ 28 │ 48 │\n",
       "│ 9   │ 9  │ 29 │ 49 │\n",
       "│ 10  │ 11 │ 31 │ 51 │\n",
       "│ 11  │ 12 │ 32 │ 52 │\n",
       "│ 12  │ 13 │ 33 │ 53 │\n",
       "│ 13  │ 14 │ 34 │ 54 │\n",
       "│ 14  │ 16 │ 36 │ 56 │\n",
       "│ 15  │ 17 │ 37 │ 57 │\n",
       "│ 16  │ 18 │ 38 │ 58 │\n",
       "│ 17  │ 20 │ 40 │ 60 │"
      ]
     },
     "execution_count": 19,
     "metadata": {},
     "output_type": "execute_result"
    }
   ],
   "source": [
    "df4 = complete_cases!(df3)"
   ]
  },
  {
   "cell_type": "code",
   "execution_count": null,
   "metadata": {},
   "outputs": [],
   "source": []
  }
 ],
 "metadata": {
  "kernelspec": {
   "display_name": "Julia 0.6.2",
   "language": "julia",
   "name": "julia-0.6"
  },
  "language_info": {
   "file_extension": ".jl",
   "mimetype": "application/julia",
   "name": "julia",
   "version": "0.6.2"
  }
 },
 "nbformat": 4,
 "nbformat_minor": 1
}
